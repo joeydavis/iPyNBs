{
 "metadata": {
  "name": "MergeTTOFIsoCSVs"
 },
 "nbformat": 3,
 "nbformat_minor": 0,
 "worksheets": [
  {
   "cells": [
    {
     "cell_type": "code",
     "collapsed": false,
     "input": [
      "import qMS\n",
      "import glob\n",
      "import sys"
     ],
     "language": "python",
     "metadata": {},
     "outputs": [],
     "prompt_number": 16
    },
    {
     "cell_type": "code",
     "collapsed": false,
     "input": [
      "for i in range(3,15):\n",
      "    num = str(i)\n",
      "    string = '/home/jhdavis/JSWC_isos/all/*_'+num+'[a | b | c | d | e]_*.csv'\n",
      "    listToProcess = glob.glob(string)\n",
      "    listToProcess.sort()\n",
      "    print listToProcess\n",
      "    qMS.concatonateIsoCSVFiles(listToProcess, outFile='/home/jhdavis/JSWC_isos/all/JS_WC_'+num+'_merged_iso.csv')"
     ],
     "language": "python",
     "metadata": {},
     "outputs": [
      {
       "output_type": "stream",
       "stream": "stdout",
       "text": [
        "['/home/jhdavis/JSWC_isos/all/JS_WC_3a__iso.csv', '/home/jhdavis/JSWC_isos/all/JS_WC_3b__iso.csv', '/home/jhdavis/JSWC_isos/all/JS_WC_3c__iso.csv']\n",
        "['/home/jhdavis/JSWC_isos/all/JS_WC_4a__iso.csv', '/home/jhdavis/JSWC_isos/all/JS_WC_4b__iso.csv']"
       ]
      },
      {
       "output_type": "stream",
       "stream": "stdout",
       "text": [
        "\n",
        "['/home/jhdavis/JSWC_isos/all/JS_WC_5a__iso.csv', '/home/jhdavis/JSWC_isos/all/JS_WC_5b__iso.csv']"
       ]
      },
      {
       "output_type": "stream",
       "stream": "stdout",
       "text": [
        "\n",
        "['/home/jhdavis/JSWC_isos/all/JS_WC_6a__iso.csv', '/home/jhdavis/JSWC_isos/all/JS_WC_6b__iso.csv', '/home/jhdavis/JSWC_isos/all/JS_WC_6c__iso.csv']"
       ]
      },
      {
       "output_type": "stream",
       "stream": "stdout",
       "text": [
        "\n",
        "['/home/jhdavis/JSWC_isos/all/JS_WC_7a__iso.csv', '/home/jhdavis/JSWC_isos/all/JS_WC_7b__iso.csv', '/home/jhdavis/JSWC_isos/all/JS_WC_7c__iso.csv']"
       ]
      },
      {
       "output_type": "stream",
       "stream": "stdout",
       "text": [
        "\n",
        "['/home/jhdavis/JSWC_isos/all/JS_WC_8a__iso.csv', '/home/jhdavis/JSWC_isos/all/JS_WC_8b__iso.csv', '/home/jhdavis/JSWC_isos/all/JS_WC_8c__iso.csv']"
       ]
      },
      {
       "output_type": "stream",
       "stream": "stdout",
       "text": [
        "\n",
        "['/home/jhdavis/JSWC_isos/all/JS_WC_9a__iso.csv', '/home/jhdavis/JSWC_isos/all/JS_WC_9b__iso.csv', '/home/jhdavis/JSWC_isos/all/JS_WC_9c__iso.csv']"
       ]
      },
      {
       "output_type": "stream",
       "stream": "stdout",
       "text": [
        "\n",
        "['/home/jhdavis/JSWC_isos/all/JS_WC_10a__iso.csv', '/home/jhdavis/JSWC_isos/all/JS_WC_10b__iso.csv', '/home/jhdavis/JSWC_isos/all/JS_WC_10c__iso.csv']"
       ]
      },
      {
       "output_type": "stream",
       "stream": "stdout",
       "text": [
        "\n",
        "['/home/jhdavis/JSWC_isos/all/JS_WC_11a__iso.csv', '/home/jhdavis/JSWC_isos/all/JS_WC_11b__iso.csv', '/home/jhdavis/JSWC_isos/all/JS_WC_11c__iso.csv']"
       ]
      },
      {
       "output_type": "stream",
       "stream": "stdout",
       "text": [
        "\n",
        "['/home/jhdavis/JSWC_isos/all/JS_WC_12a__iso.csv', '/home/jhdavis/JSWC_isos/all/JS_WC_12b__iso.csv', '/home/jhdavis/JSWC_isos/all/JS_WC_12c__iso.csv']"
       ]
      },
      {
       "output_type": "stream",
       "stream": "stdout",
       "text": [
        "\n",
        "['/home/jhdavis/JSWC_isos/all/JS_WC_13a__iso.csv', '/home/jhdavis/JSWC_isos/all/JS_WC_13b__iso.csv', '/home/jhdavis/JSWC_isos/all/JS_WC_13c__iso.csv']"
       ]
      },
      {
       "output_type": "stream",
       "stream": "stdout",
       "text": [
        "\n",
        "['/home/jhdavis/JSWC_isos/all/JS_WC_14a__iso.csv', '/home/jhdavis/JSWC_isos/all/JS_WC_14b__iso.csv', '/home/jhdavis/JSWC_isos/all/JS_WC_14c__iso.csv']"
       ]
      },
      {
       "output_type": "stream",
       "stream": "stdout",
       "text": [
        "\n"
       ]
      }
     ],
     "prompt_number": 25
    },
    {
     "cell_type": "code",
     "collapsed": false,
     "input": [],
     "language": "python",
     "metadata": {},
     "outputs": [],
     "prompt_number": 19
    },
    {
     "cell_type": "code",
     "collapsed": false,
     "input": [],
     "language": "python",
     "metadata": {},
     "outputs": []
    }
   ],
   "metadata": {}
  }
 ]
}