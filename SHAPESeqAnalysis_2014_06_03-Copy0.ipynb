{
 "metadata": {
  "name": ""
 },
 "nbformat": 3,
 "nbformat_minor": 0,
 "worksheets": [
  {
   "cells": [
    {
     "cell_type": "code",
     "collapsed": false,
     "input": [
      "import pylab\n",
      "import numpy\n",
      "import scipy\n",
      "import pandas\n",
      "import HTSeq\n",
      "import itertools\n",
      "import qMS\n",
      "import vizLib\n",
      "from string import maketrans\n",
      "import NGSTools"
     ],
     "language": "python",
     "metadata": {},
     "outputs": [],
     "prompt_number": 12
    },
    {
     "cell_type": "heading",
     "level": 1,
     "metadata": {},
     "source": [
      "Define file locations"
     ]
    },
    {
     "cell_type": "code",
     "collapsed": false,
     "input": [
      "fwdReadFile = '/home/jhdavis/data/2014/2014_06_07-ShapeSeqAnalysis/data/W3/W3_TTAGGC_L001_R1_001.fastq'\n",
      "revReadFile = '/home/jhdavis/data/2014/2014_06_07-ShapeSeqAnalysis/data/W3/W3_TTAGGC_L001_R1_001.fastq'\n",
      "pList = '/home/jhdavis/data/2014/2014_06_07-ShapeSeqAnalysis/primerSeqs.txt'\n",
      "primerList = pandas.read_csv(pList, sep='\\t')\n",
      "make23S=True\n",
      "truncate=False\n",
      "saveFigs = True\n",
      "figPath = '/home/jhdavis/Dropbox/WilliamsonLab/Notebooks/ByDate/08/2014_06_09-AnalyzedShapeDataPlots/'\n",
      "figCounter=2"
     ],
     "language": "python",
     "metadata": {},
     "outputs": [],
     "prompt_number": 17
    },
    {
     "cell_type": "heading",
     "level": 1,
     "metadata": {},
     "source": [
      "Make 23SSeqs"
     ]
    },
    {
     "cell_type": "code",
     "collapsed": false,
     "input": [
      "if make23S:\n",
      "    primerList = NGSTools.generateTruncSeqs(NGSTools.rRNASeq_weeks, primerList, processItems=[17], \n",
      "                      path='/home/jhdavis/data/2014/2014_06_07-ShapeSeqAnalysis/23SSeqs/', \n",
      "                      adapterLength=30, intBarLength=6, printOutput=False)\n",
      "    primerList = NGSTools.generateTruncSeqs(NGSTools.rRNASeq_correct, primerList, processItems=None, \n",
      "                      path='/home/jhdavis/data/2014/2014_06_07-ShapeSeqAnalysis/23SSeqs/', \n",
      "                      adapterLength=30, intBarLength=3, printOutput=False)\n"
     ],
     "language": "python",
     "metadata": {},
     "outputs": [
      {
       "output_type": "stream",
       "stream": "stdout",
       "text": [
        "Error in primer 23S_728_+_1, cannot find binding location\n"
       ]
      }
     ],
     "prompt_number": 18
    },
    {
     "cell_type": "heading",
     "level": 1,
     "metadata": {},
     "source": [
      "Truncate Dataset"
     ]
    },
    {
     "cell_type": "code",
     "collapsed": false,
     "input": [
      "if truncate:\n",
      "    NGSTools.truncateReads(fwdReadFile, revReadFile, truncateLength=25)\n"
     ],
     "language": "python",
     "metadata": {},
     "outputs": [],
     "prompt_number": 19
    },
    {
     "cell_type": "heading",
     "level": 1,
     "metadata": {},
     "source": [
      "Count reads by primer"
     ]
    },
    {
     "cell_type": "code",
     "collapsed": false,
     "input": [
      "h = NGSTools.assignReadsToPrimers(primerList, fwdReadFile, revReadFile, maxHamDist=1, rtMatch=13, \n",
      "                     adapterLength=30, outputPath=None, trunc=35, writeFile=False)"
     ],
     "language": "python",
     "metadata": {},
     "outputs": [],
     "prompt_number": 20
    },
    {
     "cell_type": "code",
     "collapsed": false,
     "input": [
      "for k in h.keys():\n",
      "    print k + '\\t' + str(h[k][2]) + '\\t' + str(h[k][3]) + '\\t' + str(h[k][4]) + '\\t' + str(h[k][5]) + '\\t' + str(h[k][6]) + '\\t' + str(h[k][7])"
     ],
     "language": "python",
     "metadata": {},
     "outputs": [
      {
       "output_type": "stream",
       "stream": "stdout",
       "text": [
        "AAACTCACCCTGC\t1565404\t[821950, 732574]\t[6378, 4344]\t[156, 156]\t[4160, 6172]\t[732760, 822158]\n",
        "AAAGCCTCGTCAT\t1198567\t[600774, 590971]\t[3972, 2800]\t[50, 50]\t[2642, 3830]\t[591129, 600916]\n",
        "AAACTTCCGCGCA\t1274520\t[791933, 473719]\t[6228, 2539]\t[99, 100]\t[2413, 6006]\t[473847, 792156]\n",
        "AAACATATCAGCG\t3611384\t[2005705, 1584321]\t[13952, 7275]\t[127, 130]\t[6823, 13437]\t[1584777, 2006221]\n",
        "AAACATTAGTCGG\t674535\t[424347, 246176]\t[2763, 1216]\t[33, 31]\t[1150, 2640]\t[246242, 424472]\n",
        "AAACGAACACCAG\t811444\t[477906, 328435]\t[3428, 1626]\t[49, 49]\t[1543, 3302]\t[328518, 478032]\n",
        "AAACCTCGGGGTA\t210262\t[118817, 90046]\t[886, 501]\t[12, 12]\t[472, 854]\t[90075, 118849]\n",
        "AAAGTACCTTTTA\t1090471\t[677344, 406863]\t[4423, 1797]\t[44, 44]\t[1701, 4247]\t[406959, 677520]\n",
        "AAACCTTCCGGCA\t2647487\t[1623930, 1007379]\t[10829, 5135]\t[213, 209]\t[4859, 10429]\t[1007656, 1624335]\n",
        "AAACCTTAGGACC\t649798\t[359901, 286061]\t[2438, 1354]\t[43, 43]\t[1265, 2359]\t[286151, 359981]\n",
        "AAAATGTGATGAG\t1334542\t[551016, 775496]\t[4140, 3827]\t[63, 63]\t[3634, 4018]\t[775689, 551138]\n",
        "AAACTTTAGGAGG\t161067\t[103559, 56282]\t[858, 340]\t[28, 28]\t[322, 835]\t[56300, 103582]\n",
        "noMatch\t1655302\t[778668, 645765]\t[55591, 95534]\t[79647, 79690]\t[92074, 51591]\t[649322, 782722]\n",
        "AAATTTTTCACTC\t668466\t[329948, 334683]\t[2313, 1478]\t[43, 43]\t[1407, 2212]\t[334755, 330050]\n",
        "CCCCAACATTACT\t291214\t[128976, 160181]\t[1018, 1004]\t[35, 35]\t[956, 993]\t[160229, 129001]\n",
        "AAAGTCCCGCCCT\t552503\t[313933, 234826]\t[2431, 1269]\t[44, 43]\t[1214, 2348]\t[234881, 314017]\n",
        "AAAGGGTTGGTAA\t323058\t[157608, 163465]\t[1155, 817]\t[13, 12]\t[764, 1109]\t[163518, 157655]\n",
        "AAAAAGGTTAAGC\t1776920\t[1150926, 614752]\t[8172, 2989]\t[81, 80]\t[2805, 7864]\t[614936, 1151235]\n",
        "AAACTATAGTAAA\t1787181\t[1126614, 650290]\t[7384, 2804]\t[89, 88]\t[2618, 7049]\t[650476, 1126950]\n"
       ]
      }
     ],
     "prompt_number": 21
    },
    {
     "cell_type": "heading",
     "level": 1,
     "metadata": {},
     "source": [
      "Plot primer assignments"
     ]
    },
    {
     "cell_type": "code",
     "collapsed": false,
     "input": [
      "addNoMatch=True\n",
      "if addNoMatch:\n",
      "    primerList.loc[16,'name'] = '23S_728CG_+_1'\n",
      "    primerNames = list(primerList['name'].values)\n",
      "    primerList.loc[18] = 'noMatch'\n",
      "    primerNames.append('noMatch')"
     ],
     "language": "python",
     "metadata": {},
     "outputs": [],
     "prompt_number": 22
    },
    {
     "cell_type": "code",
     "collapsed": false,
     "input": [
      "namedHash = {}\n",
      "for k in h.keys():\n",
      "    name = primerList[primerList['rtPrimer'].str.slice(0,13) == k]['name'].values[0]\n",
      "    namedHash[name] = h[k]"
     ],
     "language": "python",
     "metadata": {},
     "outputs": [],
     "prompt_number": 23
    },
    {
     "cell_type": "code",
     "collapsed": false,
     "input": [
      "setName = 'W3'\n",
      "saveFigs=True\n",
      "vizLib.setRcs(axisLineWidth=1, legendScale=12)\n",
      "f = pylab.figure(figsize = (11, 8.5))\n",
      "a = f.add_subplot(121)\n",
      "xs = range(1, len(primerNames)+1)\n",
      "ys = [namedHash[i][2] for i in primerNames]\n",
      "a.bar(xs, ys, width=0.4, color='black', label='mapped reads')\n",
      "xs = [i+0.4 for i in xs]\n",
      "ys = [namedHash[i][3][0] + namedHash[i][3][1] for i in primerNames]\n",
      "a.bar(xs, ys, width=0.4, color='lightgrey', label='bc assigned reads')\n",
      "a.legend()\n",
      "a.set_xticks([i for i in xs])\n",
      "a.set_xticklabels(primerNames, rotation=90)\n",
      "a.set_xlim(0, len(primerNames)+2)\n",
      "a.set_ylabel('number of reads')\n",
      "a.set_xlabel('primerID')\n",
      "a.set_title(setName+'_mappedReads_ham1_rl14')\n",
      "vizLib.cleanAxis(a)\n",
      "\n",
      "b = f.add_subplot(122)\n",
      "xs = range(1, len(primerNames)+1)\n",
      "ysUpper = [namedHash[i][3][0] for i in primerNames]\n",
      "ysLower = [0-namedHash[i][3][1] for i in primerNames]\n",
      "b.bar(xs, ysUpper, width=0.8, color='black', label='RRRY reads')\n",
      "b.bar(xs, ysLower, width=0.8, color='lightgrey', label='YYYR reads')\n",
      "b.legend()\n",
      "b.set_xticks([i+0.4 for i in xs])\n",
      "b.set_xticklabels(primerNames, rotation=90)\n",
      "b.set_xlim(0, len(primerNames)+2)\n",
      "b.set_ylabel('number of reads')\n",
      "b.set_xlabel('primerID')\n",
      "b.set_title(setName+'_mappedReads_ham1_rl14')\n",
      "vizLib.cleanAxis(b)\n",
      "pylab.tight_layout()\n",
      "if saveFigs:\n",
      "    pylab.savefig(figPath+str(figCounter)+setName+'mappedReads.png', dpi=300)\n",
      "    figCounter +=1"
     ],
     "language": "python",
     "metadata": {},
     "outputs": [
      {
       "metadata": {},
       "output_type": "display_data",
       "png": "[encoded data removed]",
       "text": [
        "<matplotlib.figure.Figure at 0x7fdd67861d50>"
       ]
      }
     ],
     "prompt_number": 26
    },
    {
     "cell_type": "heading",
     "level": 1,
     "metadata": {},
     "source": [
      "Plot stop position counts"
     ]
    },
    {
     "cell_type": "code",
     "collapsed": false,
     "input": [
      "totalReads = 4000000\n",
      "counts = 0\n",
      "readPairs = itertools.izip(fastq_fileR1, fastq_fileR2)\n",
      "plusReadsR2 = []\n",
      "minusReadsR2 = []\n",
      "\n",
      "plusReadsR1 = []\n",
      "minusReadsR1 = []\n",
      "\n",
      "while counts < totalReads:\n",
      "    r1, r2 = readPairs.next()\n",
      "    code = ''.join([mapRY[str(b)] for b in r1.seq[0:4]])\n",
      "    code = code + r1.seq[4:10]\n",
      "    if code == 'RRRYAAACAA':\n",
      "        plusReadsR1.append(r1.seq)\n",
      "        plusReadsR2.append(r2.seq)\n",
      "    elif code == 'YYYRAAACAA':\n",
      "        minusReadsR1.append(r1.seq)\n",
      "        minusReadsR2.append(r2.seq)\n",
      "    counts = counts + 1 \n",
      "    \n",
      "    "
     ],
     "language": "python",
     "metadata": {},
     "outputs": [],
     "prompt_number": 26
    },
    {
     "cell_type": "code",
     "collapsed": false,
     "input": [
      "plusSeqsHash = {}\n",
      "for s in plusReadsR2:\n",
      "    try:\n",
      "        plusSeqsHash[s] = plusSeqsHash[s]+1\n",
      "    except KeyError:\n",
      "        plusSeqsHash[s] = 1\n",
      "\n",
      "minusSeqsHash = {}\n",
      "for s in minusReadsR2:\n",
      "    try:\n",
      "        minusSeqsHash[s] = minusSeqsHash[s]+1\n",
      "    except KeyError:\n",
      "        minusSeqsHash[s] = 1\n"
     ],
     "language": "python",
     "metadata": {},
     "outputs": []
    },
    {
     "cell_type": "code",
     "collapsed": false,
     "input": [
      "plusHitsIndexHash = {}\n",
      "plusMissesIndexHash = {}\n",
      "lengthRead = 20\n",
      "for s in plusSeqsHash.keys():\n",
      "    try:\n",
      "        plusHitsIndexHash[str(rRNASeqTrunc.index(s[:lengthRead]))] = plusHitsIndexHash[str(rRNASeqTrunc.index(s[:lengthRead]))] + plusSeqsHash[s]\n",
      "    except ValueError:\n",
      "        plusMissesIndexHash[s] = plusSeqsHash[s]\n",
      "    except KeyError:\n",
      "        plusHitsIndexHash[str(rRNASeqTrunc.index(s[:lengthRead]))] = plusSeqsHash[s]\n",
      "        \n",
      "minusHitsIndexHash = {}\n",
      "minusMissesIndexHash = {}\n",
      "for s in minusSeqsHash.keys():\n",
      "    try:\n",
      "        minusHitsIndexHash[str(rRNASeqTrunc.index(s[:lengthRead]))] = minusHitsIndexHash[str(rRNASeqTrunc.index(s[:lengthRead]))] + minusSeqsHash[s]\n",
      "    except ValueError:\n",
      "        minusMissesIndexHash[s] = minusSeqsHash[s]\n",
      "    except KeyError:\n",
      "        minusHitsIndexHash[str(rRNASeqTrunc.index(s[:lengthRead]))] = minusSeqsHash[s]"
     ],
     "language": "python",
     "metadata": {},
     "outputs": []
    },
    {
     "cell_type": "code",
     "collapsed": false,
     "input": [
      "locatedPlus = 0\n",
      "notLocatedPlus = 0\n",
      "for k in plusHitsIndexHash.keys():\n",
      "    locatedPlus = locatedPlus + plusHitsIndexHash[k]\n",
      "print \"locatedPlus = \" + str(locatedPlus)\n",
      "\n",
      "for k in plusMissesIndexHash.keys():\n",
      "    notLocatedPlus = notLocatedPlus + plusMissesIndexHash[k]\n",
      "print \"not locatedPlus = \" + str(notLocatedPlus)\n",
      "print \"totalPlus = \" + str(locatedPlus + notLocatedPlus)\n",
      "print \"goodToBadPlus = \" + str(locatedPlus*1.0/(locatedPlus + notLocatedPlus*1.0))\n",
      "\n",
      "locatedMinus = 0\n",
      "notLocatedMinus = 0\n",
      "for k in minusHitsIndexHash.keys():\n",
      "    locatedMinus = locatedMinus + minusHitsIndexHash[k]\n",
      "print \"locatedMinus = \" + str(locatedMinus)\n",
      "\n",
      "for k in minusMissesIndexHash.keys():\n",
      "    notLocatedMinus = notLocatedMinus + minusMissesIndexHash[k]\n",
      "print \"not locatedMinus = \" + str(notLocatedMinus)\n",
      "print \"totalMinus = \" + str(locatedMinus + notLocatedMinus)\n",
      "print \"goodToBadMinus = \" + str(locatedMinus*1.0/(locatedMinus + notLocatedMinus*1.0))"
     ],
     "language": "python",
     "metadata": {},
     "outputs": []
    },
    {
     "cell_type": "code",
     "collapsed": false,
     "input": [
      "f = pylab.figure(figsize = (30, 10))\n",
      "a = f.add_subplot(211)\n",
      "a.bar([int(i) for i in qMS.sort_nicely(plusHitsIndexHash.keys())], [plusHitsIndexHash[i] for i in qMS.sort_nicely(plusHitsIndexHash.keys())], align='center', edgecolor = \"none\", color='red')\n",
      "low = 300\n",
      "high = 750\n",
      "interval = 10\n",
      "a.set_xlim(low, high)\n",
      "a.set_xticks(numpy.linspace(low, high, (high-low+1)/(interval)+1))\n",
      "a.set_ylim(0, 120000)\n",
      "\n",
      "b = f.add_subplot(212)\n",
      "b.bar([int(i) for i in qMS.sort_nicely(minusHitsIndexHash.keys())], [minusHitsIndexHash[i] for i in qMS.sort_nicely(minusHitsIndexHash.keys())], align='center', edgecolor = \"none\", color='blue')\n",
      "low = 300\n",
      "high = 750\n",
      "interval = 10\n",
      "b.set_xlim(low, high)\n",
      "b.set_xticks(numpy.linspace(low, high, (high-low+1)/(interval)+1))\n",
      "b.set_ylim(0, 120000)\n",
      "\n",
      "pylab.tight_layout()"
     ],
     "language": "python",
     "metadata": {},
     "outputs": []
    },
    {
     "cell_type": "code",
     "collapsed": false,
     "input": [
      "plusMed = numpy.median([plusHitsIndexHash[i] for i in qMS.sort_nicely(plusHitsIndexHash.keys())])\n",
      "minusMed = numpy.median([minusHitsIndexHash[i] for i in qMS.sort_nicely(minusHitsIndexHash.keys())])\n",
      "f = pylab.figure(figsize = (30, 10))\n",
      "a = f.add_subplot(211)\n",
      "a.bar([int(i) for i in qMS.sort_nicely(plusHitsIndexHash.keys())], [plusHitsIndexHash[i]/plusMed for i in qMS.sort_nicely(plusHitsIndexHash.keys())], align='center', edgecolor = \"none\", color='red')\n",
      "low = 300\n",
      "high = 750\n",
      "interval = 10\n",
      "a.set_xlim(low, high)\n",
      "a.set_xticks(numpy.linspace(low, high, (high-low+1)/(interval)+1))\n",
      "#a.set_ylim(0, 120000)\n",
      "\n",
      "b = f.add_subplot(212)\n",
      "b.bar([int(i) for i in qMS.sort_nicely(minusHitsIndexHash.keys())], [minusHitsIndexHash[i]/minusMed for i in qMS.sort_nicely(minusHitsIndexHash.keys())], align='center', edgecolor = \"none\", color='blue')\n",
      "low = 300\n",
      "high = 750\n",
      "interval = 10\n",
      "b.set_xlim(low, high)\n",
      "b.set_xticks(numpy.linspace(low, high, (high-low+1)/(interval)+1))\n",
      "#b.set_ylim(0, 120000)\n",
      "\n",
      "pylab.tight_layout()"
     ],
     "language": "python",
     "metadata": {},
     "outputs": []
    },
    {
     "cell_type": "code",
     "collapsed": false,
     "input": [
      "plusMax = numpy.max([plusHitsIndexHash[i] for i in qMS.sort_nicely(plusHitsIndexHash.keys())])*1.0\n",
      "minusMax = numpy.max([minusHitsIndexHash[i] for i in qMS.sort_nicely(minusHitsIndexHash.keys())])*1.0\n",
      "f = pylab.figure(figsize = (30, 10))\n",
      "a = f.add_subplot(211)\n",
      "a.bar([int(i) for i in qMS.sort_nicely(plusHitsIndexHash.keys())], [plusHitsIndexHash[i]/(locatedPlus*1.0) for i in qMS.sort_nicely(plusHitsIndexHash.keys())], align='center', edgecolor = \"none\", color='red')\n",
      "low = 300\n",
      "high = 750\n",
      "interval = 10\n",
      "a.set_xlim(low, high)\n",
      "a.set_xticks(numpy.linspace(low, high, (high-low+1)/(interval)+1))\n",
      "#a.set_ylim(0, 120000)\n",
      "\n",
      "b = f.add_subplot(212)\n",
      "b.bar([int(i) for i in qMS.sort_nicely(minusHitsIndexHash.keys())], [minusHitsIndexHash[i]/(locatedMinus*1.0) for i in qMS.sort_nicely(minusHitsIndexHash.keys())], align='center', edgecolor = \"none\", color='blue')\n",
      "low = 300\n",
      "high = 750\n",
      "interval = 10\n",
      "b.set_xlim(low, high)\n",
      "b.set_xticks(numpy.linspace(low, high, (high-low+1)/(interval)+1))\n",
      "#b.set_ylim(0, 120000)\n",
      "\n",
      "pylab.tight_layout()"
     ],
     "language": "python",
     "metadata": {},
     "outputs": []
    },
    {
     "cell_type": "code",
     "collapsed": false,
     "input": [
      "plusNorm = [plusHitsIndexHash[str(i)]/(locatedPlus*1.0) for i in range(500, 700)]\n",
      "minusNorm = [minusHitsIndexHash[str(i)]/(locatedMinus*1.0) for i in range(500, 700)]"
     ],
     "language": "python",
     "metadata": {},
     "outputs": []
    },
    {
     "cell_type": "code",
     "collapsed": false,
     "input": [
      "ratio = [minusNorm[i]/plusNorm[i] for i in range(len(minusNorm))]"
     ],
     "language": "python",
     "metadata": {},
     "outputs": []
    },
    {
     "cell_type": "code",
     "collapsed": false,
     "input": [
      "f = pylab.figure(figsize = (30, 10))\n",
      "a = f.add_subplot(111)\n",
      "a.bar([int(i) for i in range(500,700)], ratio, align='center', edgecolor = \"none\", color='red')\n",
      "low = 500\n",
      "high = 700\n",
      "interval = 10\n",
      "a.set_xlim(low, high)\n",
      "a.set_xticks(numpy.linspace(low, high, (high-low+1)/(interval)+1))\n",
      "pylab.tight_layout()"
     ],
     "language": "python",
     "metadata": {},
     "outputs": []
    },
    {
     "cell_type": "code",
     "collapsed": false,
     "input": [],
     "language": "python",
     "metadata": {},
     "outputs": []
    },
    {
     "cell_type": "code",
     "collapsed": false,
     "input": [],
     "language": "python",
     "metadata": {},
     "outputs": []
    },
    {
     "cell_type": "code",
     "collapsed": false,
     "input": [],
     "language": "python",
     "metadata": {},
     "outputs": []
    }
   ],
   "metadata": {}
  }
 ]
}