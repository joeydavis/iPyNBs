{
 "metadata": {
  "name": "genDataPoints"
 }, 
 "nbformat": 2, 
 "worksheets": [
  {
   "cells": [
    {
     "cell_type": "code", 
     "collapsed": true, 
     "input": [
      "import numpy", 
      "import scipy", 
      "import matplotlib", 
      "import math", 
      "import random"
     ], 
     "language": "python", 
     "outputs": [], 
     "prompt_number": 13
    }, 
    {
     "cell_type": "code", 
     "collapsed": true, 
     "input": [
      "numLargeGroups = int(math.floor(random.random()*5+2))", 
      "numLargeGroups = 4"
     ], 
     "language": "python", 
     "outputs": [], 
     "prompt_number": 14
    }, 
    {
     "cell_type": "code", 
     "collapsed": false, 
     "input": [
      "def makePoints(numPoints, center, spread):", 
      "    return [[center[0]+(random.random()-1)*spread, center[1]+(random.random()-1)*spread] for i in xrange(numPoints)]"
     ], 
     "language": "python", 
     "outputs": [], 
     "prompt_number": 26
    }, 
    {
     "cell_type": "code", 
     "collapsed": false, 
     "input": [
      "lCenters = makePoints(numLargeGroups, [50,50], 50)", 
      "print lCenters", 
      "xs = [x[0] for x in lCenters]", 
      "ys = [x[1] for x in lCenters]", 
      "pylab.scatter(xs, ys)"
     ], 
     "language": "python", 
     "outputs": [
      {
       "output_type": "stream", 
       "stream": "stdout", 
       "text": [
        "[[14.544495139692728, 5.732986088105811], [24.12187104746191, 0.8447369290986444], [33.33787050388733, 42.99774087209647], [5.392486166036676, 1.4647507307481291]]"
       ]
      }, 
      {
       "output_type": "pyout", 
       "prompt_number": 27, 
       "text": [
        "<matplotlib.collections.PathCollection at 0x68e8d10>"
       ]
      }
     ], 
     "prompt_number": 27
    }, 
    {
     "cell_type": "code", 
     "collapsed": false, 
     "input": [
      "dataPoints = []", 
      "avgSubGroups = 10", 
      "subGroupSpread = 5", 
      "", 
      "avgNumPoints = 10", 
      "pointSpread = 1", 
      "", 
      "sCenters = [makePoints(", 
      "for i in lCenters:", 
      "    numSmallGroups = int(math.floor(random.random()*avgSubGroups)+1)", 
      "    sCenters = makePoints(numSmallGroups, i, subGroupSpread)", 
      "    numPointsAtCenter = int(math.floor(random.random()*avgNumPoints+1))", 
      "    for j in sCenters:", 
      "        dataPoints.append(makePoints(numPointsAtCenter, j, pointSpread))", 
      "print dataPoints"
     ], 
     "language": "python", 
     "outputs": [
      {
       "output_type": "stream", 
       "stream": "stdout", 
       "text": [
        "[[[12.406477822975706, 28.86459868389185], [12.566960659704964, 28.656602303334697], [12.400789561463146, 28.397903074320862], [12.874639228724535, 28.040630790293356], [12.476393492281401, 28.299016215980508], [12.535573662675793, 28.81262840008436], [13.145232540900007, 28.72047365540915], [12.44274760634313, 28.262806366072226]], [[14.235047992791653, 26.351029668506655], [14.291915258019372, 26.566455777821833], [14.156218745424269, 27.2707739267879], [14.163039860613036, 26.743925583595146], [14.18097404375676, 26.354707078691195], [14.209466013225427, 26.64400062399645], [13.909519810478473, 26.599614102967752], [14.232165363499725, 26.59078571292976]], [[38.173958085927744, 28.222618772162054], [37.930272647075896, 27.68130953913178], [37.30038057142816, 27.663669366475013]], [[-4.32310157896768, 22.421134335170912], [-4.1760546897070325, 21.643488028791]], [[-0.6272810775106328, 21.570081820146775], [-0.7838777994331291, 21.69939112692019]], [[-0.5343582606549678, 25.343624506262916], [-0.4723763698408405, 25.876121720838675]], [[-3.0318887861146115, 24.871070843640133], [-3.132773324821045, 24.0263856765794]], [[-4.76396032565383, 23.224103901453184], [-4.060429455204535, 23.002070908190433]], [[-3.8245686997456567, 21.30825053283354], [-4.315485665297812, 21.11395194361289]], [[-1.9968528031003983, 23.634220663171867], [-2.2114550551083205, 23.819913559259337]], [[11.847912874875894, 45.29444433822258], [11.944736998136053, 45.28944397091881], [11.288825648428457, 45.40218615195871], [11.457363267488267, 45.460141027710804]], [[10.872321660668694, 45.50638130922863], [11.214740440193186, 45.474155825692634], [10.44920958565904, 45.377543570313925], [10.891208257149835, 45.96598792385741]], [[11.009318210349413, 45.820000237962084], [11.051363860204022, 45.66159525681092], [11.226614029571978, 44.966188874531326], [11.84727748608969, 45.20298295957352]], [[12.094674594956894, 47.8909278876909], [12.268686772447852, 48.154869695668026], [12.3057250268889, 48.25694216528839], [12.278120642353159, 47.71549824048522]], [[10.657687105439992, 47.33055157673765], [10.441392051663891, 46.84845731433044], [10.826491807783798, 46.682479969198], [10.956284403100083, 46.76637785904157]], [[10.109405617273929, 44.029636105213136], [9.505931817157668, 44.353137077019014], [9.365611259033603, 44.2876965613828], [10.222232829789661, 44.30412925006535]], [[9.350521021596325, 48.702179530587316], [9.248169234435993, 48.372682580757925], [9.597401896208858, 48.251517700034626], [9.377211611917389, 48.85671413352516]]]"
       ]
      }
     ], 
     "prompt_number": 22
    }, 
    {
     "cell_type": "code", 
     "collapsed": false, 
     "input": [
      "xs = [x[0] for x in dataPoints]", 
      "ys = [x[1] for x in dataPoints]"
     ], 
     "language": "python", 
     "outputs": [
      {
       "ename": "IndexError", 
       "evalue": "list index out of range", 
       "output_type": "pyerr", 
       "traceback": [
        "\u001b[0;31m---------------------------------------------------------------------------\u001b[0m\n\u001b[0;31mIndexError\u001b[0m                                Traceback (most recent call last)", 
        "\u001b[0;32m/home/jhdavis/scripts/python/gapR/<ipython-input-21-c370dbccf477>\u001b[0m in \u001b[0;36m<module>\u001b[0;34m()\u001b[0m\n\u001b[1;32m      1\u001b[0m \u001b[0mxs\u001b[0m \u001b[0;34m=\u001b[0m \u001b[0;34m[\u001b[0m\u001b[0mx\u001b[0m\u001b[0;34m[\u001b[0m\u001b[0;36m0\u001b[0m\u001b[0;34m]\u001b[0m \u001b[0;32mfor\u001b[0m \u001b[0mx\u001b[0m \u001b[0;32min\u001b[0m \u001b[0mdataPoints\u001b[0m\u001b[0;34m]\u001b[0m\u001b[0;34m\u001b[0m\u001b[0m\n\u001b[0;32m----> 2\u001b[0;31m \u001b[0mys\u001b[0m \u001b[0;34m=\u001b[0m \u001b[0;34m[\u001b[0m\u001b[0mx\u001b[0m\u001b[0;34m[\u001b[0m\u001b[0;36m1\u001b[0m\u001b[0;34m]\u001b[0m \u001b[0;32mfor\u001b[0m \u001b[0mx\u001b[0m \u001b[0;32min\u001b[0m \u001b[0mdataPoints\u001b[0m\u001b[0;34m]\u001b[0m\u001b[0;34m\u001b[0m\u001b[0m\n\u001b[0m", 
        "\u001b[0;31mIndexError\u001b[0m: list index out of range"
       ]
      }
     ], 
     "prompt_number": 21
    }, 
    {
     "cell_type": "code", 
     "collapsed": false, 
     "input": [
      "pylab.scatter(xs, ys)"
     ], 
     "language": "python", 
     "outputs": [
      {
       "output_type": "pyout", 
       "prompt_number": 125, 
       "text": [
        "<matplotlib.collections.PathCollection at 0x4d0fa50>"
       ]
      }
     ], 
     "prompt_number": 125
    }, 
    {
     "cell_type": "code", 
     "collapsed": true, 
     "input": [], 
     "language": "python", 
     "outputs": []
    }
   ]
  }
 ]
}