{
 "metadata": {
  "name": "renameFilesTemplate"
 },
 "nbformat": 3,
 "nbformat_minor": 0,
 "worksheets": [
  {
   "cells": [
    {
     "cell_type": "code",
     "collapsed": false,
     "input": [
      "import os\n",
      "import glob\n",
      "import qMS\n",
      "import shutil"
     ],
     "language": "python",
     "metadata": {},
     "outputs": [],
     "prompt_number": 43
    },
    {
     "cell_type": "code",
     "collapsed": false,
     "input": [
      "wtS1 = [34, 36, 38, 40, 42, 44, 46, 48, 50, 52, 54, 56, 58, 62]\n",
      "hr1S1 = [30, 32, 34, 36, 38, 40, 42, 44, 46, 48, 50, 52, 54, 58]\n",
      "hr6S1 = [31, 33, 35, 37, 39, 41, 43, 45, 47, 49, 51, 60]\n",
      "\n",
      "wtS2 = [32, 33, 35, 37, 39, 41, 43, 45, 47, 49, 51, 53, 55, 57, 60]\n",
      "hr1S2 = [28, 29, 31, 33, 35, 37, 39, 41, 43, 45, 47, 49, 51, 53, 56]\n",
      "hr6S2 = [29, 30, 32, 34, 36, 38, 40, 42, 44, 46, 48, 50, 52, 53, 54, 55, 57]"
     ],
     "language": "python",
     "metadata": {},
     "outputs": [],
     "prompt_number": 40
    },
    {
     "cell_type": "code",
     "collapsed": false,
     "input": [
      "wtS1Path = '/home/jhdavis/JStokes/2014_01_15-JStokesTTOFGradientAllMascot/spectralCounts/wt/'\n",
      "hr1S1Path = '/home/jhdavis/JStokes/2014_01_15-JStokesTTOFGradientAllMascot/spectralCounts/1hr/'\n",
      "hr6S1Path = '/home/jhdavis/JStokes/2014_01_15-JStokesTTOFGradientAllMascot/spectralCounts/6hr/'\n",
      "\n",
      "wtS2Path = '/home/jhdavis/JStokes/2014_01_15-JStokesTTOFGradientAllMascot/spectralCounts/wt/'\n",
      "hr1S2Path = '/home/jhdavis/JStokes/2014_01_15-JStokesTTOFGradientAllMascot/spectralCounts/1hr/'\n",
      "hr6S2Path = '/home/jhdavis/JStokes/2014_01_15-JStokesTTOFGradientAllMascot/spectralCounts/6hr/'"
     ],
     "language": "python",
     "metadata": {},
     "outputs": [],
     "prompt_number": 41
    },
    {
     "cell_type": "code",
     "collapsed": false,
     "input": [
      "wtS1Files = qMS.sort_nicely(glob.glob(wtS1Path+'*js*.csv*'))\n",
      "newFilePath = '/home/jhdavis/JStokes/2014_01_15-JStokesTTOFGradientAllMascot/spectralCounts/'\n",
      "for i,n in enumerate(wtS1Files):\n",
      "    #print str(wtS1[i]) + ' : ' + n\n",
      "    shutil.copy(n, newFilePath+'wt'+str(wtS1[i])+'.csv')"
     ],
     "language": "python",
     "metadata": {},
     "outputs": [],
     "prompt_number": 44
    },
    {
     "cell_type": "code",
     "collapsed": false,
     "input": [
      "wtS2Files = qMS.sort_nicely(glob.glob(wtS2Path+'*ls*.csv*'))\n",
      "newFilePath = '/home/jhdavis/JStokes/2014_01_15-JStokesTTOFGradientAllMascot/spectralCounts/'\n",
      "for i,n in enumerate(wtS2Files):\n",
      "    #print str(wtS2[i]) + ' : ' + n\n",
      "    shutil.copy(n, newFilePath+'wt'+str(wtS2[i])+'.csv')"
     ],
     "language": "python",
     "metadata": {},
     "outputs": [],
     "prompt_number": 45
    },
    {
     "cell_type": "code",
     "collapsed": false,
     "input": [
      "hr1S1Files = qMS.sort_nicely(glob.glob(hr1S2Path+'*js*.csv*'))\n",
      "newFilePath = '/home/jhdavis/JStokes/2014_01_15-JStokesTTOFGradientAllMascot/spectralCounts/'\n",
      "for i,n in enumerate(hr1S1Files):\n",
      "    #print str(hr1S1[i]) + ' : ' + n\n",
      "    shutil.copy(n, newFilePath+'1hr'+str(hr1S1[i])+'.csv')"
     ],
     "language": "python",
     "metadata": {},
     "outputs": [],
     "prompt_number": 47
    },
    {
     "cell_type": "code",
     "collapsed": false,
     "input": [
      "hr1S2Files = qMS.sort_nicely(glob.glob(hr1S2Path+'*ls*.csv*'))\n",
      "newFilePath = '/home/jhdavis/JStokes/2014_01_15-JStokesTTOFGradientAllMascot/spectralCounts/'\n",
      "for i,n in enumerate(hr1S2Files):\n",
      "    #print str(hr1S2[i]) + ' : ' + n\n",
      "    shutil.copy(n, newFilePath+'1hr'+str(hr1S2[i])+'.csv')"
     ],
     "language": "python",
     "metadata": {},
     "outputs": [],
     "prompt_number": 48
    },
    {
     "cell_type": "code",
     "collapsed": false,
     "input": [
      "hr6S1Files = qMS.sort_nicely(glob.glob(hr6S1Path+'*js*.csv*'))\n",
      "newFilePath = '/home/jhdavis/JStokes/2014_01_15-JStokesTTOFGradientAllMascot/spectralCounts/'\n",
      "for i,n in enumerate(hr6S1Files):\n",
      "    #print str(hr6S1[i]) + ' : ' + n\n",
      "    shutil.copy(n, newFilePath+'6hr'+str(hr6S1[i])+'.csv')"
     ],
     "language": "python",
     "metadata": {},
     "outputs": [],
     "prompt_number": 49
    },
    {
     "cell_type": "code",
     "collapsed": false,
     "input": [
      "hr6S2Files = qMS.sort_nicely(glob.glob(hr6S2Path+'*ls*.csv*'))\n",
      "newFilePath = '/home/jhdavis/JStokes/2014_01_15-JStokesTTOFGradientAllMascot/spectralCounts/'\n",
      "for i,n in enumerate(hr6S2Files):\n",
      "    #print str(hr6S2[i]) + ' : ' + n\n",
      "    shutil.copy(n, newFilePath+'6hr'+str(hr6S2[i])+'.csv')"
     ],
     "language": "python",
     "metadata": {},
     "outputs": [],
     "prompt_number": 50
    },
    {
     "cell_type": "code",
     "collapsed": false,
     "input": [],
     "language": "python",
     "metadata": {},
     "outputs": []
    }
   ],
   "metadata": {}
  }
 ]
}