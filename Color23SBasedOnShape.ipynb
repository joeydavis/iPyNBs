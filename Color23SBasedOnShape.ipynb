{
 "metadata": {
  "name": "Color23SBasedOnShape"
 },
 "nbformat": 3,
 "nbformat_minor": 0,
 "worksheets": [
  {
   "cells": [
    {
     "cell_type": "code",
     "collapsed": false,
     "input": [
      "import pylab\n",
      "import numpy\n",
      "import pandas\n",
      "import csv"
     ],
     "language": "python",
     "metadata": {},
     "outputs": [],
     "prompt_number": 17
    },
    {
     "cell_type": "code",
     "collapsed": false,
     "input": [
      "rawFileName = '/home/jhdavis/Downloads/23S_black.ps'\n",
      "outFileName = '/home/jhdavis/Downloads/23S_colored_jhd.ps'"
     ],
     "language": "python",
     "metadata": {},
     "outputs": [],
     "prompt_number": 18
    },
    {
     "cell_type": "code",
     "collapsed": false,
     "input": [
      "rawFile = open(rawFileName, 'r')\n",
      "outFile = open(outFileName, 'w')"
     ],
     "language": "python",
     "metadata": {},
     "outputs": [],
     "prompt_number": 19
    },
    {
     "cell_type": "code",
     "collapsed": false,
     "input": [
      "allLines = rawFile.readlines()"
     ],
     "language": "python",
     "metadata": {},
     "outputs": [],
     "prompt_number": 20
    },
    {
     "cell_type": "code",
     "collapsed": false,
     "input": [
      "lineNumber = 0\n",
      "for line in allLines:\n",
      "    if '%start_sequence' in line:\n",
      "        startLineNumber = lineNumber\n",
      "        break\n",
      "    lineNumber = lineNumber+1\n",
      "        \n",
      "print startLineNumber\n",
      "print allLines[startLineNumber]\n",
      "    \n",
      "    \n",
      "    "
     ],
     "language": "python",
     "metadata": {},
     "outputs": [
      {
       "output_type": "stream",
       "stream": "stdout",
       "text": [
        "2386\n",
        "%start_sequence\r\n",
        "\n"
       ]
      }
     ],
     "prompt_number": 36
    },
    {
     "cell_type": "code",
     "collapsed": false,
     "input": [],
     "language": "python",
     "metadata": {},
     "outputs": []
    }
   ],
   "metadata": {}
  }
 ]
}