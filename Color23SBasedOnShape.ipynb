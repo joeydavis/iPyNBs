{
 "metadata": {
  "name": ""
 },
 "nbformat": 3,
 "nbformat_minor": 0,
 "worksheets": [
  {
   "cells": [
    {
     "cell_type": "code",
     "collapsed": true,
     "input": [
      "import pylab\n",
      "import numpy\n",
      "import pandas\n",
      "import csv\n",
      "import os"
     ],
     "language": "python",
     "metadata": {},
     "outputs": [],
     "prompt_number": 1
    },
    {
     "cell_type": "code",
     "collapsed": false,
     "input": [
      "rawFileName = '/home/jhdavis/data/2014/2014_06_07-ShapeSeqAnalysis/23SSeqs/23S_black.ps'\n",
      "outFileName = '/home/jhdavis/data/2014/2014_06_07-ShapeSeqAnalysis/23SSeqs/23S_colored_jhd.ps'\n",
      "reactivitiesFile = '/home/jhdavis/data/2014/2014_06_07-ShapeSeqAnalysis/reactivities.out'"
     ],
     "language": "python",
     "metadata": {},
     "outputs": [],
     "prompt_number": 2
    },
    {
     "cell_type": "code",
     "collapsed": false,
     "input": [
      "os.system('rm ' + outFileName)"
     ],
     "language": "python",
     "metadata": {},
     "outputs": [
      {
       "metadata": {},
       "output_type": "pyout",
       "prompt_number": 3,
       "text": [
        "0"
       ]
      }
     ],
     "prompt_number": 3
    },
    {
     "cell_type": "code",
     "collapsed": false,
     "input": [
      "rawFile = open(rawFileName, 'r')\n",
      "outFile = open(outFileName, 'wb')\n",
      "rxFile = open(reactivitiesFile, 'r')"
     ],
     "language": "python",
     "metadata": {},
     "outputs": [],
     "prompt_number": 4
    },
    {
     "cell_type": "code",
     "collapsed": false,
     "input": [
      "#def generateReactvitiesData(rxFile, rMax=None, full23SSeq=None):\n",
      "\n",
      "rxP = pandas.read_csv(rxFile, '\\t')"
     ],
     "language": "python",
     "metadata": {},
     "outputs": [],
     "prompt_number": 5
    },
    {
     "cell_type": "code",
     "collapsed": false,
     "input": [
      "rxHits = list(rxP['five_prime_offset'].values)\n",
      "rxP[rxP['five_prime_offset'] == 4]['theta'].values[0]\n",
      "hitList = {i:float(rxP[rxP['five_prime_offset'] == i]['theta'].values[0]) for i in rxHits[1:]}\n",
      "\n",
      "highVal = max(hitList.values())\n",
      "hitListScaled = {i:min(float(hitList[i])/highVal, 1.0) for i in hitList.keys()}\n",
      "hitListScaled = {i:hitListScaled[i]*100 for i in hitListScaled.keys()}\n",
      "hitListScaledLog = {i:numpy.log2(hitListScaled[i]) for i in hitListScaled.keys()}\n",
      "hitListScaledLog = {i:max(0.0, hitListScaledLog[i]) for i in hitListScaled.keys()}\n",
      "highVal = max(hitListScaledLog.values())\n",
      "hitListScaledLogNorm = {i:min(float(hitListScaledLog[i])/highVal, 1.0) for i in hitListScaledLog.keys()}"
     ],
     "language": "python",
     "metadata": {},
     "outputs": [],
     "prompt_number": 6
    },
    {
     "cell_type": "code",
     "collapsed": false,
     "input": [
      "allLines = rawFile.readlines()"
     ],
     "language": "python",
     "metadata": {},
     "outputs": [],
     "prompt_number": 7
    },
    {
     "cell_type": "code",
     "collapsed": false,
     "input": [
      "lineNumber = 0\n",
      "for line in allLines:\n",
      "    if '%start_sequence' in line:\n",
      "        startLineNumber = lineNumber+1\n",
      "        outFile.write(line)\n",
      "        break\n",
      "    else:\n",
      "        outFile.write(line)\n",
      "    lineNumber = lineNumber+1\n",
      "outFile.flush()"
     ],
     "language": "python",
     "metadata": {},
     "outputs": [],
     "prompt_number": 8
    },
    {
     "cell_type": "code",
     "collapsed": false,
     "input": [
      "cdict = {'red': ((0., 0, 0),\n",
      "                 (1, 1, 1)),\n",
      "         'green': ((0., 0, 0),\n",
      "                   (1, 0, 1)),\n",
      "         'blue': ((0., 0, 0),\n",
      "                  (1, 0, 0))}\n",
      "\n",
      "my_cmap = matplotlib.colors.LinearSegmentedColormap('my_colormap',cdict,256)\n",
      "my_cmap = get_cmap('autumn')\n",
      "r = outer(arange(0,1,0.01),ones(10))\n",
      "f = pylab.figure(figsize=(1,10))\n",
      "a = f.add_subplot(111)\n",
      "#my_cmap\n",
      "a.imshow(r,cmap=my_cmap,origin=\"left\")"
     ],
     "language": "python",
     "metadata": {},
     "outputs": [
      {
       "metadata": {},
       "output_type": "pyout",
       "prompt_number": 9,
       "text": [
        "<matplotlib.image.AxesImage at 0x7fa6df8f0750>"
       ]
      },
      {
       "metadata": {},
       "output_type": "display_data",
       "png": "[encoded data removed]",
       "text": [
        "<matplotlib.figure.Figure at 0x7fa6df8f0490>"
       ]
      }
     ],
     "prompt_number": 9
    },
    {
     "cell_type": "code",
     "collapsed": false,
     "input": [
      "seqPos = 1\n",
      "myColorMap = my_cmap\n",
      "myColorMapList = [myColorMap(i) for i in range(myColorMap.N)]\n",
      "myColorMapList[0] = (.5,.5,.5,1.0)\n",
      "# create the new map\n",
      "myColorMap = myColorMap.from_list('Custom cmap', myColorMapList, myColorMap.N)\n",
      "blackColorString = '0.00 0.00 0.00 setrgbcolor\\r\\n'\n",
      "seq = ''\n",
      "for line in allLines[startLineNumber:]:\n",
      "    if '(' in line[0:1]:\n",
      "        \n",
      "        if seqPos in [int(i) for i in hitListScaledLog.keys()]:\n",
      "            colorR, colorG, colorB, colorA = myColorMap(hitListScaledLog[seqPos])\n",
      "            colorString = str(colorR)[0:4] + ' ' + str(colorG)[0:4] + ' ' + str(colorB)[0:4] + ' setrgbcolor\\r\\n'\n",
      "            outFile.write(colorString)\n",
      "            outFile.write(line)\n",
      "            outFile.write(blackColorString)\n",
      "            seq = seq+line[1:2]\n",
      "            seqPos = seqPos+1\n",
      "        else:\n",
      "            outFile.write(line)\n",
      "    else:\n",
      "        outFile.write(line)"
     ],
     "language": "python",
     "metadata": {},
     "outputs": [],
     "prompt_number": 10
    },
    {
     "cell_type": "code",
     "collapsed": false,
     "input": [
      "outFile.close()"
     ],
     "language": "python",
     "metadata": {},
     "outputs": [],
     "prompt_number": 11
    },
    {
     "cell_type": "code",
     "collapsed": false,
     "input": [],
     "language": "python",
     "metadata": {},
     "outputs": [],
     "prompt_number": 11
    }
   ],
   "metadata": {}
  }
 ]
}