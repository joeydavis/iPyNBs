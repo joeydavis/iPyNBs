{
 "metadata": {
  "name": "Color23SBasedPrimers"
 },
 "nbformat": 3,
 "nbformat_minor": 0,
 "worksheets": [
  {
   "cells": [
    {
     "cell_type": "code",
     "collapsed": false,
     "input": [
      "import pylab\n",
      "import numpy\n",
      "import pandas\n",
      "import csv\n",
      "import os"
     ],
     "language": "python",
     "metadata": {},
     "outputs": [],
     "prompt_number": 185
    },
    {
     "cell_type": "code",
     "collapsed": false,
     "input": [
      "rawFileName = '/home/jhdavis/RNAseq/23S_black.ps'\n",
      "outFileName = '/home/jhdavis/Dropbox/23S_colored_primers.ps'\n",
      "#reactivitiesFile = '/home/jhdavis/RNAseq/trunc01mismatch.out'"
     ],
     "language": "python",
     "metadata": {},
     "outputs": [],
     "prompt_number": 186
    },
    {
     "cell_type": "code",
     "collapsed": false,
     "input": [
      "os.system('rm ' + outFileName)"
     ],
     "language": "python",
     "metadata": {},
     "outputs": [
      {
       "output_type": "pyout",
       "prompt_number": 187,
       "text": [
        "0"
       ]
      }
     ],
     "prompt_number": 187
    },
    {
     "cell_type": "code",
     "collapsed": false,
     "input": [
      "rawFile = open(rawFileName, 'r')\n",
      "outFile = open(outFileName, 'wb')\n",
      "#rxFile = open(reactivitiesFile, 'r')"
     ],
     "language": "python",
     "metadata": {},
     "outputs": [],
     "prompt_number": 188
    },
    {
     "cell_type": "code",
     "collapsed": false,
     "input": [
      "#def generateReactvitiesData(rxFile, rMax=None, full23SSeq=None):\n",
      "\n",
      "#rxP = pandas.read_csv(rxFile, '\\t')"
     ],
     "language": "python",
     "metadata": {},
     "outputs": [],
     "prompt_number": 189
    },
    {
     "cell_type": "code",
     "collapsed": false,
     "input": [
      "'''\n",
      "rxHits = list(rxP['five_prime_offset'].values)\n",
      "rxP[rxP['five_prime_offset'] == 4]['theta'].values[0]\n",
      "hitList = {i:float(rxP[rxP['five_prime_offset'] == i]['theta'].values[0]) for i in rxHits[1:]}\n",
      "\n",
      "highVal = max(hitList.values())\n",
      "hitListScaled = {i:min(float(hitList[i])/highVal, 1.0) for i in hitList.keys()}\n",
      "hitListScaled = {i:hitListScaled[i]*100 for i in hitListScaled.keys()}\n",
      "hitListScaledLog = {i:numpy.log2(hitListScaled[i]) for i in hitListScaled.keys()}\n",
      "hitListScaledLog = {i:max(0.0, hitListScaledLog[i]) for i in hitListScaled.keys()}\n",
      "highVal = max(hitListScaledLog.values())\n",
      "hitListScaledLogNorm = {i:min(float(hitListScaledLog[i])/highVal, 1.0) for i in hitListScaledLog.keys()}\n",
      "'''"
     ],
     "language": "python",
     "metadata": {},
     "outputs": [
      {
       "output_type": "pyout",
       "prompt_number": 190,
       "text": [
        "\"\\nrxHits = list(rxP['five_prime_offset'].values)\\nrxP[rxP['five_prime_offset'] == 4]['theta'].values[0]\\nhitList = {i:float(rxP[rxP['five_prime_offset'] == i]['theta'].values[0]) for i in rxHits[1:]}\\n\\nhighVal = max(hitList.values())\\nhitListScaled = {i:min(float(hitList[i])/highVal, 1.0) for i in hitList.keys()}\\nhitListScaled = {i:hitListScaled[i]*100 for i in hitListScaled.keys()}\\nhitListScaledLog = {i:numpy.log2(hitListScaled[i]) for i in hitListScaled.keys()}\\nhitListScaledLog = {i:max(0.0, hitListScaledLog[i]) for i in hitListScaled.keys()}\\nhighVal = max(hitListScaledLog.values())\\nhitListScaledLogNorm = {i:min(float(hitListScaledLog[i])/highVal, 1.0) for i in hitListScaledLog.keys()}\\n\""
       ]
      }
     ],
     "prompt_number": 190
    },
    {
     "cell_type": "code",
     "collapsed": false,
     "input": [
      "allLines = rawFile.readlines()"
     ],
     "language": "python",
     "metadata": {},
     "outputs": [],
     "prompt_number": 191
    },
    {
     "cell_type": "code",
     "collapsed": false,
     "input": [
      "lineNumber = 0\n",
      "for line in allLines:\n",
      "    if '%start_sequence' in line:\n",
      "        startLineNumber = lineNumber+1\n",
      "        outFile.write(line)\n",
      "        break\n",
      "    else:\n",
      "        outFile.write(line)\n",
      "    lineNumber = lineNumber+1\n",
      "outFile.flush()"
     ],
     "language": "python",
     "metadata": {},
     "outputs": [],
     "prompt_number": 192
    },
    {
     "cell_type": "code",
     "collapsed": false,
     "input": [
      "cdict = {'red': ((0., 0, 0),\n",
      "                 (1, 1, 1)),\n",
      "         'green': ((0., 0, 0),\n",
      "                   (1, 0, 0)),\n",
      "         'blue': ((0., 0, 0),\n",
      "                  (1, 0, 0))}\n",
      "\n",
      "my_cmap = matplotlib.colors.LinearSegmentedColormap('my_colormap',cdict,256)\n",
      "my_cmap = cm.get_cmap('spectral')"
     ],
     "language": "python",
     "metadata": {},
     "outputs": [],
     "prompt_number": 193
    },
    {
     "cell_type": "code",
     "collapsed": false,
     "input": [
      "primerList = [194, 267, 487, 728, 885, 1109, 1323, 1514, 1695, 1832, 1909, 2117, 2253, 2421, 2581, 2675, 2888, 3000]\n",
      "primerList.sort()\n",
      "print primerList"
     ],
     "language": "python",
     "metadata": {},
     "outputs": [
      {
       "output_type": "stream",
       "stream": "stdout",
       "text": [
        "[194, 267, 487, 728, 885, 1109, 1323, 1514, 1695, 1832, 1909, 2117, 2253, 2421, 2581, 2675, 2888, 3000]\n"
       ]
      }
     ],
     "prompt_number": 194
    },
    {
     "cell_type": "code",
     "collapsed": false,
     "input": [
      "seqPos = 1\n",
      "myColorMap = my_cmap\n",
      "#myColorMapList = [myColorMap(i) for i in range(myColorMap.N)]\n",
      "#myColorMapList[0] = (.5,.5,.5,1.0)\n",
      "# create the new map\n",
      "#myColorMap = myColorMap.from_list('Custom cmap', myColorMapList, myColorMap.N)\n",
      "blackColorString = '0.00 0.00 0.00 setrgbcolor\\r\\n'\n",
      "seq = ''\n",
      "currentPrimer=0\n",
      "colorR, colorG, colorB, colorA = [0.0, 0.0, 0.0, 0.0]\n",
      "for line in allLines[startLineNumber:]:\n",
      "    if '(' in line[0:1]:\n",
      "        colorString = str(colorR)[0:4] + ' ' + str(colorG)[0:4] + ' ' + str(colorB)[0:4] + ' setrgbcolor\\r\\n'\n",
      "        outFile.write(colorString)\n",
      "        outFile.write(line)\n",
      "        seq = seq+line[1:2]\n",
      "        seqPos = seqPos+1\n",
      "        if seqPos == primerList[currentPrimer]:\n",
      "            currentPrimer = currentPrimer+1\n",
      "            if (currentPrimer)%2==0:\n",
      "                print primerList[currentPrimer]\n",
      "                colorR, colorG, colorB, colorA = [0.0, 0.0, 0.0, 0.0]\n",
      "            else:\n",
      "                colorR, colorG, colorB, colorA = myColorMap(currentPrimer*1.0/17.0)\n",
      "    else:\n",
      "        outFile.write(line)"
     ],
     "language": "python",
     "metadata": {},
     "outputs": [
      {
       "output_type": "stream",
       "stream": "stdout",
       "text": [
        "487\n",
        "885\n",
        "1323\n",
        "1695\n",
        "1909\n",
        "2253\n",
        "2581\n",
        "2888\n"
       ]
      }
     ],
     "prompt_number": 195
    },
    {
     "cell_type": "code",
     "collapsed": false,
     "input": [
      "outFile.close()"
     ],
     "language": "python",
     "metadata": {},
     "outputs": [],
     "prompt_number": 196
    },
    {
     "cell_type": "code",
     "collapsed": false,
     "input": [],
     "language": "python",
     "metadata": {},
     "outputs": [],
     "prompt_number": 196
    }
   ],
   "metadata": {}
  }
 ]
}