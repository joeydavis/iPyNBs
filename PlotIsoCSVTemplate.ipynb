{
 "metadata": {
  "name": "PlotIsoCSVTemplate"
 },
 "nbformat": 3,
 "nbformat_minor": 0,
 "worksheets": [
  {
   "cells": [
    {
     "cell_type": "code",
     "collapsed": false,
     "input": [
      "import qMS\n",
      "import pylab\n",
      "import glob\n",
      "import pandas\n",
      "import numpy\n",
      "import vizLib\n",
      "import matplotlib.pyplot as plt\n",
      "import qMSDefs"
     ],
     "language": "python",
     "metadata": {},
     "outputs": [],
     "prompt_number": 5
    },
    {
     "cell_type": "code",
     "collapsed": false,
     "input": [
      "path = '/home/jhdavis/data/2014/subunitSamples/'\n",
      "num = ['AMP_U']\n",
      "den = ['AMP_S']\n",
      "files = glob.glob(path+'*_res_filt*.csv')\n",
      "files = qMS.sort_nicely(files)\n",
      "names = ['spkAlone', '1043_45S:RbgAF6A', '1051_44SRbgAF6A,L6R70P', '1055_44SRbgAF6A,L6R3C', '1057_44SRbgAF6A,L6H66L', '1068_44SRbgAF6A,L6G6C', '1043_70S', '1051_70S', '1055_70S', '1057_70S', '1068_70S']\n",
      "#files"
     ],
     "language": "python",
     "metadata": {},
     "outputs": [],
     "prompt_number": 6
    },
    {
     "cell_type": "code",
     "collapsed": false,
     "input": [
      "vizLib.setRcs(scale=16, legendScale=12, axisLineWidth=1)\n",
      "colors = vizLib.getBCs('q',6)\n",
      "filePath='/home/jhdavis/Dropbox/WilliamsonLab/Notebooks/ByDate/07/2014_05_06-BrittonPLOSSubunits/'"
     ],
     "language": "python",
     "metadata": {},
     "outputs": [],
     "prompt_number": 7
    },
    {
     "cell_type": "code",
     "collapsed": false,
     "input": [
      "f = pylab.figure()\n",
      "subunit = qMSDefs.subtilisLargeSubunit\n",
      "subunit.remove('BSubL09')\n",
      "yMax = 5.0\n",
      "figSize = [22,8]\n",
      "median = False\n",
      "normProtein = None\n",
      "markerSize=8\n",
      "highlightMed=True\n",
      "noFill = False\n",
      "hms=1.5\n",
      "alpha=0.25\n",
      "legend=True\n",
      "title='raw spectra'\n",
      "legendCols=6\n",
      "\n",
      "a = vizLib.makePlotWithFileList(files[:6], num, den, subunits=subunit, yMax=yMax, colors=colors, noFill = noFill,\n",
      "                                names=names[:6], figSize=figSize, median=median, normProtein=normProtein, \n",
      "                                markerSize=markerSize, highlightMed=highlightMed, alpha=alpha, hms=hms, \n",
      "                                legend=legend, title=title, legendCols=legendCols)\n",
      "a.set_xlabel('protein name')\n",
      "a.set_ylabel('14N / 15N', multialignment = 'center')\n",
      "vizLib.cleanAxis(a, ticksOnly=True)\n",
      "#a.legend(bbox_to_anchor=(0., 1.02, 1., .102), loc=3, ncol=5, mode=\"center\", borderaxespad=0.)\n",
      "pylab.savefig(filePath + 'subunitsRawLarge.png', bbox_inches='tight', dpi=300)\n",
      "\n",
      "f = pylab.figure()\n",
      "subunit = qMSDefs.subtilisSmallSubunit\n",
      "yMax = 3.0\n",
      "\n",
      "a = vizLib.makePlotWithFileList(files[:6], num, den, subunits=subunit, yMax=yMax, colors=colors, noFill = noFill,\n",
      "                                names=names[:6], figSize=figSize, median=median, normProtein=normProtein, \n",
      "                                markerSize=markerSize, highlightMed=highlightMed, alpha=alpha, hms=hms, \n",
      "                                legend=legend, title=title, legendCols=legendCols)\n",
      "a.set_xlabel('protein name')\n",
      "a.set_ylabel('14N / 15N', multialignment = 'center')\n",
      "vizLib.cleanAxis(a, ticksOnly=True)\n",
      "#a.legend(bbox_to_anchor=(0., 1.02, 1., .102), loc=3, ncol=5, mode=\"center\", borderaxespad=0.)\n",
      "pylab.savefig(filePath + 'subunitsRawSmall.png', bbox_inches='tight', dpi=300)"
     ],
     "language": "python",
     "metadata": {},
     "outputs": [
      {
       "metadata": {},
       "output_type": "pyout",
       "prompt_number": 10,
       "text": [
        "[(0.8941176470588236, 0.10196078431372549, 0.10980392156862745),\n",
        " (0.21568627450980393, 0.49411764705882355, 0.7215686274509804),\n",
        " (0.30196078431372547, 0.6862745098039216, 0.2901960784313726),\n",
        " (0.596078431372549, 0.3058823529411765, 0.6392156862745098),\n",
        " (1.0, 0.4980392156862745, 0.0)]"
       ]
      }
     ],
     "prompt_number": 10
    },
    {
     "cell_type": "code",
     "collapsed": false,
     "input": [
      "#dictOfDF = qMS.correctListOfFiles(files[0], files[1:], extension='_corrPLOS0')"
     ],
     "language": "python",
     "metadata": {},
     "outputs": []
    },
    {
     "cell_type": "code",
     "collapsed": false,
     "input": [
      "path = '/home/jhdavis/data/2014/subunitSamples/'\n",
      "num = ['AMP_U']\n",
      "den = ['AMP_S']\n",
      "corFiles = glob.glob(path+'*_res_filt*.csv_*')\n",
      "corFiles = qMS.sort_nicely(corFiles)\n",
      "corNames = names[1:]\n",
      "colors = vizLib.getBCs('q',9)\n",
      "colors.append('grey')"
     ],
     "language": "python",
     "metadata": {},
     "outputs": []
    },
    {
     "cell_type": "code",
     "collapsed": false,
     "input": [
      "f = pylab.figure()\n",
      "subunit = qMSDefs.subtilisLargeSubunit\n",
      "#subunit.remove('BSubL09')\n",
      "yMax = 2.5\n",
      "figSize = [22,8]\n",
      "median = False\n",
      "normProtein = 'BSubL20'\n",
      "markerSize=8\n",
      "highlightMed=True\n",
      "noFill = False\n",
      "hms=1.5\n",
      "alpha=0.25\n",
      "legend=True\n",
      "title='corected spectra'\n",
      "legendCols=6\n",
      "\n",
      "a = vizLib.makePlotWithFileList(corFiles[:5], num, den, subunits=subunit, yMax=yMax, colors=colors, noFill = noFill,\n",
      "                                names=corNames[:5], figSize=figSize, median=median, normProtein=normProtein, \n",
      "                                markerSize=markerSize, highlightMed=highlightMed, alpha=alpha, hms=hms, \n",
      "                                legend=legend, title=title, legendCols=legendCols)\n",
      "a.set_xlabel('protein name')\n",
      "a.set_ylabel('14N / 15N cor [norm L20]', multialignment = 'center')\n",
      "vizLib.cleanAxis(a, ticksOnly=True)\n",
      "#a.legend(bbox_to_anchor=(0., 1.02, 1., .102), loc=3, ncol=5, mode=\"center\", borderaxespad=0.)\n",
      "pylab.savefig(filePath + 'subunitsCorrLarge.png', bbox_inches='tight', dpi=300)\n",
      "\n",
      "f = pylab.figure()\n",
      "subunit = qMSDefs.subtilisSmallSubunit\n",
      "yMax = 2\n",
      "normProtein = 'BSubS04'\n",
      "a = vizLib.makePlotWithFileList(corFiles[:5], num, den, subunits=subunit, yMax=yMax, colors=colors, noFill = noFill,\n",
      "                                names=corNames[:5], figSize=figSize, median=median, normProtein=normProtein, \n",
      "                                markerSize=markerSize, highlightMed=highlightMed, alpha=alpha, hms=hms, \n",
      "                                legend=legend, title=title, legendCols=legendCols)\n",
      "a.set_xlabel('protein name')\n",
      "a.set_ylabel('14N / 15N cor [norm S04]', multialignment = 'center')\n",
      "vizLib.cleanAxis(a, ticksOnly=True)\n",
      "#a.legend(bbox_to_anchor=(0., 1.02, 1., .102), loc=3, ncol=5, mode=\"center\", borderaxespad=0.)\n",
      "pylab.savefig(filePath + 'subunitsCorrSmall.png', bbox_inches='tight', dpi=300)"
     ],
     "language": "python",
     "metadata": {},
     "outputs": []
    }
   ],
   "metadata": {}
  }
 ]
}