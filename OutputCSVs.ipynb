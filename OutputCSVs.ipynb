{
 "metadata": {
  "name": "OutputCSVs"
 },
 "nbformat": 3,
 "nbformat_minor": 0,
 "worksheets": [
  {
   "cells": [
    {
     "cell_type": "code",
     "collapsed": false,
     "input": [
      "import qMS\n",
      "import csv\n",
      "import vizLib\n",
      "import glob\n",
      "import re\n",
      "import numpy"
     ],
     "language": "python",
     "metadata": {},
     "outputs": [],
     "prompt_number": 35
    },
    {
     "cell_type": "code",
     "collapsed": false,
     "input": [
      "vizLib.setRcs()\n",
      "def sort_nicely( l ): \n",
      "    \"\"\" Sort the given list in the way that humans expect. \n",
      "    \"\"\" \n",
      "    convert = lambda text: int(text) if text.isdigit() else text \n",
      "    alphanum_key = lambda key: [ convert(c) for c in re.split('([0-9]+)', key) ] \n",
      "    l.sort( key=alphanum_key )\n",
      "    return l"
     ],
     "language": "python",
     "metadata": {},
     "outputs": [],
     "prompt_number": 36
    },
    {
     "cell_type": "code",
     "collapsed": false,
     "input": [
      "path = '/home/jhdavis/data/2013_05_28-MSUPulse/filtered/'\n",
      "f = glob.glob(path+'*.csv')\n",
      "f = sort_nicely(f)\n",
      "num=['AMP_L']\n",
      "den=['AMP_U', 'AMP_L']"
     ],
     "language": "python",
     "metadata": {},
     "outputs": [],
     "prompt_number": 37
    },
    {
     "cell_type": "code",
     "collapsed": false,
     "input": [
      "sd = qMS.multiStatsDict(f[1:], num, den)\n",
      "files = sort_nicely(sd.keys())\n",
      "files"
     ],
     "language": "python",
     "metadata": {},
     "outputs": [
      {
       "output_type": "pyout",
       "prompt_number": 38,
       "text": [
        "['/home/jhdavis/data/2013_05_28-MSUPulse/filtered/muspulse1p2_iso_res_filt.csv',\n",
        " '/home/jhdavis/data/2013_05_28-MSUPulse/filtered/muspulse2_iso_res_filt.csv',\n",
        " '/home/jhdavis/data/2013_05_28-MSUPulse/filtered/muspulse3_iso_res_filt.csv',\n",
        " '/home/jhdavis/data/2013_05_28-MSUPulse/filtered/muspulse4_iso_res_filt.csv',\n",
        " '/home/jhdavis/data/2013_05_28-MSUPulse/filtered/muspulse5_iso_res_filt.csv',\n",
        " '/home/jhdavis/data/2013_05_28-MSUPulse/filtered/muspulse6_iso_res_filt.csv',\n",
        " '/home/jhdavis/data/2013_05_28-MSUPulse/filtered/muspulse7_iso_res_filt.csv',\n",
        " '/home/jhdavis/data/2013_05_28-MSUPulse/filtered/muspulse8_iso_res_filt.csv',\n",
        " '/home/jhdavis/data/2013_05_28-MSUPulse/filtered/muspulse9_iso_res_filt.csv',\n",
        " '/home/jhdavis/data/2013_05_28-MSUPulse/filtered/muspulse10_iso_res_filt.csv',\n",
        " '/home/jhdavis/data/2013_05_28-MSUPulse/filtered/muspulse11_iso_res_filt.csv',\n",
        " '/home/jhdavis/data/2013_05_28-MSUPulse/filtered/muspulse12_iso_res_filt.csv',\n",
        " '/home/jhdavis/data/2013_05_28-MSUPulse/filtered/muspulse13_iso_res_filt.csv',\n",
        " '/home/jhdavis/data/2013_05_28-MSUPulse/filtered/muspulse14_iso_res_filt.csv',\n",
        " '/home/jhdavis/data/2013_05_28-MSUPulse/filtered/muspulse15_iso_res_filt.csv',\n",
        " '/home/jhdavis/data/2013_05_28-MSUPulse/filtered/muspulse16_iso_res_filt.csv',\n",
        " '/home/jhdavis/data/2013_05_28-MSUPulse/filtered/muspulse17_iso_res_filt.csv',\n",
        " '/home/jhdavis/data/2013_05_28-MSUPulse/filtered/muspulse18_iso_res_filt.csv',\n",
        " '/home/jhdavis/data/2013_05_28-MSUPulse/filtered/muspulse19_iso_res_filt.csv',\n",
        " '/home/jhdavis/data/2013_05_28-MSUPulse/filtered/muspulse20_iso_res_filt.csv',\n",
        " '/home/jhdavis/data/2013_05_28-MSUPulse/filtered/muspulse21_iso_res_filt.csv',\n",
        " '/home/jhdavis/data/2013_05_28-MSUPulse/filtered/muspulse22_iso_res_filt.csv',\n",
        " '/home/jhdavis/data/2013_05_28-MSUPulse/filtered/muspulse23_iso_res_filt.csv',\n",
        " '/home/jhdavis/data/2013_05_28-MSUPulse/filtered/muspulse24_iso_res_filt.csv']"
       ]
      }
     ],
     "prompt_number": 38
    },
    {
     "cell_type": "code",
     "collapsed": false,
     "input": [
      "outfile = open('test.csv', 'w')\n",
      "outfile.write('protein\\t')\n",
      "for n in files:\n",
      "    name = n.split('/')[-1].split('_')[0][3:]\n",
      "    outfile.write(name + '\\t')\n",
      "outfile.write('\\n')\n",
      "proteins = sort_nicely(sd[files[0]].keys())\n",
      "for p in proteins:\n",
      "    outfile.write(p+'\\t')\n",
      "    row = [numpy.median(sd[i][p]) for i in files]\n",
      "    for v in row:\n",
      "        outfile.write(str(v)+'\\t')\n",
      "    outfile.write('\\n')"
     ],
     "language": "python",
     "metadata": {},
     "outputs": [],
     "prompt_number": 41
    },
    {
     "cell_type": "code",
     "collapsed": false,
     "input": [],
     "language": "python",
     "metadata": {},
     "outputs": []
    }
   ],
   "metadata": {}
  }
 ]
}