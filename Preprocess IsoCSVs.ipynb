{
 "metadata": {
  "name": "Preprocess IsoCSVs"
 },
 "nbformat": 3,
 "nbformat_minor": 0,
 "worksheets": [
  {
   "cells": [
    {
     "cell_type": "code",
     "collapsed": false,
     "input": [
      "import qMS\n",
      "import glob\n",
      "import sys"
     ],
     "language": "python",
     "metadata": {},
     "outputs": [],
     "prompt_number": 2
    },
    {
     "cell_type": "code",
     "collapsed": false,
     "input": [
      "listToProcess = glob.glob('/home/jhdavis/data/2013_07_27-MSUABCD/*.csv')\n",
      "listToProcess.sort()\n",
      "listToProcess"
     ],
     "language": "python",
     "metadata": {},
     "outputs": [
      {
       "output_type": "pyout",
       "prompt_number": 3,
       "text": [
        "['/home/jhdavis/data/2013_07_27-MSUABCD/msuA_iso.csv',\n",
        " '/home/jhdavis/data/2013_07_27-MSUABCD/msuB_iso.csv',\n",
        " '/home/jhdavis/data/2013_07_27-MSUABCD/msuC_iso.csv',\n",
        " '/home/jhdavis/data/2013_07_27-MSUABCD/msuD301_iso.csv']"
       ]
      }
     ],
     "prompt_number": 3
    },
    {
     "cell_type": "code",
     "collapsed": false,
     "input": [
      "for f in listToProcess:\n",
      "    print \"processing \" + f\n",
      "    sys.stdout.flush()\n",
      "    qMS.preProcessIsoCSV(f, True)"
     ],
     "language": "python",
     "metadata": {},
     "outputs": [
      {
       "output_type": "stream",
       "stream": "stdout",
       "text": [
        "processing /home/jhdavis/data/2013_07_27-MSUABCD/msuA_iso.csv\n"
       ]
      },
      {
       "output_type": "stream",
       "stream": "stdout",
       "text": [
        "processing /home/jhdavis/data/2013_07_27-MSUABCD/msuB_iso.csv\n"
       ]
      },
      {
       "output_type": "stream",
       "stream": "stdout",
       "text": [
        "processing /home/jhdavis/data/2013_07_27-MSUABCD/msuC_iso.csv\n"
       ]
      },
      {
       "output_type": "stream",
       "stream": "stdout",
       "text": [
        "processing /home/jhdavis/data/2013_07_27-MSUABCD/msuD301_iso.csv\n"
       ]
      }
     ],
     "prompt_number": 4
    },
    {
     "cell_type": "code",
     "collapsed": false,
     "input": [],
     "language": "python",
     "metadata": {},
     "outputs": []
    }
   ],
   "metadata": {}
  }
 ]
}