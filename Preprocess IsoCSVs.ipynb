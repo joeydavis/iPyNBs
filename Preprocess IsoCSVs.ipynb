{
 "metadata": {
  "name": "Preprocess IsoCSVs"
 },
 "nbformat": 3,
 "nbformat_minor": 0,
 "worksheets": [
  {
   "cells": [
    {
     "cell_type": "code",
     "collapsed": false,
     "input": [
      "import qMS\n",
      "import glob\n",
      "import sys"
     ],
     "language": "python",
     "metadata": {},
     "outputs": [],
     "prompt_number": 7
    },
    {
     "cell_type": "code",
     "collapsed": false,
     "input": [
      "listToProcess = glob.glob('/home/jhdavis/data/2013_05_28-MSUPulse/1to12/*.csv')\n",
      "listToProcess.sort()\n",
      "listToProcess"
     ],
     "language": "python",
     "metadata": {},
     "outputs": [
      {
       "output_type": "pyout",
       "prompt_number": 14,
       "text": [
        "['/home/jhdavis/data/2013_05_28-MSUPulse/1to12/muspulse10_iso.csv',\n",
        " '/home/jhdavis/data/2013_05_28-MSUPulse/1to12/muspulse11_iso.csv',\n",
        " '/home/jhdavis/data/2013_05_28-MSUPulse/1to12/muspulse12_iso.csv',\n",
        " '/home/jhdavis/data/2013_05_28-MSUPulse/1to12/muspulse1_iso.csv',\n",
        " '/home/jhdavis/data/2013_05_28-MSUPulse/1to12/muspulse2_iso.csv',\n",
        " '/home/jhdavis/data/2013_05_28-MSUPulse/1to12/muspulse3_iso.csv',\n",
        " '/home/jhdavis/data/2013_05_28-MSUPulse/1to12/muspulse4_iso.csv',\n",
        " '/home/jhdavis/data/2013_05_28-MSUPulse/1to12/muspulse5_iso.csv',\n",
        " '/home/jhdavis/data/2013_05_28-MSUPulse/1to12/muspulse6_iso.csv',\n",
        " '/home/jhdavis/data/2013_05_28-MSUPulse/1to12/muspulse7_iso.csv',\n",
        " '/home/jhdavis/data/2013_05_28-MSUPulse/1to12/muspulse8_iso.csv',\n",
        " '/home/jhdavis/data/2013_05_28-MSUPulse/1to12/muspulse9_iso.csv']"
       ]
      }
     ],
     "prompt_number": 14
    },
    {
     "cell_type": "code",
     "collapsed": false,
     "input": [
      "for f in listToProcess:\n",
      "    print \"processing \" + f\n",
      "    sys.stdout.flush()\n",
      "    qMS.preProcessIsoCSV(f, True)"
     ],
     "language": "python",
     "metadata": {},
     "outputs": [
      {
       "output_type": "stream",
       "stream": "stdout",
       "text": [
        "processing /home/jhdavis/data/2013_05_28-MSUPulse/1to12/muspulse10_iso.csv\n"
       ]
      },
      {
       "output_type": "stream",
       "stream": "stdout",
       "text": [
        "processing /home/jhdavis/data/2013_05_28-MSUPulse/1to12/muspulse11_iso.csv\n"
       ]
      },
      {
       "output_type": "stream",
       "stream": "stdout",
       "text": [
        "processing /home/jhdavis/data/2013_05_28-MSUPulse/1to12/muspulse12_iso.csv\n"
       ]
      },
      {
       "output_type": "stream",
       "stream": "stdout",
       "text": [
        "processing /home/jhdavis/data/2013_05_28-MSUPulse/1to12/muspulse1_iso.csv\n"
       ]
      },
      {
       "output_type": "stream",
       "stream": "stdout",
       "text": [
        "Error cannot concatenate 'str' and 'float' objects in /home/jhdavis/data/2013_05_28-MSUPulse/1to12/muspulse1_peaks/BSubL21_48_61_0_672.36244714728_40.498495.dat\n"
       ]
      },
      {
       "output_type": "stream",
       "stream": "stdout",
       "text": [
        "Error cannot concatenate 'str' and 'float' objects in /home/jhdavis/data/2013_05_28-MSUPulse/1to12/muspulse1_peaks/BSubL30_31_44_0_784.3953412193_34.226095.dat\n"
       ]
      },
      {
       "output_type": "stream",
       "stream": "stdout",
       "text": [
        "processing /home/jhdavis/data/2013_05_28-MSUPulse/1to12/muspulse2_iso.csv\n"
       ]
      },
      {
       "output_type": "stream",
       "stream": "stdout",
       "text": [
        "processing /home/jhdavis/data/2013_05_28-MSUPulse/1to12/muspulse3_iso.csv\n"
       ]
      },
      {
       "output_type": "stream",
       "stream": "stdout",
       "text": [
        "processing /home/jhdavis/data/2013_05_28-MSUPulse/1to12/muspulse4_iso.csv\n"
       ]
      },
      {
       "output_type": "stream",
       "stream": "stdout",
       "text": [
        "processing /home/jhdavis/data/2013_05_28-MSUPulse/1to12/muspulse5_iso.csv\n"
       ]
      },
      {
       "output_type": "stream",
       "stream": "stdout",
       "text": [
        "processing /home/jhdavis/data/2013_05_28-MSUPulse/1to12/muspulse6_iso.csv\n"
       ]
      },
      {
       "output_type": "stream",
       "stream": "stdout",
       "text": [
        "processing /home/jhdavis/data/2013_05_28-MSUPulse/1to12/muspulse7_iso.csv\n"
       ]
      },
      {
       "output_type": "stream",
       "stream": "stdout",
       "text": [
        "processing /home/jhdavis/data/2013_05_28-MSUPulse/1to12/muspulse8_iso.csv\n"
       ]
      },
      {
       "output_type": "stream",
       "stream": "stdout",
       "text": [
        "processing /home/jhdavis/data/2013_05_28-MSUPulse/1to12/muspulse9_iso.csv\n"
       ]
      }
     ],
     "prompt_number": 15
    },
    {
     "cell_type": "code",
     "collapsed": false,
     "input": [],
     "language": "python",
     "metadata": {},
     "outputs": []
    }
   ],
   "metadata": {}
  }
 ]
}