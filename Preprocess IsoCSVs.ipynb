{
 "metadata": {
  "name": "Preprocess IsoCSVs"
 },
 "nbformat": 3,
 "nbformat_minor": 0,
 "worksheets": [
  {
   "cells": [
    {
     "cell_type": "code",
     "collapsed": false,
     "input": [
      "import qMS\n",
      "import glob\n",
      "import sys\n",
      "import time\n",
      "from multiprocessing import Pool"
     ],
     "language": "python",
     "metadata": {},
     "outputs": [],
     "prompt_number": 8
    },
    {
     "cell_type": "code",
     "collapsed": false,
     "input": [
      "listToProcess = glob.glob('/home/jhdavis/data/2014/2014_04_25-BrittonPLOS/isos/*.csv')\n",
      "listToProcess.sort()\n",
      "listToProcess"
     ],
     "language": "python",
     "metadata": {},
     "outputs": [
      {
       "output_type": "pyout",
       "prompt_number": 9,
       "text": [
        "['/home/jhdavis/data/2014/2014_04_25-BrittonPLOS/isos/plos0_iso.csv',\n",
        " '/home/jhdavis/data/2014/2014_04_25-BrittonPLOS/isos/plos10_iso.csv',\n",
        " '/home/jhdavis/data/2014/2014_04_25-BrittonPLOS/isos/plos11_iso.csv',\n",
        " '/home/jhdavis/data/2014/2014_04_25-BrittonPLOS/isos/plos12_iso.csv',\n",
        " '/home/jhdavis/data/2014/2014_04_25-BrittonPLOS/isos/plos13_iso.csv',\n",
        " '/home/jhdavis/data/2014/2014_04_25-BrittonPLOS/isos/plos14_iso.csv',\n",
        " '/home/jhdavis/data/2014/2014_04_25-BrittonPLOS/isos/plos15_iso.csv',\n",
        " '/home/jhdavis/data/2014/2014_04_25-BrittonPLOS/isos/plos16_iso.csv',\n",
        " '/home/jhdavis/data/2014/2014_04_25-BrittonPLOS/isos/plos17_iso.csv',\n",
        " '/home/jhdavis/data/2014/2014_04_25-BrittonPLOS/isos/plos18_iso.csv',\n",
        " '/home/jhdavis/data/2014/2014_04_25-BrittonPLOS/isos/plos19_iso.csv',\n",
        " '/home/jhdavis/data/2014/2014_04_25-BrittonPLOS/isos/plos1_iso.csv',\n",
        " '/home/jhdavis/data/2014/2014_04_25-BrittonPLOS/isos/plos20_iso.csv',\n",
        " '/home/jhdavis/data/2014/2014_04_25-BrittonPLOS/isos/plos21_iso.csv',\n",
        " '/home/jhdavis/data/2014/2014_04_25-BrittonPLOS/isos/plos22_iso.csv',\n",
        " '/home/jhdavis/data/2014/2014_04_25-BrittonPLOS/isos/plos23_iso.csv',\n",
        " '/home/jhdavis/data/2014/2014_04_25-BrittonPLOS/isos/plos2_iso.csv',\n",
        " '/home/jhdavis/data/2014/2014_04_25-BrittonPLOS/isos/plos3_iso.csv',\n",
        " '/home/jhdavis/data/2014/2014_04_25-BrittonPLOS/isos/plos4_iso.csv',\n",
        " '/home/jhdavis/data/2014/2014_04_25-BrittonPLOS/isos/plos5_iso.csv',\n",
        " '/home/jhdavis/data/2014/2014_04_25-BrittonPLOS/isos/plos6_iso.csv',\n",
        " '/home/jhdavis/data/2014/2014_04_25-BrittonPLOS/isos/plos7_iso.csv',\n",
        " '/home/jhdavis/data/2014/2014_04_25-BrittonPLOS/isos/plos8_iso.csv',\n",
        " '/home/jhdavis/data/2014/2014_04_25-BrittonPLOS/isos/plos9_iso.csv']"
       ]
      }
     ],
     "prompt_number": 9
    },
    {
     "cell_type": "code",
     "collapsed": false,
     "input": [
      "#start = time.time()\n",
      "#pool = Pool(processes=4)\n",
      "#pool.map(qMS.preProcessIsoCSV, listToProcess)\n",
      "#print \"Parallel time: %f\" % (time.time() - start)\n",
      "         "
     ],
     "language": "python",
     "metadata": {},
     "outputs": [],
     "prompt_number": 10
    },
    {
     "cell_type": "code",
     "collapsed": false,
     "input": [
      "for f in listToProcess:\n",
      "    print \"processing \" + f\n",
      "    sys.stdout.flush()\n",
      "    qMS.preProcessIsoCSV(f, True)\n",
      "#print \"Serial time: %f\" % (time.time() - start)"
     ],
     "language": "python",
     "metadata": {},
     "outputs": [
      {
       "output_type": "stream",
       "stream": "stdout",
       "text": [
        "processing /home/jhdavis/data/2014/2014_04_25-BrittonPLOS/isos/plos0_iso.csv\n"
       ]
      },
      {
       "output_type": "stream",
       "stream": "stdout",
       "text": [
        "reading : /home/jhdavis/data/2014/2014_04_25-BrittonPLOS/isos/plos0_iso.csv...\n",
        "writing : plos0_iso_res.csv..."
       ]
      },
      {
       "output_type": "stream",
       "stream": "stdout",
       "text": [
        "\n",
        "processing /home/jhdavis/data/2014/2014_04_25-BrittonPLOS/isos/plos10_iso.csv\n"
       ]
      },
      {
       "output_type": "stream",
       "stream": "stdout",
       "text": [
        "reading : /home/jhdavis/data/2014/2014_04_25-BrittonPLOS/isos/plos10_iso.csv...\n",
        "writing : plos10_iso_res.csv..."
       ]
      },
      {
       "output_type": "stream",
       "stream": "stdout",
       "text": [
        "\n",
        "processing /home/jhdavis/data/2014/2014_04_25-BrittonPLOS/isos/plos11_iso.csv"
       ]
      },
      {
       "output_type": "stream",
       "stream": "stdout",
       "text": [
        "\n"
       ]
      },
      {
       "output_type": "stream",
       "stream": "stdout",
       "text": [
        "reading : /home/jhdavis/data/2014/2014_04_25-BrittonPLOS/isos/plos11_iso.csv...\n",
        "writing : plos11_iso_res.csv..."
       ]
      },
      {
       "output_type": "stream",
       "stream": "stdout",
       "text": [
        "\n",
        "processing /home/jhdavis/data/2014/2014_04_25-BrittonPLOS/isos/plos12_iso.csv"
       ]
      },
      {
       "output_type": "stream",
       "stream": "stdout",
       "text": [
        "\n"
       ]
      },
      {
       "output_type": "stream",
       "stream": "stdout",
       "text": [
        "reading : /home/jhdavis/data/2014/2014_04_25-BrittonPLOS/isos/plos12_iso.csv...\n",
        "writing : plos12_iso_res.csv..."
       ]
      },
      {
       "output_type": "stream",
       "stream": "stdout",
       "text": [
        "\n",
        "processing /home/jhdavis/data/2014/2014_04_25-BrittonPLOS/isos/plos13_iso.csv"
       ]
      },
      {
       "output_type": "stream",
       "stream": "stdout",
       "text": [
        "\n"
       ]
      },
      {
       "output_type": "stream",
       "stream": "stdout",
       "text": [
        "reading : /home/jhdavis/data/2014/2014_04_25-BrittonPLOS/isos/plos13_iso.csv...\n",
        "writing : plos13_iso_res.csv..."
       ]
      },
      {
       "output_type": "stream",
       "stream": "stdout",
       "text": [
        "\n",
        "processing /home/jhdavis/data/2014/2014_04_25-BrittonPLOS/isos/plos14_iso.csv"
       ]
      },
      {
       "output_type": "stream",
       "stream": "stdout",
       "text": [
        "\n"
       ]
      },
      {
       "output_type": "stream",
       "stream": "stdout",
       "text": [
        "reading : /home/jhdavis/data/2014/2014_04_25-BrittonPLOS/isos/plos14_iso.csv...\n",
        "writing : plos14_iso_res.csv..."
       ]
      },
      {
       "output_type": "stream",
       "stream": "stdout",
       "text": [
        "\n",
        "processing /home/jhdavis/data/2014/2014_04_25-BrittonPLOS/isos/plos15_iso.csv"
       ]
      },
      {
       "output_type": "stream",
       "stream": "stdout",
       "text": [
        "\n"
       ]
      },
      {
       "output_type": "stream",
       "stream": "stdout",
       "text": [
        "reading : /home/jhdavis/data/2014/2014_04_25-BrittonPLOS/isos/plos15_iso.csv...\n",
        "writing : plos15_iso_res.csv..."
       ]
      },
      {
       "output_type": "stream",
       "stream": "stdout",
       "text": [
        "\n",
        "processing /home/jhdavis/data/2014/2014_04_25-BrittonPLOS/isos/plos16_iso.csv\n"
       ]
      },
      {
       "output_type": "stream",
       "stream": "stdout",
       "text": [
        "reading : /home/jhdavis/data/2014/2014_04_25-BrittonPLOS/isos/plos16_iso.csv...\n",
        "writing : plos16_iso_res.csv..."
       ]
      },
      {
       "output_type": "stream",
       "stream": "stdout",
       "text": [
        "\n",
        "processing /home/jhdavis/data/2014/2014_04_25-BrittonPLOS/isos/plos17_iso.csv"
       ]
      },
      {
       "output_type": "stream",
       "stream": "stdout",
       "text": [
        "\n"
       ]
      },
      {
       "output_type": "stream",
       "stream": "stdout",
       "text": [
        "reading : /home/jhdavis/data/2014/2014_04_25-BrittonPLOS/isos/plos17_iso.csv...\n",
        "writing : plos17_iso_res.csv..."
       ]
      },
      {
       "output_type": "stream",
       "stream": "stdout",
       "text": [
        "\n",
        "processing /home/jhdavis/data/2014/2014_04_25-BrittonPLOS/isos/plos18_iso.csv"
       ]
      },
      {
       "output_type": "stream",
       "stream": "stdout",
       "text": [
        "\n"
       ]
      },
      {
       "output_type": "stream",
       "stream": "stdout",
       "text": [
        "reading : /home/jhdavis/data/2014/2014_04_25-BrittonPLOS/isos/plos18_iso.csv...\n",
        "writing : plos18_iso_res.csv..."
       ]
      },
      {
       "output_type": "stream",
       "stream": "stdout",
       "text": [
        "\n",
        "processing /home/jhdavis/data/2014/2014_04_25-BrittonPLOS/isos/plos19_iso.csv"
       ]
      },
      {
       "output_type": "stream",
       "stream": "stdout",
       "text": [
        "\n"
       ]
      },
      {
       "output_type": "stream",
       "stream": "stdout",
       "text": [
        "reading : /home/jhdavis/data/2014/2014_04_25-BrittonPLOS/isos/plos19_iso.csv...\n",
        "writing : plos19_iso_res.csv..."
       ]
      },
      {
       "output_type": "stream",
       "stream": "stdout",
       "text": [
        "\n",
        "processing /home/jhdavis/data/2014/2014_04_25-BrittonPLOS/isos/plos1_iso.csv\n"
       ]
      },
      {
       "output_type": "stream",
       "stream": "stdout",
       "text": [
        "reading : /home/jhdavis/data/2014/2014_04_25-BrittonPLOS/isos/plos1_iso.csv...\n",
        "writing : plos1_iso_res.csv..."
       ]
      },
      {
       "output_type": "stream",
       "stream": "stdout",
       "text": [
        "\n",
        "processing /home/jhdavis/data/2014/2014_04_25-BrittonPLOS/isos/plos20_iso.csv\n"
       ]
      },
      {
       "output_type": "stream",
       "stream": "stdout",
       "text": [
        "reading : /home/jhdavis/data/2014/2014_04_25-BrittonPLOS/isos/plos20_iso.csv...\n",
        "writing : plos20_iso_res.csv..."
       ]
      },
      {
       "output_type": "stream",
       "stream": "stdout",
       "text": [
        "\n",
        "processing /home/jhdavis/data/2014/2014_04_25-BrittonPLOS/isos/plos21_iso.csv\n"
       ]
      },
      {
       "output_type": "stream",
       "stream": "stdout",
       "text": [
        "reading : /home/jhdavis/data/2014/2014_04_25-BrittonPLOS/isos/plos21_iso.csv...\n",
        "writing : plos21_iso_res.csv..."
       ]
      },
      {
       "output_type": "stream",
       "stream": "stdout",
       "text": [
        "\n",
        "processing /home/jhdavis/data/2014/2014_04_25-BrittonPLOS/isos/plos22_iso.csv\n"
       ]
      },
      {
       "output_type": "stream",
       "stream": "stdout",
       "text": [
        "reading : /home/jhdavis/data/2014/2014_04_25-BrittonPLOS/isos/plos22_iso.csv...\n",
        "writing : plos22_iso_res.csv..."
       ]
      },
      {
       "output_type": "stream",
       "stream": "stdout",
       "text": [
        "\n",
        "processing /home/jhdavis/data/2014/2014_04_25-BrittonPLOS/isos/plos23_iso.csv\n"
       ]
      },
      {
       "output_type": "stream",
       "stream": "stdout",
       "text": [
        "reading : /home/jhdavis/data/2014/2014_04_25-BrittonPLOS/isos/plos23_iso.csv...\n",
        "writing : plos23_iso_res.csv..."
       ]
      },
      {
       "output_type": "stream",
       "stream": "stdout",
       "text": [
        "\n",
        "processing /home/jhdavis/data/2014/2014_04_25-BrittonPLOS/isos/plos2_iso.csv\n"
       ]
      },
      {
       "output_type": "stream",
       "stream": "stdout",
       "text": [
        "reading : /home/jhdavis/data/2014/2014_04_25-BrittonPLOS/isos/plos2_iso.csv...\n",
        "writing : plos2_iso_res.csv..."
       ]
      },
      {
       "output_type": "stream",
       "stream": "stdout",
       "text": [
        "\n",
        "processing /home/jhdavis/data/2014/2014_04_25-BrittonPLOS/isos/plos3_iso.csv"
       ]
      },
      {
       "output_type": "stream",
       "stream": "stdout",
       "text": [
        "\n"
       ]
      },
      {
       "output_type": "stream",
       "stream": "stdout",
       "text": [
        "reading : /home/jhdavis/data/2014/2014_04_25-BrittonPLOS/isos/plos3_iso.csv...\n",
        "writing : plos3_iso_res.csv..."
       ]
      },
      {
       "output_type": "stream",
       "stream": "stdout",
       "text": [
        "\n",
        "processing /home/jhdavis/data/2014/2014_04_25-BrittonPLOS/isos/plos4_iso.csv"
       ]
      },
      {
       "output_type": "stream",
       "stream": "stdout",
       "text": [
        "\n"
       ]
      },
      {
       "output_type": "stream",
       "stream": "stdout",
       "text": [
        "reading : /home/jhdavis/data/2014/2014_04_25-BrittonPLOS/isos/plos4_iso.csv...\n",
        "writing : plos4_iso_res.csv..."
       ]
      },
      {
       "output_type": "stream",
       "stream": "stdout",
       "text": [
        "\n",
        "processing /home/jhdavis/data/2014/2014_04_25-BrittonPLOS/isos/plos5_iso.csv"
       ]
      },
      {
       "output_type": "stream",
       "stream": "stdout",
       "text": [
        "\n"
       ]
      },
      {
       "output_type": "stream",
       "stream": "stdout",
       "text": [
        "reading : /home/jhdavis/data/2014/2014_04_25-BrittonPLOS/isos/plos5_iso.csv...\n",
        "writing : plos5_iso_res.csv..."
       ]
      },
      {
       "output_type": "stream",
       "stream": "stdout",
       "text": [
        "\n",
        "processing /home/jhdavis/data/2014/2014_04_25-BrittonPLOS/isos/plos6_iso.csv"
       ]
      },
      {
       "output_type": "stream",
       "stream": "stdout",
       "text": [
        "\n"
       ]
      },
      {
       "output_type": "stream",
       "stream": "stdout",
       "text": [
        "reading : /home/jhdavis/data/2014/2014_04_25-BrittonPLOS/isos/plos6_iso.csv...\n",
        "writing : plos6_iso_res.csv..."
       ]
      },
      {
       "output_type": "stream",
       "stream": "stdout",
       "text": [
        "\n",
        "processing /home/jhdavis/data/2014/2014_04_25-BrittonPLOS/isos/plos7_iso.csv"
       ]
      },
      {
       "output_type": "stream",
       "stream": "stdout",
       "text": [
        "\n"
       ]
      },
      {
       "output_type": "stream",
       "stream": "stdout",
       "text": [
        "reading : /home/jhdavis/data/2014/2014_04_25-BrittonPLOS/isos/plos7_iso.csv...\n",
        "writing : plos7_iso_res.csv..."
       ]
      },
      {
       "output_type": "stream",
       "stream": "stdout",
       "text": [
        "\n",
        "processing /home/jhdavis/data/2014/2014_04_25-BrittonPLOS/isos/plos8_iso.csv"
       ]
      },
      {
       "output_type": "stream",
       "stream": "stdout",
       "text": [
        "\n"
       ]
      },
      {
       "output_type": "stream",
       "stream": "stdout",
       "text": [
        "reading : /home/jhdavis/data/2014/2014_04_25-BrittonPLOS/isos/plos8_iso.csv...\n",
        "writing : plos8_iso_res.csv..."
       ]
      },
      {
       "output_type": "stream",
       "stream": "stdout",
       "text": [
        "\n",
        "processing /home/jhdavis/data/2014/2014_04_25-BrittonPLOS/isos/plos9_iso.csv\n"
       ]
      },
      {
       "output_type": "stream",
       "stream": "stdout",
       "text": [
        "reading : /home/jhdavis/data/2014/2014_04_25-BrittonPLOS/isos/plos9_iso.csv...\n",
        "writing : plos9_iso_res.csv..."
       ]
      },
      {
       "output_type": "stream",
       "stream": "stdout",
       "text": [
        "\n"
       ]
      }
     ],
     "prompt_number": 11
    },
    {
     "cell_type": "code",
     "collapsed": false,
     "input": [],
     "language": "python",
     "metadata": {},
     "outputs": []
    }
   ],
   "metadata": {}
  }
 ]
}