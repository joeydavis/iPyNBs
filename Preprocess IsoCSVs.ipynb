{
 "metadata": {
  "name": "Preprocess IsoCSVs"
 },
 "nbformat": 3,
 "nbformat_minor": 0,
 "worksheets": [
  {
   "cells": [
    {
     "cell_type": "code",
     "collapsed": false,
     "input": [
      "import qMS\n",
      "import glob\n",
      "import sys"
     ],
     "language": "python",
     "metadata": {},
     "outputs": [],
     "prompt_number": 1
    },
    {
     "cell_type": "code",
     "collapsed": false,
     "input": [
      "listToProcess = glob.glob('/home/jhdavis/data/2013_07_15-L28DepWholeCell/varProcessed/*.csv')\n",
      "listToProcess.sort()\n",
      "listToProcess"
     ],
     "language": "python",
     "metadata": {},
     "outputs": [
      {
       "output_type": "pyout",
       "prompt_number": 2,
       "text": [
        "['/home/jhdavis/data/2013_07_15-L28DepWholeCell/varProcessed/NCML28_0.2_iso.csv',\n",
        " '/home/jhdavis/data/2013_07_15-L28DepWholeCell/varProcessed/NCML28_0.6_iso.csv',\n",
        " '/home/jhdavis/data/2013_07_15-L28DepWholeCell/varProcessed/NCML28_2_iso.csv',\n",
        " '/home/jhdavis/data/2013_07_15-L28DepWholeCell/varProcessed/NCML28_6_iso.csv']"
       ]
      }
     ],
     "prompt_number": 2
    },
    {
     "cell_type": "code",
     "collapsed": false,
     "input": [
      "for f in listToProcess:\n",
      "    print \"processing \" + f\n",
      "    sys.stdout.flush()\n",
      "    qMS.preProcessIsoCSV(f, True)"
     ],
     "language": "python",
     "metadata": {},
     "outputs": [
      {
       "output_type": "stream",
       "stream": "stdout",
       "text": [
        "processing /home/jhdavis/data/2013_07_15-L28DepWholeCell/varProcessed/NCML28_0.2_iso.csv\n"
       ]
      },
      {
       "output_type": "stream",
       "stream": "stdout",
       "text": [
        "Error cannot concatenate 'str' and 'float' objects in /home/jhdavis/data/2013_07_15-L28DepWholeCell/varProcessed/NCML28_0.2_peaks/L2_70_87_0_695.696180487586_72.942425.dat\n"
       ]
      },
      {
       "output_type": "stream",
       "stream": "stdout",
       "text": [
        "Error cannot concatenate 'str' and 'float' objects in /home/jhdavis/data/2013_07_15-L28DepWholeCell/varProcessed/NCML28_0.2_peaks/L22_49_70_0_780.05610263503_63.91416.dat\n"
       ]
      },
      {
       "output_type": "stream",
       "stream": "stdout",
       "text": [
        "processing /home/jhdavis/data/2013_07_15-L28DepWholeCell/varProcessed/NCML28_0.6_iso.csv\n"
       ]
      },
      {
       "output_type": "stream",
       "stream": "stdout",
       "text": [
        "processing /home/jhdavis/data/2013_07_15-L28DepWholeCell/varProcessed/NCML28_2_iso.csv\n"
       ]
      },
      {
       "output_type": "stream",
       "stream": "stdout",
       "text": [
        "processing /home/jhdavis/data/2013_07_15-L28DepWholeCell/varProcessed/NCML28_6_iso.csv\n"
       ]
      }
     ],
     "prompt_number": 3
    },
    {
     "cell_type": "code",
     "collapsed": false,
     "input": [],
     "language": "python",
     "metadata": {},
     "outputs": []
    }
   ],
   "metadata": {}
  }
 ]
}