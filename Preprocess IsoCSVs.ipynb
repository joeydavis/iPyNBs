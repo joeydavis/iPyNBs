{
 "metadata": {
  "name": "Preprocess IsoCSVs"
 },
 "nbformat": 3,
 "nbformat_minor": 0,
 "worksheets": [
  {
   "cells": [
    {
     "cell_type": "code",
     "collapsed": false,
     "input": [
      "import qMS\n",
      "import glob\n",
      "import sys\n",
      "import time\n",
      "from multiprocessing import Pool"
     ],
     "language": "python",
     "metadata": {},
     "outputs": [],
     "prompt_number": 1
    },
    {
     "cell_type": "code",
     "collapsed": false,
     "input": [
      "listToProcess = glob.glob('/home/jhdavis/data/2014/depletions/depERound1e/isos/*.csv')\n",
      "listToProcess.sort()\n",
      "listToProcess"
     ],
     "language": "python",
     "metadata": {},
     "outputs": [
      {
       "output_type": "pyout",
       "prompt_number": 2,
       "text": [
        "['/home/jhdavis/data/2014/depletions/depERound1e/isos/depE61_iso.csv',\n",
        " '/home/jhdavis/data/2014/depletions/depERound1e/isos/depE62_iso.csv',\n",
        " '/home/jhdavis/data/2014/depletions/depERound1e/isos/depE63_iso.csv',\n",
        " '/home/jhdavis/data/2014/depletions/depERound1e/isos/depE64_iso.csv',\n",
        " '/home/jhdavis/data/2014/depletions/depERound1e/isos/depE65_iso.csv',\n",
        " '/home/jhdavis/data/2014/depletions/depERound1e/isos/depE66_iso.csv',\n",
        " '/home/jhdavis/data/2014/depletions/depERound1e/isos/depE67_iso.csv',\n",
        " '/home/jhdavis/data/2014/depletions/depERound1e/isos/depE68_iso.csv',\n",
        " '/home/jhdavis/data/2014/depletions/depERound1e/isos/depE69_iso.csv',\n",
        " '/home/jhdavis/data/2014/depletions/depERound1e/isos/depE70_iso.csv',\n",
        " '/home/jhdavis/data/2014/depletions/depERound1e/isos/depE71_iso.csv',\n",
        " '/home/jhdavis/data/2014/depletions/depERound1e/isos/depE72_iso.csv']"
       ]
      }
     ],
     "prompt_number": 2
    },
    {
     "cell_type": "code",
     "collapsed": false,
     "input": [
      "start = time.time()\n",
      "pool = Pool(processes=4)\n",
      "pool.map(qMS.preProcessIsoCSV, listToProcess)\n",
      "print \"Parallel time: %f\" % (time.time() - start)\n",
      "         "
     ],
     "language": "python",
     "metadata": {},
     "outputs": [],
     "prompt_number": "*"
    },
    {
     "cell_type": "code",
     "collapsed": false,
     "input": [
      "\n",
      "for f in listToProcess:\n",
      "    print \"processing \" + f\n",
      "    sys.stdout.flush()\n",
      "    qMS.preProcessIsoCSV(f, True)\n",
      "print \"Serial time: %f\" % (time.time() - start)"
     ],
     "language": "python",
     "metadata": {},
     "outputs": [
      {
       "output_type": "stream",
       "stream": "stdout",
       "text": [
        "processing /home/jhdavis/data/2014/depletions/depERound1e/isos/depE61_iso.csv\n"
       ]
      },
      {
       "output_type": "stream",
       "stream": "stdout",
       "text": [
        "reading : /home/jhdavis/data/2014/depletions/depERound1e/isos/depE61_iso.csv...\n",
        "writing : depE61_iso_res.csv..."
       ]
      },
      {
       "output_type": "stream",
       "stream": "stdout",
       "text": [
        "\n",
        "processing /home/jhdavis/data/2014/depletions/depERound1e/isos/depE62_iso.csv"
       ]
      },
      {
       "output_type": "stream",
       "stream": "stdout",
       "text": [
        "\n"
       ]
      }
     ],
     "prompt_number": "*"
    },
    {
     "cell_type": "code",
     "collapsed": false,
     "input": [],
     "language": "python",
     "metadata": {},
     "outputs": []
    }
   ],
   "metadata": {}
  }
 ]
}