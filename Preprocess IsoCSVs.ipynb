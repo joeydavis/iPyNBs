{
 "metadata": {
  "name": "Preprocess IsoCSVs"
 },
 "nbformat": 3,
 "nbformat_minor": 0,
 "worksheets": [
  {
   "cells": [
    {
     "cell_type": "code",
     "collapsed": false,
     "input": [
      "import qMS\n",
      "import glob"
     ],
     "language": "python",
     "metadata": {},
     "outputs": [],
     "prompt_number": 10
    },
    {
     "cell_type": "code",
     "collapsed": false,
     "input": [
      "listToProcess = glob.glob('/home/jhdavis/data/2013_03_11-NCMGradients/SingleSpike/isos/*_iso.csv')"
     ],
     "language": "python",
     "metadata": {},
     "outputs": [],
     "prompt_number": 15
    },
    {
     "cell_type": "code",
     "collapsed": false,
     "input": [
      "listToProcess.sort()\n",
      "print listToProcess"
     ],
     "language": "python",
     "metadata": {},
     "outputs": [
      {
       "output_type": "stream",
       "stream": "stdout",
       "text": [
        "['/home/jhdavis/data/2013_03_11-NCMGradients/SingleSpike/isos/S17_iso.csv', '/home/jhdavis/data/2013_03_11-NCMGradients/SingleSpike/isos/S18_iso.csv', '/home/jhdavis/data/2013_03_11-NCMGradients/SingleSpike/isos/S19_iso.csv', '/home/jhdavis/data/2013_03_11-NCMGradients/SingleSpike/isos/S20_iso.csv', '/home/jhdavis/data/2013_03_11-NCMGradients/SingleSpike/isos/S21_iso.csv', '/home/jhdavis/data/2013_03_11-NCMGradients/SingleSpike/isos/S22_iso.csv', '/home/jhdavis/data/2013_03_11-NCMGradients/SingleSpike/isos/S23_iso.csv', '/home/jhdavis/data/2013_03_11-NCMGradients/SingleSpike/isos/S24_iso.csv', '/home/jhdavis/data/2013_03_11-NCMGradients/SingleSpike/isos/S25_iso.csv', '/home/jhdavis/data/2013_03_11-NCMGradients/SingleSpike/isos/S26_iso.csv', '/home/jhdavis/data/2013_03_11-NCMGradients/SingleSpike/isos/S27_iso.csv', '/home/jhdavis/data/2013_03_11-NCMGradients/SingleSpike/isos/S28_iso.csv', '/home/jhdavis/data/2013_03_11-NCMGradients/SingleSpike/isos/S29_iso.csv', '/home/jhdavis/data/2013_03_11-NCMGradients/SingleSpike/isos/S30_iso.csv', '/home/jhdavis/data/2013_03_11-NCMGradients/SingleSpike/isos/S31_iso.csv', '/home/jhdavis/data/2013_03_11-NCMGradients/SingleSpike/isos/S32_iso.csv', '/home/jhdavis/data/2013_03_11-NCMGradients/SingleSpike/isos/S33_iso.csv', '/home/jhdavis/data/2013_03_11-NCMGradients/SingleSpike/isos/S34_iso.csv', '/home/jhdavis/data/2013_03_11-NCMGradients/SingleSpike/isos/S35_iso.csv', '/home/jhdavis/data/2013_03_11-NCMGradients/SingleSpike/isos/S36_iso.csv', '/home/jhdavis/data/2013_03_11-NCMGradients/SingleSpike/isos/S37_iso.csv', '/home/jhdavis/data/2013_03_11-NCMGradients/SingleSpike/isos/S38_iso.csv']\n"
       ]
      }
     ],
     "prompt_number": 17
    },
    {
     "cell_type": "code",
     "collapsed": false,
     "input": [
      "for f in listToProcess:\n",
      "    print f\n",
      "    qMS.preProcessIsoCSV(f, True)"
     ],
     "language": "python",
     "metadata": {},
     "outputs": [
      {
       "output_type": "stream",
       "stream": "stdout",
       "text": [
        "/home/jhdavis/data/2013_03_11-NCMGradients/SingleSpike/isos/S19_iso.csv\n"
       ]
      }
     ],
     "prompt_number": 14
    },
    {
     "cell_type": "code",
     "collapsed": false,
     "input": [],
     "language": "python",
     "metadata": {},
     "outputs": []
    }
   ],
   "metadata": {}
  }
 ]
}