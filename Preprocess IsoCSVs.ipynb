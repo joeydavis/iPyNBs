{
 "metadata": {
  "name": ""
 },
 "nbformat": 3,
 "nbformat_minor": 0,
 "worksheets": [
  {
   "cells": [
    {
     "cell_type": "code",
     "collapsed": false,
     "input": [
      "import qMS\n",
      "import glob\n",
      "import sys\n",
      "import time\n",
      "from multiprocessing import Pool"
     ],
     "language": "python",
     "metadata": {},
     "outputs": [],
     "prompt_number": 1
    },
    {
     "cell_type": "code",
     "collapsed": false,
     "input": [
      "listToProcess = glob.glob('/home/jhdavis/data/2014/2014_05_30-NJ2/isos/*.csv')\n",
      "listToProcess = qMS.sort_nicely(listToProcess)\n",
      "listToProcess[3:]"
     ],
     "language": "python",
     "metadata": {},
     "outputs": [
      {
       "metadata": {},
       "output_type": "pyout",
       "prompt_number": 5,
       "text": [
        "['/home/jhdavis/data/2014/2014_05_30-NJ2/isos/nj2-2_iso.csv',\n",
        " '/home/jhdavis/data/2014/2014_05_30-NJ2/isos/nj2-3_iso.csv',\n",
        " '/home/jhdavis/data/2014/2014_05_30-NJ2/isos/nj2-4_iso.csv',\n",
        " '/home/jhdavis/data/2014/2014_05_30-NJ2/isos/nj2-5_iso.csv',\n",
        " '/home/jhdavis/data/2014/2014_05_30-NJ2/isos/nj2-6_iso.csv',\n",
        " '/home/jhdavis/data/2014/2014_05_30-NJ2/isos/nj2-7_iso.csv',\n",
        " '/home/jhdavis/data/2014/2014_05_30-NJ2/isos/nj2-8_iso.csv',\n",
        " '/home/jhdavis/data/2014/2014_05_30-NJ2/isos/nj2-9_iso.csv',\n",
        " '/home/jhdavis/data/2014/2014_05_30-NJ2/isos/nj2-10_iso.csv',\n",
        " '/home/jhdavis/data/2014/2014_05_30-NJ2/isos/nj2-11_iso.csv',\n",
        " '/home/jhdavis/data/2014/2014_05_30-NJ2/isos/nj2-12_iso.csv',\n",
        " '/home/jhdavis/data/2014/2014_05_30-NJ2/isos/nj2-13_iso.csv',\n",
        " '/home/jhdavis/data/2014/2014_05_30-NJ2/isos/nj2-14_iso.csv',\n",
        " '/home/jhdavis/data/2014/2014_05_30-NJ2/isos/nj2-15_iso.csv',\n",
        " '/home/jhdavis/data/2014/2014_05_30-NJ2/isos/nj2-16_iso.csv']"
       ]
      }
     ],
     "prompt_number": 5
    },
    {
     "cell_type": "code",
     "collapsed": false,
     "input": [
      "#start = time.time()\n",
      "#pool = Pool(processes=4)\n",
      "#pool.map(qMS.preProcessIsoCSV, listToProcess)\n",
      "#print \"Parallel time: %f\" % (time.time() - start)\n",
      "         "
     ],
     "language": "python",
     "metadata": {},
     "outputs": [],
     "prompt_number": 10
    },
    {
     "cell_type": "code",
     "collapsed": false,
     "input": [
      "for f in listToProcess[3:]:\n",
      "    print \"processing \" + f\n",
      "    sys.stdout.flush()\n",
      "    qMS.preProcessIsoCSV(f, True)\n",
      "#print \"Serial time: %f\" % (time.time() - start)"
     ],
     "language": "python",
     "metadata": {},
     "outputs": [
      {
       "output_type": "stream",
       "stream": "stdout",
       "text": [
        "processing /home/jhdavis/data/2014/2014_05_30-NJ2/isos/nj2-2_iso.csv\n"
       ]
      },
      {
       "output_type": "stream",
       "stream": "stdout",
       "text": [
        "reading : /home/jhdavis/data/2014/2014_05_30-NJ2/isos/nj2-2_iso.csv...\n",
        "writing : nj2-2_iso_res.csv..."
       ]
      },
      {
       "output_type": "stream",
       "stream": "stdout",
       "text": [
        "\n",
        "processing /home/jhdavis/data/2014/2014_05_30-NJ2/isos/nj2-3_iso.csv\n"
       ]
      },
      {
       "output_type": "stream",
       "stream": "stdout",
       "text": [
        "reading : /home/jhdavis/data/2014/2014_05_30-NJ2/isos/nj2-3_iso.csv...\n",
        "writing : nj2-3_iso_res.csv..."
       ]
      },
      {
       "output_type": "stream",
       "stream": "stdout",
       "text": [
        "\n",
        "processing /home/jhdavis/data/2014/2014_05_30-NJ2/isos/nj2-4_iso.csv\n"
       ]
      },
      {
       "output_type": "stream",
       "stream": "stdout",
       "text": [
        "reading : /home/jhdavis/data/2014/2014_05_30-NJ2/isos/nj2-4_iso.csv...\n",
        "writing : nj2-4_iso_res.csv..."
       ]
      },
      {
       "output_type": "stream",
       "stream": "stdout",
       "text": [
        "\n",
        "processing /home/jhdavis/data/2014/2014_05_30-NJ2/isos/nj2-5_iso.csv"
       ]
      },
      {
       "output_type": "stream",
       "stream": "stdout",
       "text": [
        "\n"
       ]
      },
      {
       "output_type": "stream",
       "stream": "stdout",
       "text": [
        "reading : /home/jhdavis/data/2014/2014_05_30-NJ2/isos/nj2-5_iso.csv...\n",
        "writing : nj2-5_iso_res.csv..."
       ]
      },
      {
       "output_type": "stream",
       "stream": "stdout",
       "text": [
        "\n",
        "processing /home/jhdavis/data/2014/2014_05_30-NJ2/isos/nj2-6_iso.csv"
       ]
      },
      {
       "output_type": "stream",
       "stream": "stdout",
       "text": [
        "\n"
       ]
      },
      {
       "output_type": "stream",
       "stream": "stdout",
       "text": [
        "reading : /home/jhdavis/data/2014/2014_05_30-NJ2/isos/nj2-6_iso.csv...\n",
        "writing : nj2-6_iso_res.csv..."
       ]
      },
      {
       "output_type": "stream",
       "stream": "stdout",
       "text": [
        "\n",
        "processing /home/jhdavis/data/2014/2014_05_30-NJ2/isos/nj2-7_iso.csv\n"
       ]
      },
      {
       "output_type": "stream",
       "stream": "stdout",
       "text": [
        "reading : /home/jhdavis/data/2014/2014_05_30-NJ2/isos/nj2-7_iso.csv...\n",
        "writing : nj2-7_iso_res.csv..."
       ]
      },
      {
       "output_type": "stream",
       "stream": "stdout",
       "text": [
        "\n",
        "processing /home/jhdavis/data/2014/2014_05_30-NJ2/isos/nj2-8_iso.csv"
       ]
      },
      {
       "output_type": "stream",
       "stream": "stdout",
       "text": [
        "\n"
       ]
      },
      {
       "output_type": "stream",
       "stream": "stdout",
       "text": [
        "reading : /home/jhdavis/data/2014/2014_05_30-NJ2/isos/nj2-8_iso.csv...\n",
        "writing : nj2-8_iso_res.csv..."
       ]
      },
      {
       "output_type": "stream",
       "stream": "stdout",
       "text": [
        "\n",
        "processing /home/jhdavis/data/2014/2014_05_30-NJ2/isos/nj2-9_iso.csv"
       ]
      },
      {
       "output_type": "stream",
       "stream": "stdout",
       "text": [
        "\n"
       ]
      },
      {
       "output_type": "stream",
       "stream": "stdout",
       "text": [
        "reading : /home/jhdavis/data/2014/2014_05_30-NJ2/isos/nj2-9_iso.csv...\n",
        "writing : nj2-9_iso_res.csv..."
       ]
      },
      {
       "output_type": "stream",
       "stream": "stdout",
       "text": [
        "\n",
        "processing /home/jhdavis/data/2014/2014_05_30-NJ2/isos/nj2-10_iso.csv"
       ]
      },
      {
       "output_type": "stream",
       "stream": "stdout",
       "text": [
        "\n"
       ]
      },
      {
       "output_type": "stream",
       "stream": "stdout",
       "text": [
        "reading : /home/jhdavis/data/2014/2014_05_30-NJ2/isos/nj2-10_iso.csv...\n",
        "writing : nj2-10_iso_res.csv..."
       ]
      },
      {
       "output_type": "stream",
       "stream": "stdout",
       "text": [
        "\n",
        "processing /home/jhdavis/data/2014/2014_05_30-NJ2/isos/nj2-11_iso.csv"
       ]
      },
      {
       "output_type": "stream",
       "stream": "stdout",
       "text": [
        "\n"
       ]
      },
      {
       "output_type": "stream",
       "stream": "stdout",
       "text": [
        "reading : /home/jhdavis/data/2014/2014_05_30-NJ2/isos/nj2-11_iso.csv...\n",
        "writing : nj2-11_iso_res.csv..."
       ]
      },
      {
       "output_type": "stream",
       "stream": "stdout",
       "text": [
        "\n",
        "processing /home/jhdavis/data/2014/2014_05_30-NJ2/isos/nj2-12_iso.csv\n"
       ]
      },
      {
       "output_type": "stream",
       "stream": "stdout",
       "text": [
        "reading : /home/jhdavis/data/2014/2014_05_30-NJ2/isos/nj2-12_iso.csv...\n",
        "writing : nj2-12_iso_res.csv..."
       ]
      },
      {
       "output_type": "stream",
       "stream": "stdout",
       "text": [
        "\n",
        "processing /home/jhdavis/data/2014/2014_05_30-NJ2/isos/nj2-13_iso.csv"
       ]
      },
      {
       "output_type": "stream",
       "stream": "stdout",
       "text": [
        "\n"
       ]
      },
      {
       "output_type": "stream",
       "stream": "stdout",
       "text": [
        "reading : /home/jhdavis/data/2014/2014_05_30-NJ2/isos/nj2-13_iso.csv...\n",
        "writing : nj2-13_iso_res.csv..."
       ]
      },
      {
       "output_type": "stream",
       "stream": "stdout",
       "text": [
        "\n",
        "processing /home/jhdavis/data/2014/2014_05_30-NJ2/isos/nj2-14_iso.csv\n"
       ]
      },
      {
       "output_type": "stream",
       "stream": "stdout",
       "text": [
        "reading : /home/jhdavis/data/2014/2014_05_30-NJ2/isos/nj2-14_iso.csv...\n",
        "writing : nj2-14_iso_res.csv..."
       ]
      },
      {
       "output_type": "stream",
       "stream": "stdout",
       "text": [
        "\n",
        "processing /home/jhdavis/data/2014/2014_05_30-NJ2/isos/nj2-15_iso.csv"
       ]
      },
      {
       "output_type": "stream",
       "stream": "stdout",
       "text": [
        "\n"
       ]
      },
      {
       "output_type": "stream",
       "stream": "stdout",
       "text": [
        "reading : /home/jhdavis/data/2014/2014_05_30-NJ2/isos/nj2-15_iso.csv...\n",
        "writing : nj2-15_iso_res.csv..."
       ]
      },
      {
       "output_type": "stream",
       "stream": "stdout",
       "text": [
        "\n",
        "processing /home/jhdavis/data/2014/2014_05_30-NJ2/isos/nj2-16_iso.csv"
       ]
      },
      {
       "output_type": "stream",
       "stream": "stdout",
       "text": [
        "\n"
       ]
      },
      {
       "output_type": "stream",
       "stream": "stdout",
       "text": [
        "reading : /home/jhdavis/data/2014/2014_05_30-NJ2/isos/nj2-16_iso.csv...\n",
        "writing : nj2-16_iso_res.csv..."
       ]
      },
      {
       "output_type": "stream",
       "stream": "stdout",
       "text": [
        "\n"
       ]
      },
      {
       "output_type": "stream",
       "stream": "stderr",
       "text": [
        "/home/jhdavis/scripts/python/modules/qMSModule/qMS.py:640: SettingWithCopyWarning: A value is trying to be set on a copy of a slice from a DataFrame.\n",
        "Try using .loc[row_index,col_indexer] = value instead\n",
        "  row['resid'] = calcResid\n",
        "/home/jhdavis/scripts/python/modules/qMSModule/qMS.py:641: SettingWithCopyWarning: A value is trying to be set on a copy of a slice from a DataFrame.\n",
        "Try using .loc[row_index,col_indexer] = value instead\n",
        "  row['minIntensity'] = calcMinIntensity\n"
       ]
      }
     ],
     "prompt_number": 6
    },
    {
     "cell_type": "code",
     "collapsed": false,
     "input": [],
     "language": "python",
     "metadata": {},
     "outputs": []
    }
   ],
   "metadata": {}
  }
 ]
}