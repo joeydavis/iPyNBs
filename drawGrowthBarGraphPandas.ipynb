{
 "metadata": {
  "name": "drawGrowthBarGraphPandas"
 },
 "nbformat": 3,
 "nbformat_minor": 0,
 "worksheets": [
  {
   "cells": [
    {
     "cell_type": "code",
     "collapsed": true,
     "input": [
      "import numpy\n",
      "import scipy\n",
      "from scipy import stats\n",
      "import pylab\n",
      "import csv\n",
      "import os\n",
      "import matplotlib.pyplot as plt\n",
      "import pandas\n",
      "import matplotlib.cm as cm\n",
      "import matplotlib\n",
      "from matplotlib import rcParams\n",
      "import vizLib"
     ],
     "language": "python",
     "metadata": {},
     "outputs": [],
     "prompt_number": 13
    },
    {
     "cell_type": "code",
     "collapsed": false,
     "input": [
      "path = '/home/jhdavis/data/2013_07_20-L19DepGrowthData/'\n",
      "files = [f for f in os.listdir(path) if f[-4:] == '.txt']\n",
      "files.sort()\n",
      "fp = [path+f for f in files]\n",
      "fp"
     ],
     "language": "python",
     "metadata": {},
     "outputs": [
      {
       "output_type": "pyout",
       "prompt_number": 22,
       "text": [
        "['/home/jhdavis/data/2013_07_20-L19DepGrowthData/114.txt',\n",
        " '/home/jhdavis/data/2013_07_20-L19DepGrowthData/141.txt',\n",
        " '/home/jhdavis/data/2013_07_20-L19DepGrowthData/338.txt',\n",
        " '/home/jhdavis/data/2013_07_20-L19DepGrowthData/452.txt',\n",
        " '/home/jhdavis/data/2013_07_20-L19DepGrowthData/514.txt',\n",
        " '/home/jhdavis/data/2013_07_20-L19DepGrowthData/618.txt',\n",
        " '/home/jhdavis/data/2013_07_20-L19DepGrowthData/712.txt']"
       ]
      }
     ],
     "prompt_number": 22
    },
    {
     "cell_type": "code",
     "collapsed": false,
     "input": [
      "times = [f.split('.')[0] for f in files]\n",
      "dt = [(int(t[:-2])-1)*60+int(t[-2:])-14 if int(t[:-2])<11 else (int(t[:-2])-11)*60+int(t[-2:])-47 for t in times]\n",
      "dt"
     ],
     "language": "python",
     "metadata": {},
     "outputs": [
      {
       "output_type": "pyout",
       "prompt_number": 26,
       "text": [
        "[0, 27, 144, 218, 240, 304, 358]"
       ]
      }
     ],
     "prompt_number": 26
    },
    {
     "cell_type": "code",
     "collapsed": false,
     "input": [
      "dat = pandas.read_csv(fp[0], sep='\\t', usecols=['Well', 'Result'], index_col='Well')\n",
      "dat.columns=[dt[0]]\n",
      "for i,f in enumerate(fp[1:]):\n",
      "    d = pandas.read_csv(f, sep='\\t', usecols=['Well', 'Result'], index_col='Well')\n",
      "    d.columns=[dt[i+1]]\n",
      "    dat = dat.join(d)"
     ],
     "language": "python",
     "metadata": {},
     "outputs": [],
     "prompt_number": 27
    },
    {
     "cell_type": "code",
     "collapsed": false,
     "input": [
      "rows = ['A', 'B', 'C', 'D', 'E', 'F', 'G', 'H']\n",
      "cols = ['01', '02', '03', '04', '05', '06', '07', '08', '09', '10', '11', '12']\n",
      "titles = ['314_L19', '315_L19', '189_WT', '314_L19_2', '315_L19_2', '189_WT_2', 'Media', 'H20', 'XXX']\n",
      "my_colors = cm.rainbow(numpy.linspace(0, 1, len(rows)-2))\n",
      "concs = [9,3,1,0.3,0.1,0.01]"
     ],
     "language": "python",
     "metadata": {},
     "outputs": [],
     "prompt_number": 30
    },
    {
     "cell_type": "code",
     "collapsed": false,
     "input": [
      "scale = 12\n",
      "defaultFont = {'family' : 'serif',\n",
      "             'variant' : 'normal',\n",
      "             'weight' : 400,\n",
      "             'size' : scale*1}\n",
      "\n",
      "axisFont = {'titlesize' : scale*1.5,\n",
      "            'labelsize' : scale*1.25}\n",
      "\n",
      "axisTitleFont = {'weight' : 700}\n",
      "\n",
      "\n",
      "xAxisTicks = {'major.size' : 8,\n",
      "              'minor.size' : 4,\n",
      "              'major.width' : 1,\n",
      "              'minor.width' : 1,\n",
      "              'labelsize' : scale*1,\n",
      "              'minor.pad' : 1,\n",
      "              'major.pad' : 1}\n",
      "\n",
      "yAxisTicks = {'major.size' : 8,\n",
      "              'minor.size' : 4,\n",
      "              'major.width' : 1,\n",
      "              'minor.width' : 1,\n",
      "              'labelsize' : scale*1,\n",
      "              'minor.pad' : 3,\n",
      "              'major.pad' : 3}\n",
      "\n",
      "legend = {'fancybox' : True,\n",
      "          'numpoints' : 1,\n",
      "          'fontsize' : scale*0.85,\n",
      "          'borderaxespad' : 1}\n",
      "\n",
      "matplotlib.rc('font', **defaultFont)\n",
      "matplotlib.rc('axes', **axisFont)\n",
      "matplotlib.rc('xtick', **xAxisTicks)\n",
      "matplotlib.rc('ytick', **yAxisTicks)\n",
      "matplotlib.rc('legend', **legend)\n",
      "\n",
      "matplotlib.rc('lines', linewidth=2)\n",
      "matplotlib.rc('axes', linewidth=3)\n",
      "##AXISNAME.xaxis.set_ticks_position('bottom')\n",
      "##AXISNAME.yaxis.set_ticks_position('left')\n",
      "##AXISNAME.xaxis.labelpad = 2"
     ],
     "language": "python",
     "metadata": {},
     "outputs": [],
     "prompt_number": 31
    },
    {
     "cell_type": "code",
     "collapsed": false,
     "input": [
      "fig, axes = plt.subplots(nrows=3, ncols=3, figsize=(11*1.5,8.5*1.5))\n",
      "for i, col in enumerate(cols[1:-2]):\n",
      "    names = [r+col for r in rows[1:-1]]\n",
      "    ser = dat.ix[[r+col for r in rows[1:-1]]][304]\n",
      "    a = axes[int(i/3), int(i%3)]\n",
      "    a.semilogx(concs, ser, marker='o', markersize=12)\n",
      "    #a.set_title(titles[i], fontdict=axisTitleFont)\n",
      "    a.set_title(titles[i])\n",
      "    a.set_xlabel('[hsl] (nM)')\n",
      "    a.set_ylabel('OD600 at 432 mins')\n",
      "    a.set_ylim(0,0.8)\n",
      "    a.set_xlim(0.005,20)\n",
      "    a.set_yticks([0, 0.2, 0.4, 0.6, 0.8])\n",
      "#    a.set_xlabels([0.01, 0.1, 0.3, 1, 3, 9])\n",
      "    a.xaxis.set_ticks_position('bottom')\n",
      "    a.yaxis.set_ticks_position('left')\n",
      "    a.xaxis.labelpad = 1\n",
      "    a.yaxis.labelpad = 3\n",
      "plt.tight_layout()\n",
      "#plt.savefig(path+'hslDependence.png')\n",
      "#plt.savefig(path+'hslDependence.pdf')"
     ],
     "language": "python",
     "metadata": {},
     "outputs": [],
     "prompt_number": 33
    },
    {
     "cell_type": "code",
     "collapsed": false,
     "input": [
      "scale = 12\n",
      "defaultFont = {'family' : 'serif',\n",
      "             'variant' : 'normal',\n",
      "             'weight' : 400,\n",
      "             'size' : scale*1}\n",
      "\n",
      "axisFont = {'titlesize' : scale*1.5,\n",
      "            'labelsize' : scale*1.25}\n",
      "\n",
      "axisTitleFont = {'weight' : 700}\n",
      "\n",
      "\n",
      "xAxisTicks = {'major.size' : 8,\n",
      "              'minor.size' : 4,\n",
      "              'major.width' : 1,\n",
      "              'minor.width' : 1,\n",
      "              'labelsize' : scale*1,\n",
      "              'minor.pad' : 3,\n",
      "              'major.pad' : 3}\n",
      "\n",
      "yAxisTicks = {'major.size' : 8,\n",
      "              'minor.size' : 4,\n",
      "              'major.width' : 1,\n",
      "              'minor.width' : 1,\n",
      "              'labelsize' : scale*1,\n",
      "              'minor.pad' : 3,\n",
      "              'major.pad' : 3}\n",
      "\n",
      "legend = {'fancybox' : True,\n",
      "          'numpoints' : 1,\n",
      "          'fontsize' : scale*0.85,\n",
      "          'borderaxespad' : 1}\n",
      "\n",
      "matplotlib.rc('font', **defaultFont)\n",
      "matplotlib.rc('axes', **axisFont)\n",
      "matplotlib.rc('xtick', **xAxisTicks)\n",
      "matplotlib.rc('ytick', **yAxisTicks)\n",
      "matplotlib.rc('legend', **legend)\n",
      "\n",
      "matplotlib.rc('lines', linewidth=2)\n",
      "matplotlib.rc('axes', linewidth=3)\n",
      "##AXISNAME.xaxis.set_ticks_position('bottom')\n",
      "##AXISNAME.yaxis.set_ticks_position('left')\n",
      "##AXISNAME.xaxis.labelpad = 2"
     ],
     "language": "python",
     "metadata": {},
     "outputs": [],
     "prompt_number": 20
    },
    {
     "cell_type": "code",
     "collapsed": false,
     "input": [
      "fig, axes = plt.subplots(nrows=3, ncols=3, figsize=(11*1.5,8.5*1.5))\n",
      "for i, col in enumerate(cols[1:-2]):\n",
      "    names = [r+col for r in rows[1:-1]]\n",
      "    ser = dat.ix[names]\n",
      "    a = axes[int(i/3), int(i%3)]\n",
      "    ser.T.plot(marker='o', title=titles[i], color=my_colors, ax=a, ylim=(0,0.8))\n",
      "    a.set_yticks([0, 0.2, 0.4, 0.6, 0.8])\n",
      "    a.legend(loc='upper left')\n",
      "    a.set_xlabel('time (mins)')\n",
      "    a.set_ylabel('OD600')\n",
      "    a.xaxis.set_ticks_position('bottom')\n",
      "    a.yaxis.set_ticks_position('left')\n",
      "    a.xaxis.labelpad = 1\n",
      "    a.yaxis.labelpad = 3\n",
      "plt.tight_layout()\n",
      "#plt.savefig(path+'allPlots.png')\n",
      "#plt.savefig(path+'allPlots.pdf')"
     ],
     "language": "python",
     "metadata": {},
     "outputs": [],
     "prompt_number": 21
    },
    {
     "cell_type": "code",
     "collapsed": false,
     "input": [],
     "language": "python",
     "metadata": {},
     "outputs": [],
     "prompt_number": 27
    },
    {
     "cell_type": "code",
     "collapsed": false,
     "input": [],
     "language": "python",
     "metadata": {},
     "outputs": [],
     "prompt_number": 27
    },
    {
     "cell_type": "code",
     "collapsed": true,
     "input": [],
     "language": "python",
     "metadata": {},
     "outputs": []
    }
   ],
   "metadata": {}
  }
 ]
}