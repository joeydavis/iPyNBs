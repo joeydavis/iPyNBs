{
 "metadata": {
  "name": "Subtilis MW ladder"
 },
 "nbformat": 3,
 "nbformat_minor": 0,
 "worksheets": [
  {
   "cells": [
    {
     "cell_type": "code",
     "collapsed": false,
     "input": [
      "import qMS\n",
      "import pylab\n",
      "import re\n",
      "import numpy"
     ],
     "language": "python",
     "metadata": {},
     "outputs": [],
     "prompt_number": 34
    },
    {
     "cell_type": "code",
     "collapsed": false,
     "input": [
      "[subGN, subGP] = qMS.getRPInfo(54-22+1, start=22, baseURL='http://ribosome.med.miyazaki-u.ac.jp/rpg.cgi?mode=gene&id=BAC100')"
     ],
     "language": "python",
     "metadata": {},
     "outputs": [
      {
       "output_type": "stream",
       "stream": "stdout",
       "text": [
        "['http://ribosome.med.miyazaki-u.ac.jp/rpg.cgi?mode=gene&id=BAC10022', 'http://ribosome.med.miyazaki-u.ac.jp/rpg.cgi?mode=gene&id=BAC10023', 'http://ribosome.med.miyazaki-u.ac.jp/rpg.cgi?mode=gene&id=BAC10024', 'http://ribosome.med.miyazaki-u.ac.jp/rpg.cgi?mode=gene&id=BAC10025', 'http://ribosome.med.miyazaki-u.ac.jp/rpg.cgi?mode=gene&id=BAC10026', 'http://ribosome.med.miyazaki-u.ac.jp/rpg.cgi?mode=gene&id=BAC10027', 'http://ribosome.med.miyazaki-u.ac.jp/rpg.cgi?mode=gene&id=BAC10028', 'http://ribosome.med.miyazaki-u.ac.jp/rpg.cgi?mode=gene&id=BAC10029', 'http://ribosome.med.miyazaki-u.ac.jp/rpg.cgi?mode=gene&id=BAC10030', 'http://ribosome.med.miyazaki-u.ac.jp/rpg.cgi?mode=gene&id=BAC10031', 'http://ribosome.med.miyazaki-u.ac.jp/rpg.cgi?mode=gene&id=BAC10032', 'http://ribosome.med.miyazaki-u.ac.jp/rpg.cgi?mode=gene&id=BAC10033', 'http://ribosome.med.miyazaki-u.ac.jp/rpg.cgi?mode=gene&id=BAC10034', 'http://ribosome.med.miyazaki-u.ac.jp/rpg.cgi?mode=gene&id=BAC10035', 'http://ribosome.med.miyazaki-u.ac.jp/rpg.cgi?mode=gene&id=BAC10036', 'http://ribosome.med.miyazaki-u.ac.jp/rpg.cgi?mode=gene&id=BAC10037', 'http://ribosome.med.miyazaki-u.ac.jp/rpg.cgi?mode=gene&id=BAC10038', 'http://ribosome.med.miyazaki-u.ac.jp/rpg.cgi?mode=gene&id=BAC10039', 'http://ribosome.med.miyazaki-u.ac.jp/rpg.cgi?mode=gene&id=BAC10040', 'http://ribosome.med.miyazaki-u.ac.jp/rpg.cgi?mode=gene&id=BAC10041', 'http://ribosome.med.miyazaki-u.ac.jp/rpg.cgi?mode=gene&id=BAC10042', 'http://ribosome.med.miyazaki-u.ac.jp/rpg.cgi?mode=gene&id=BAC10043', 'http://ribosome.med.miyazaki-u.ac.jp/rpg.cgi?mode=gene&id=BAC10044', 'http://ribosome.med.miyazaki-u.ac.jp/rpg.cgi?mode=gene&id=BAC10045', 'http://ribosome.med.miyazaki-u.ac.jp/rpg.cgi?mode=gene&id=BAC10046', 'http://ribosome.med.miyazaki-u.ac.jp/rpg.cgi?mode=gene&id=BAC10047', 'http://ribosome.med.miyazaki-u.ac.jp/rpg.cgi?mode=gene&id=BAC10048', 'http://ribosome.med.miyazaki-u.ac.jp/rpg.cgi?mode=gene&id=BAC10049', 'http://ribosome.med.miyazaki-u.ac.jp/rpg.cgi?mode=gene&id=BAC10050', 'http://ribosome.med.miyazaki-u.ac.jp/rpg.cgi?mode=gene&id=BAC10051', 'http://ribosome.med.miyazaki-u.ac.jp/rpg.cgi?mode=gene&id=BAC10052', 'http://ribosome.med.miyazaki-u.ac.jp/rpg.cgi?mode=gene&id=BAC10053', 'http://ribosome.med.miyazaki-u.ac.jp/rpg.cgi?mode=gene&id=BAC10054']\n"
       ]
      }
     ],
     "prompt_number": 9
    },
    {
     "cell_type": "code",
     "collapsed": false,
     "input": [
      "def sort_nicely( l ): \n",
      "    \"\"\" Sort the given list in the way that humans expect. \n",
      "    \"\"\" \n",
      "    convert = lambda text: int(text) if text.isdigit() else text \n",
      "    alphanum_key = lambda key: [ convert(c) for c in re.split('([0-9]+)', key) ] \n",
      "    l.sort( key=alphanum_key )\n",
      "    return l"
     ],
     "language": "python",
     "metadata": {},
     "outputs": [],
     "prompt_number": 19
    },
    {
     "cell_type": "code",
     "collapsed": false,
     "input": [
      "n = subGP.keys()\n",
      "n = sort_nicely(n)"
     ],
     "language": "python",
     "metadata": {},
     "outputs": [],
     "prompt_number": 35
    },
    {
     "cell_type": "code",
     "collapsed": false,
     "input": [
      "nameMobDict = {}"
     ],
     "language": "python",
     "metadata": {},
     "outputs": [],
     "prompt_number": 26
    },
    {
     "cell_type": "code",
     "collapsed": false,
     "input": [
      "subGP[n[0]]['AA']"
     ],
     "language": "python",
     "metadata": {},
     "outputs": [
      {
       "output_type": "pyout",
       "prompt_number": 27,
       "text": [
        "'MAKKGKKYVEAAKLVDHSKAYDVSEAVALVKKTNTAKFDATVEVAFRLGVDPSKNHQQIRGAVVLPNGTGKTQRVLVFAKGEKAKEAEAAGADFVGDTDYINKIQQGWFDFDVIVATPDMMGEVGKIGRVLGPKGLMPNPKTGTVTFEVEKAIGEIKAGKVEYRVDKAGNIHVPIGKVSFEDEKLVENFTTMYDTILKAKPAAAKGVYVKNVAVTSTMGPGVKVDSSTFNVK*\\n'"
       ]
      }
     ],
     "prompt_number": 27
    },
    {
     "cell_type": "code",
     "collapsed": false,
     "input": [
      "mobNameDict = {}\n",
      "for name in n:\n",
      "    seq = subGP[name]['AA']\n",
      "    mw = qMS.calcMW(seq[:-1])\n",
      "    nameMobDict[name] = log(mw)\n",
      "    mobNameDict[log(mw)] = name"
     ],
     "language": "python",
     "metadata": {},
     "outputs": [],
     "prompt_number": 71
    },
    {
     "cell_type": "code",
     "collapsed": false,
     "input": [
      "scale = 12\n",
      "defaultFont = {'family' : 'serif',\n",
      "             'variant' : 'normal',\n",
      "             'weight' : 400,\n",
      "             'size' : scale*.9}\n",
      "\n",
      "axisFont = {'titlesize' : scale*1.5,\n",
      "            'labelsize' : scale*1.5}\n",
      "\n",
      "axisTitleFont = {'weight' : 700}\n",
      "\n",
      "\n",
      "xAxisTicks = {'major.size' : 8,\n",
      "              'minor.size' : 4,\n",
      "              'major.width' : 1,\n",
      "              'minor.width' : 1,\n",
      "              'labelsize' : scale*1,\n",
      "              'minor.pad' : 3,\n",
      "              'major.pad' : 3}\n",
      "\n",
      "yAxisTicks = {'major.size' : 8,\n",
      "              'minor.size' : 4,\n",
      "              'major.width' : 1,\n",
      "              'minor.width' : 1,\n",
      "              'labelsize' : scale*1,\n",
      "              'minor.pad' : 3,\n",
      "              'major.pad' : 3}\n",
      "\n",
      "legend = {'fancybox' : True,\n",
      "          'numpoints' : 1,\n",
      "          'fontsize' : scale*0.85,\n",
      "          'borderaxespad' : 1}\n",
      "\n",
      "matplotlib.rc('font', **defaultFont)\n",
      "matplotlib.rc('axes', **axisFont)\n",
      "matplotlib.rc('xtick', **xAxisTicks)\n",
      "matplotlib.rc('ytick', **yAxisTicks)\n",
      "matplotlib.rc('legend', **legend)\n",
      "\n",
      "matplotlib.rc('lines', linewidth=2)\n",
      "matplotlib.rc('axes', linewidth=3)\n",
      "##AXISNAME.xaxis.set_ticks_position('bottom')\n",
      "##AXISNAME.yaxis.set_ticks_position('left')\n",
      "##AXISNAME.xaxis.labelpad = 2"
     ],
     "language": "python",
     "metadata": {},
     "outputs": [],
     "prompt_number": 97
    },
    {
     "cell_type": "code",
     "collapsed": false,
     "input": [
      "f = pylab.figure(figsize=(3, 11))\n",
      "f1 = f.add_subplot(111)\n",
      "f1.scatter(numpy.zeros(len(nameMobDict.values()))+0.04, nameMobDict.values(), marker='_', s=3000)\n",
      "i = 1\n",
      "o = mobNameDict.keys()\n",
      "o.sort()\n",
      "for mw in o:\n",
      "    f1.text(0.2*i, mw, mobNameDict[mw])\n",
      "    i = i*-1\n",
      "f1.set_xlim([-0.3, 0.35])\n",
      "f1.set_ylim([8.3, 10.4])\n",
      "f1.set_xticks([])\n",
      "f1.set_yticks([])\n",
      "f1.set_title('B Subtilis 50S\\nexpected MW pattern')\n",
      "f1.set_ylabel('log(mw)')\n",
      "plt.savefig('subtilisMWLadder.pdf')\n",
      "plt.savefig('subtilisMWLadder.png')"
     ],
     "language": "python",
     "metadata": {},
     "outputs": [
      {
       "output_type": "display_data",
       "png": "[encoded data removed]"
      }
     ],
     "prompt_number": 99
    },
    {
     "cell_type": "code",
     "collapsed": false,
     "input": [],
     "language": "python",
     "metadata": {},
     "outputs": []
    }
   ],
   "metadata": {}
  }
 ]
}