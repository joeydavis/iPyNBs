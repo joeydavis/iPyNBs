{
 "metadata": {
  "name": ""
 },
 "nbformat": 3,
 "nbformat_minor": 0,
 "worksheets": [
  {
   "cells": [
    {
     "cell_type": "code",
     "collapsed": false,
     "input": [
      "import os\n",
      "import glob"
     ],
     "language": "python",
     "metadata": {},
     "outputs": [],
     "prompt_number": 1
    },
    {
     "cell_type": "code",
     "collapsed": false,
     "input": [
      "workd = '/home/jhdavis/data/2014/2014_06_07-ShapeSeqAnalysis/data/W4/'\n",
      "processors=4\n",
      "mismatches = 1\n",
      "codePlus = 'RRRY'\n",
      "codeMinus = 'YYYR'\n",
      "outputDir = workd+'test/'\n",
      "seqDir = '/home/jhdavis/data/2014/2014_06_07-ShapeSeqAnalysis/23SSeqs/'"
     ],
     "language": "python",
     "metadata": {},
     "outputs": [],
     "prompt_number": 22
    },
    {
     "cell_type": "code",
     "collapsed": false,
     "input": [
      "def index_containing_substring(the_list, substring):\n",
      "    for i, s in enumerate(the_list):\n",
      "        if substring in s:\n",
      "              return i\n",
      "    return -1"
     ],
     "language": "python",
     "metadata": {},
     "outputs": [],
     "prompt_number": 25
    },
    {
     "cell_type": "code",
     "collapsed": false,
     "input": [
      "filesR1 = glob.glob(workd + '*R1_001_sub_*.fastq')\n",
      "filesR1.sort()\n",
      "filesR2 = glob.glob(workd + '*R2_001_sub_*.fastq')\n",
      "filesR2.sort()\n",
      "\n",
      "primList = [i.split('.')[0].split('_')[-1] for i in files[:-1]]\n",
      "seqFiles = glob.glob(seqDir + '*.fa')\n",
      "index_containing_substring(seqFiles, 'AAAATGTGATGAGCCG')"
     ],
     "language": "python",
     "metadata": {},
     "outputs": [
      {
       "metadata": {},
       "output_type": "pyout",
       "prompt_number": 26,
       "text": [
        "12"
       ]
      }
     ],
     "prompt_number": 26
    },
    {
     "cell_type": "code",
     "collapsed": false,
     "input": [
      "for i,f in enumerate(filesR1[:-1]):\n",
      "    outFile = open('/home/jhdavis/pbs_submit'+'_'+primList[i]+'.sh', 'w')\n",
      "    faFile = seqFiles[index_containing_substring(seqFiles, primList[i])]\n",
      "    command = 'spats -p ' + str(processors) + ' -o ' + outputDir + ' --num-mismatches ' + str(mismatches) + ' ' + faFile + ' ' + codePlus + ' ' + codeMinus + ' ' + filesR1[i] + ' ' + filesR2[i]\n",
      "    outFile.write('#!/bin/bash\\n')\n",
      "    outFile.write('#PBS -N Spats_single_run\\n')\n",
      "    outFile.write('#PBS -M ME\\n')\n",
      "    outFile.write('#PBS -l nodes=1:ppn='+str(processors)+',walltime=002:00:00\\n')\n",
      "    outFile.write('#PBS -j oe')\n",
      "    outFile.write('cd $PBS_O_WORKDIR')\n",
      "    outFile.write(command)"
     ],
     "language": "python",
     "metadata": {},
     "outputs": [
      {
       "output_type": "stream",
       "stream": "stdout",
       "text": [
        "spats -p 4 -o /home/jhdavis/data/2014/2014_06_07-ShapeSeqAnalysis/data/W4/test/ --num-mismatches 1 /home/jhdavis/data/2014/2014_06_07-ShapeSeqAnalysis/23SSeqs/23S_2888_+_1_AAAAAGGTTAAGCCTCACGG_rRNASeq.fa RRRY YYYR /home/jhdavis/data/2014/2014_06_07-ShapeSeqAnalysis/data/W4/W4_TGACCA_L001_R1_001_sub_AAAAAGGTTAAGCCTC.fastq /home/jhdavis/data/2014/2014_06_07-ShapeSeqAnalysis/data/W4/W4_TGACCA_L001_R2_001_sub_AAAAAGGTTAAGCCTC.fastq\n",
        "spats -p 4 -o /home/jhdavis/data/2014/2014_06_07-ShapeSeqAnalysis/data/W4/test/ --num-mismatches 1 /home/jhdavis/data/2014/2014_06_07-ShapeSeqAnalysis/23SSeqs/23S_2581_+_1_AAAATGTGATGAGCCGACATCG_rRNASeq.fa RRRY YYYR /home/jhdavis/data/2014/2014_06_07-ShapeSeqAnalysis/data/W4/W4_TGACCA_L001_R1_001_sub_AAAATGTGATGAGCCG.fastq /home/jhdavis/data/2014/2014_06_07-ShapeSeqAnalysis/data/W4/W4_TGACCA_L001_R2_001_sub_AAAATGTGATGAGCCG.fastq\n",
        "spats -p 4 -o /home/jhdavis/data/2014/2014_06_07-ShapeSeqAnalysis/data/W4/test/ --num-mismatches 1 /home/jhdavis/data/2014/2014_06_07-ShapeSeqAnalysis/23SSeqs/23S_jd1695_+_1_AAACATATCAGCGTGCCTTCTCC_rRNASeq.fa RRRY YYYR /home/jhdavis/data/2014/2014_06_07-ShapeSeqAnalysis/data/W4/W4_TGACCA_L001_R1_001_sub_AAACATATCAGCGTGC.fastq /home/jhdavis/data/2014/2014_06_07-ShapeSeqAnalysis/data/W4/W4_TGACCA_L001_R2_001_sub_AAACATATCAGCGTGC.fastq\n",
        "spats -p 4 -o /home/jhdavis/data/2014/2014_06_07-ShapeSeqAnalysis/data/W4/test/ --num-mismatches 1 /home/jhdavis/data/2014/2014_06_07-ShapeSeqAnalysis/23SSeqs/23S_728_+_1_CG_AAACATTAGTCGGTTCGGTCC_rRNASeq.fa RRRY YYYR /home/jhdavis/data/2014/2014_06_07-ShapeSeqAnalysis/data/W4/W4_TGACCA_L001_R1_001_sub_AAACATTAGTCGGTTC.fastq /home/jhdavis/data/2014/2014_06_07-ShapeSeqAnalysis/data/W4/W4_TGACCA_L001_R2_001_sub_AAACATTAGTCGGTTC.fastq\n",
        "spats -p 4 -o /home/jhdavis/data/2014/2014_06_07-ShapeSeqAnalysis/data/W4/test/ --num-mismatches 1 /home/jhdavis/data/2014/2014_06_07-ShapeSeqAnalysis/23SSeqs/23S_jd194_+_1_AAACCTCGGGGTACTTAGATGTTTC_rRNASeq.fa RRRY YYYR /home/jhdavis/data/2014/2014_06_07-ShapeSeqAnalysis/data/W4/W4_TGACCA_L001_R1_001_sub_AAACCTCGGGGTACTT.fastq /home/jhdavis/data/2014/2014_06_07-ShapeSeqAnalysis/data/W4/W4_TGACCA_L001_R2_001_sub_AAACCTCGGGGTACTT.fastq\n",
        "spats -p 4 -o /home/jhdavis/data/2014/2014_06_07-ShapeSeqAnalysis/data/W4/test/ --num-mismatches 1 /home/jhdavis/data/2014/2014_06_07-ShapeSeqAnalysis/23SSeqs/23S_1909_+_1_AAACCTTAGGACCGTTATAGTTACG_rRNASeq.fa RRRY YYYR /home/jhdavis/data/2014/2014_06_07-ShapeSeqAnalysis/data/W4/W4_TGACCA_L001_R1_001_sub_AAACCTTAGGACCGTT.fastq /home/jhdavis/data/2014/2014_06_07-ShapeSeqAnalysis/data/W4/W4_TGACCA_L001_R2_001_sub_AAACCTTAGGACCGTT.fastq\n",
        "spats -p 4 -o /home/jhdavis/data/2014/2014_06_07-ShapeSeqAnalysis/data/W4/test/ --num-mismatches 1 /home/jhdavis/data/2014/2014_06_07-ShapeSeqAnalysis/23SSeqs/23S_1832_+_1_AAACCTTCCGGCACCGGGCAGG_rRNASeq.fa RRRY YYYR /home/jhdavis/data/2014/2014_06_07-ShapeSeqAnalysis/data/W4/W4_TGACCA_L001_R1_001_sub_AAACCTTCCGGCACCG.fastq /home/jhdavis/data/2014/2014_06_07-ShapeSeqAnalysis/data/W4/W4_TGACCA_L001_R2_001_sub_AAACCTTCCGGCACCG.fastq\n",
        "spats -p 4 -o /home/jhdavis/data/2014/2014_06_07-ShapeSeqAnalysis/data/W4/test/ --num-mismatches 1 /home/jhdavis/data/2014/2014_06_07-ShapeSeqAnalysis/23SSeqs/23S_jd2675_+_1_AAACGAACACCAGTGATGCGTC_rRNASeq.fa RRRY YYYR /home/jhdavis/data/2014/2014_06_07-ShapeSeqAnalysis/data/W4/W4_TGACCA_L001_R1_001_sub_AAACGAACACCAGTGA.fastq /home/jhdavis/data/2014/2014_06_07-ShapeSeqAnalysis/data/W4/W4_TGACCA_L001_R2_001_sub_AAACGAACACCAGTGA.fastq\n",
        "spats -p 4 -o /home/jhdavis/data/2014/2014_06_07-ShapeSeqAnalysis/data/W4/test/ --num-mismatches 1 /home/jhdavis/data/2014/2014_06_07-ShapeSeqAnalysis/23SSeqs/23S_2117_+_1_AAACTATAGTAAAGGTTCACGGGG_rRNASeq.fa RRRY YYYR /home/jhdavis/data/2014/2014_06_07-ShapeSeqAnalysis/data/W4/W4_TGACCA_L001_R1_001_sub_AAACTATAGTAAAGGT.fastq /home/jhdavis/data/2014/2014_06_07-ShapeSeqAnalysis/data/W4/W4_TGACCA_L001_R2_001_sub_AAACTATAGTAAAGGT.fastq\n",
        "spats -p 4 -o /home/jhdavis/data/2014/2014_06_07-ShapeSeqAnalysis/data/W4/test/ --num-mismatches 1 /home/jhdavis/data/2014/2014_06_07-ShapeSeqAnalysis/23SSeqs/23S_jd1323_+_1_AAACTCACCCTGCCCCGATTAAC_rRNASeq.fa RRRY YYYR /home/jhdavis/data/2014/2014_06_07-ShapeSeqAnalysis/data/W4/W4_TGACCA_L001_R1_001_sub_AAACTCACCCTGCCCC.fastq /home/jhdavis/data/2014/2014_06_07-ShapeSeqAnalysis/data/W4/W4_TGACCA_L001_R2_001_sub_AAACTCACCCTGCCCC.fastq\n",
        "spats -p 4 -o /home/jhdavis/data/2014/2014_06_07-ShapeSeqAnalysis/data/W4/test/ --num-mismatches 1 /home/jhdavis/data/2014/2014_06_07-ShapeSeqAnalysis/23SSeqs/23S_1109_+_1_AAACTTCCGCGCAGGCCGACTCG_rRNASeq.fa RRRY YYYR /home/jhdavis/data/2014/2014_06_07-ShapeSeqAnalysis/data/W4/W4_TGACCA_L001_R1_001_sub_AAACTTCCGCGCAGGC.fastq /home/jhdavis/data/2014/2014_06_07-ShapeSeqAnalysis/data/W4/W4_TGACCA_L001_R2_001_sub_AAACTTCCGCGCAGGC.fastq\n",
        "spats -p 4 -o /home/jhdavis/data/2014/2014_06_07-ShapeSeqAnalysis/data/W4/test/ --num-mismatches 1 /home/jhdavis/data/2014/2014_06_07-ShapeSeqAnalysis/23SSeqs/23S_jd2253_+_1_AAACTTTAGGAGGAGACCGCC_rRNASeq.fa RRRY YYYR /home/jhdavis/data/2014/2014_06_07-ShapeSeqAnalysis/data/W4/W4_TGACCA_L001_R1_001_sub_AAACTTTAGGAGGAGA.fastq /home/jhdavis/data/2014/2014_06_07-ShapeSeqAnalysis/data/W4/W4_TGACCA_L001_R2_001_sub_AAACTTTAGGAGGAGA.fastq\n",
        "spats -p 4 -o /home/jhdavis/data/2014/2014_06_07-ShapeSeqAnalysis/data/W4/test/ --num-mismatches 1 /home/jhdavis/data/2014/2014_06_07-ShapeSeqAnalysis/23SSeqs/23S_1514_+_1_AAAGCCTCGTCATCACGCCTC_rRNASeq.fa RRRY YYYR /home/jhdavis/data/2014/2014_06_07-ShapeSeqAnalysis/data/W4/W4_TGACCA_L001_R1_001_sub_AAAGCCTCGTCATCAC.fastq /home/jhdavis/data/2014/2014_06_07-ShapeSeqAnalysis/data/W4/W4_TGACCA_L001_R2_001_sub_AAAGCCTCGTCATCAC.fastq\n",
        "spats -p 4 -o /home/jhdavis/data/2014/2014_06_07-ShapeSeqAnalysis/data/W4/test/ --num-mismatches 1 /home/jhdavis/data/2014/2014_06_07-ShapeSeqAnalysis/23SSeqs/23S_jd885_+_1_AAAGGGTTGGTAAGTCGGGATG_rRNASeq.fa RRRY YYYR /home/jhdavis/data/2014/2014_06_07-ShapeSeqAnalysis/data/W4/W4_TGACCA_L001_R1_001_sub_AAAGGGTTGGTAAGTC.fastq /home/jhdavis/data/2014/2014_06_07-ShapeSeqAnalysis/data/W4/W4_TGACCA_L001_R2_001_sub_AAAGGGTTGGTAAGTC.fastq\n",
        "spats -p 4 -o /home/jhdavis/data/2014/2014_06_07-ShapeSeqAnalysis/data/W4/test/ --num-mismatches 1 /home/jhdavis/data/2014/2014_06_07-ShapeSeqAnalysis/23SSeqs/23S_2421_+_1_AAAGTACCTTTTATCCGTTGAGC_rRNASeq.fa RRRY YYYR /home/jhdavis/data/2014/2014_06_07-ShapeSeqAnalysis/data/W4/W4_TGACCA_L001_R1_001_sub_AAAGTACCTTTTATCC.fastq /home/jhdavis/data/2014/2014_06_07-ShapeSeqAnalysis/data/W4/W4_TGACCA_L001_R2_001_sub_AAAGTACCTTTTATCC.fastq\n",
        "spats -p 4 -o /home/jhdavis/data/2014/2014_06_07-ShapeSeqAnalysis/data/W4/test/ --num-mismatches 1 /home/jhdavis/data/2014/2014_06_07-ShapeSeqAnalysis/23SSeqs/23S_367_+_1_AAAGTCCCGCCCTACTCATC_rRNASeq.fa RRRY YYYR /home/jhdavis/data/2014/2014_06_07-ShapeSeqAnalysis/data/W4/W4_TGACCA_L001_R1_001_sub_AAAGTCCCGCCCTACT.fastq /home/jhdavis/data/2014/2014_06_07-ShapeSeqAnalysis/data/W4/W4_TGACCA_L001_R2_001_sub_AAAGTCCCGCCCTACT.fastq\n",
        "spats -p 4 -o /home/jhdavis/data/2014/2014_06_07-ShapeSeqAnalysis/data/W4/test/ --num-mismatches 1 /home/jhdavis/data/2014/2014_06_07-ShapeSeqAnalysis/23SSeqs/23S_jd487_+_1_AAATTTTTCACTCCCCTCGCCG_rRNASeq.fa RRRY YYYR /home/jhdavis/data/2014/2014_06_07-ShapeSeqAnalysis/data/W4/W4_TGACCA_L001_R1_001_sub_AAATTTTTCACTCCCC.fastq /home/jhdavis/data/2014/2014_06_07-ShapeSeqAnalysis/data/W4/W4_TGACCA_L001_R2_001_sub_AAATTTTTCACTCCCC.fastq\n",
        "spats -p 4 -o /home/jhdavis/data/2014/2014_06_07-ShapeSeqAnalysis/data/W4/test/ --num-mismatches 1 /home/jhdavis/data/2014/2014_06_07-ShapeSeqAnalysis/23SSeqs/23S_728_+_1_CCCCAACATTACTCGGTTCGGTCC_rRNASeq.fa RRRY YYYR /home/jhdavis/data/2014/2014_06_07-ShapeSeqAnalysis/data/W4/W4_TGACCA_L001_R1_001_sub_CCCCAACATTACTCGG.fastq /home/jhdavis/data/2014/2014_06_07-ShapeSeqAnalysis/data/W4/W4_TGACCA_L001_R2_001_sub_CCCCAACATTACTCGG.fastq\n"
       ]
      }
     ],
     "prompt_number": 28
    },
    {
     "cell_type": "code",
     "collapsed": false,
     "input": [
      "\n",
      "\n",
      "\n",
      "\n"
     ],
     "language": "python",
     "metadata": {},
     "outputs": []
    },
    {
     "cell_type": "code",
     "collapsed": false,
     "input": [],
     "language": "python",
     "metadata": {},
     "outputs": []
    }
   ],
   "metadata": {}
  }
 ]
}