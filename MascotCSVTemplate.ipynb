{
 "metadata": {
  "name": "MascotCSVTemplate"
 },
 "nbformat": 3,
 "nbformat_minor": 0,
 "worksheets": [
  {
   "cells": [
    {
     "cell_type": "code",
     "collapsed": false,
     "input": [
      "import qMS\n",
      "import vizLib\n",
      "import glob\n",
      "import pandas\n",
      "import numpy\n",
      "import pylab\n",
      "import glob"
     ],
     "language": "python",
     "metadata": {},
     "outputs": [],
     "prompt_number": 1
    },
    {
     "cell_type": "code",
     "collapsed": false,
     "input": [
      "path = '/home/jhdavis/JStokes/2014_01_15-JStokesTTOFGradientAllMascot/grad/'\n",
      "files = glob.glob(path+'*.xls')\n",
      "files = qMS.sort_nicely(files)\n"
     ],
     "language": "python",
     "metadata": {},
     "outputs": [],
     "prompt_number": 2
    },
    {
     "cell_type": "code",
     "collapsed": false,
     "input": [
      "for i in files:\n",
      "    fn = i.split('/')[-1].split('.')[0]\n",
      "    qMS.outputSpectralCounts(i, '/home/jhdavis/JStokes/2014_01_15-JStokesTTOFGradientAllMascot/spectralCounts/'+fn+'.csv')\n"
     ],
     "language": "python",
     "metadata": {},
     "outputs": []
    },
    {
     "cell_type": "code",
     "collapsed": false,
     "input": [
      "path = '/home/jhdavis/JStokes/2014_01_15-JStokesTTOFGradientAllMascot/spectralCounts/'\n",
      "wtFiles = glob.glob(path+'wt*.csv')\n",
      "wtFiles"
     ],
     "language": "python",
     "metadata": {},
     "outputs": [
      {
       "output_type": "pyout",
       "prompt_number": 3,
       "text": [
        "['/home/jhdavis/JStokes/2014_01_15-JStokesTTOFGradientAllMascot/spectralCounts/wt54.csv',\n",
        " '/home/jhdavis/JStokes/2014_01_15-JStokesTTOFGradientAllMascot/spectralCounts/wt50.csv',\n",
        " '/home/jhdavis/JStokes/2014_01_15-JStokesTTOFGradientAllMascot/spectralCounts/wt33.csv',\n",
        " '/home/jhdavis/JStokes/2014_01_15-JStokesTTOFGradientAllMascot/spectralCounts/wt47.csv',\n",
        " '/home/jhdavis/JStokes/2014_01_15-JStokesTTOFGradientAllMascot/spectralCounts/wt41.csv',\n",
        " '/home/jhdavis/JStokes/2014_01_15-JStokesTTOFGradientAllMascot/spectralCounts/wt62.csv',\n",
        " '/home/jhdavis/JStokes/2014_01_15-JStokesTTOFGradientAllMascot/spectralCounts/wt38.csv',\n",
        " '/home/jhdavis/JStokes/2014_01_15-JStokesTTOFGradientAllMascot/spectralCounts/wt35.csv',\n",
        " '/home/jhdavis/JStokes/2014_01_15-JStokesTTOFGradientAllMascot/spectralCounts/wt40.csv',\n",
        " '/home/jhdavis/JStokes/2014_01_15-JStokesTTOFGradientAllMascot/spectralCounts/wt53.csv',\n",
        " '/home/jhdavis/JStokes/2014_01_15-JStokesTTOFGradientAllMascot/spectralCounts/wt34.csv',\n",
        " '/home/jhdavis/JStokes/2014_01_15-JStokesTTOFGradientAllMascot/spectralCounts/wt57.csv',\n",
        " '/home/jhdavis/JStokes/2014_01_15-JStokesTTOFGradientAllMascot/spectralCounts/wt46.csv',\n",
        " '/home/jhdavis/JStokes/2014_01_15-JStokesTTOFGradientAllMascot/spectralCounts/wt42.csv',\n",
        " '/home/jhdavis/JStokes/2014_01_15-JStokesTTOFGradientAllMascot/spectralCounts/wt56.csv',\n",
        " '/home/jhdavis/JStokes/2014_01_15-JStokesTTOFGradientAllMascot/spectralCounts/wt36.csv',\n",
        " '/home/jhdavis/JStokes/2014_01_15-JStokesTTOFGradientAllMascot/spectralCounts/wt43.csv',\n",
        " '/home/jhdavis/JStokes/2014_01_15-JStokesTTOFGradientAllMascot/spectralCounts/wt39.csv',\n",
        " '/home/jhdavis/JStokes/2014_01_15-JStokesTTOFGradientAllMascot/spectralCounts/wt60.csv',\n",
        " '/home/jhdavis/JStokes/2014_01_15-JStokesTTOFGradientAllMascot/spectralCounts/wt52.csv',\n",
        " '/home/jhdavis/JStokes/2014_01_15-JStokesTTOFGradientAllMascot/spectralCounts/wt48.csv',\n",
        " '/home/jhdavis/JStokes/2014_01_15-JStokesTTOFGradientAllMascot/spectralCounts/wt55.csv',\n",
        " '/home/jhdavis/JStokes/2014_01_15-JStokesTTOFGradientAllMascot/spectralCounts/wt44.csv',\n",
        " '/home/jhdavis/JStokes/2014_01_15-JStokesTTOFGradientAllMascot/spectralCounts/wt51.csv',\n",
        " '/home/jhdavis/JStokes/2014_01_15-JStokesTTOFGradientAllMascot/spectralCounts/wt32.csv',\n",
        " '/home/jhdavis/JStokes/2014_01_15-JStokesTTOFGradientAllMascot/spectralCounts/wt49.csv',\n",
        " '/home/jhdavis/JStokes/2014_01_15-JStokesTTOFGradientAllMascot/spectralCounts/wt45.csv',\n",
        " '/home/jhdavis/JStokes/2014_01_15-JStokesTTOFGradientAllMascot/spectralCounts/wt58.csv',\n",
        " '/home/jhdavis/JStokes/2014_01_15-JStokesTTOFGradientAllMascot/spectralCounts/wt37.csv']"
       ]
      }
     ],
     "prompt_number": 3
    },
    {
     "cell_type": "code",
     "collapsed": false,
     "input": [],
     "language": "python",
     "metadata": {},
     "outputs": []
    }
   ],
   "metadata": {}
  }
 ]
}