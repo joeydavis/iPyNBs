{
 "metadata": {
  "name": ""
 },
 "nbformat": 3,
 "nbformat_minor": 0,
 "worksheets": [
  {
   "cells": [
    {
     "cell_type": "code",
     "collapsed": false,
     "input": [
      "import os\n",
      "import glob"
     ],
     "language": "python",
     "metadata": {},
     "outputs": [],
     "prompt_number": 1
    },
    {
     "cell_type": "code",
     "collapsed": false,
     "input": [
      "workd = '/home/jhdavis/data/2014/2014_06_07-ShapeSeqAnalysis/data/W4/'\n",
      "processors=4\n",
      "mismatches = 1\n",
      "codePlus = 'RRRY'\n",
      "codeMinus = 'YYYR'"
     ],
     "language": "python",
     "metadata": {},
     "outputs": [],
     "prompt_number": 3
    },
    {
     "cell_type": "code",
     "collapsed": false,
     "input": [
      "files = glob.glob(workd + '*R1_001_sub_*.fastq')\n",
      "primList = [i.split('.')[0].split('_')[-1] for i in files]\n"
     ],
     "language": "python",
     "metadata": {},
     "outputs": [],
     "prompt_number": 4
    },
    {
     "cell_type": "code",
     "collapsed": false,
     "input": [
      "outFile = open('/home/jhdavis/pbs_submit.sh', 'w')"
     ],
     "language": "python",
     "metadata": {},
     "outputs": []
    },
    {
     "cell_type": "code",
     "collapsed": false,
     "input": [
      "outFile.write('#!/bin/bash\\n')\n",
      "outFile.write('#PBS -N Spats_single_run\\n')\n",
      "outFile.write('#PBS -M ME\\n')\n",
      "outFile.write('#PBS -l nodes=1:ppn='+str(processors)+',walltime=002:00:00\\n')\n",
      "outFile.write('#PBS -j oe')\n",
      "outFile.write('cd $PBS_O_WORKDIR')\n",
      "outFile.write('\n",
      "\n",
      "\n",
      "\n"
     ],
     "language": "python",
     "metadata": {},
     "outputs": []
    },
    {
     "cell_type": "code",
     "collapsed": false,
     "input": [
      "command = 'spats -p ' + str(processors) + ' -o ' + outputDir + ' --num-mismatches ' + str(mismatches) + ' ' + faFile + ' ' + codePlus + ' ' + codeMinus + ' ' + r1 + ' ' + r2"
     ],
     "language": "python",
     "metadata": {},
     "outputs": []
    }
   ],
   "metadata": {}
  }
 ]
}