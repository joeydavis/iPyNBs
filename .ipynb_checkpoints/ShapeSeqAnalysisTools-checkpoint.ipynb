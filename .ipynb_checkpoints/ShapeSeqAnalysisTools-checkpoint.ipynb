{
 "metadata": {
  "name": ""
 },
 "nbformat": 3,
 "nbformat_minor": 0,
 "worksheets": [
  {
   "cells": [
    {
     "cell_type": "code",
     "collapsed": false,
     "input": [
      "import pylab\n",
      "import numpy\n",
      "import scipy\n",
      "import pandas\n",
      "import HTSeq\n",
      "import itertools\n",
      "import qMS"
     ],
     "language": "python",
     "metadata": {},
     "outputs": [],
     "prompt_number": 1
    },
    {
     "cell_type": "code",
     "collapsed": false,
     "input": [
      "def truncateReads(fileR1, fileR2, readLength, extension='trunc_', readsToUse=500000000):\n",
      "    fastq_fileR1 = HTSeq.FastqReader(fileR1)\n",
      "    fastq_fileR2 = HTSeq.FastqReader(fileR2)\n",
      "    outFileR1 = open(fastq_fileR1.split('.')[0] + extension + str(readLength) + '.fastq', 'w')\n",
      "    outFileR2 = open(fastq_fileR1.split('.')[0] + extension + str(readLength) + '.fastq', 'w')\n",
      "    readsToUse = 5000000\n",
      "    readPairs = itertools.izip(fastq_fileR1, fastq_fileR2)\n",
      "    count = 0\n",
      "    while count < readsToUse:\n",
      "        try:\n",
      "            r1, r2 = readPairs.next()\n",
      "            r1Trunc = r1[0:rl]\n",
      "            r2Trunc = r2[0:rl]\n",
      "            r1Trunc.write_to_fastq_file(outFileR1)\n",
      "            r2Trunc.write_to_fastq_file(outFileR2)\n",
      "            count = count+1\n",
      "        except StopIteration:\n",
      "            break\n",
      "    \n",
      "    outFileR1.close()\n",
      "    outFileR2.close()\n"
     ],
     "language": "python",
     "metadata": {},
     "outputs": [],
     "prompt_number": 2
    },
    {
     "cell_type": "code",
     "collapsed": false,
     "input": [
      "def findIndexCode (fastq_file, numReads):\n",
      "    codeHash = {}\n",
      "    for read in itertools.islice(fastq_file, numReads):\n",
      "        code = ''.join([mapRY[str(b)] for b in read.seq[0:4]])\n",
      "        try:\n",
      "            codeHash[code] = codeHash[code] + 1\n",
      "        except KeyError:\n",
      "            codeHash[code] = 1\n",
      "    return codeHash"
     ],
     "language": "python",
     "metadata": {},
     "outputs": [],
     "prompt_number": 3
    },
    {
     "cell_type": "code",
     "collapsed": false,
     "input": [
      "mapRY = {'A' : 'R', 'G' : 'R',\n",
      "         'C' : 'Y', 'T' : 'Y',\n",
      "         'N' : 'N'}"
     ],
     "language": "python",
     "metadata": {},
     "outputs": [],
     "prompt_number": 4
    },
    {
     "cell_type": "code",
     "collapsed": false,
     "input": [],
     "language": "python",
     "metadata": {},
     "outputs": []
    }
   ],
   "metadata": {}
  }
 ]
}