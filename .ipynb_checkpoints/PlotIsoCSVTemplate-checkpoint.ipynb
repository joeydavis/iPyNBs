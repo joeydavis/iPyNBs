{
 "metadata": {
  "name": ""
 },
 "nbformat": 3,
 "nbformat_minor": 0,
 "worksheets": [
  {
   "cells": [
    {
     "cell_type": "code",
     "collapsed": false,
     "input": [
      "import qMS\n",
      "import pylab\n",
      "import glob\n",
      "import pandas\n",
      "import numpy\n",
      "import vizLib\n",
      "import matplotlib.pyplot as plt\n",
      "import qMSDefs"
     ],
     "language": "python",
     "metadata": {},
     "outputs": [],
     "prompt_number": 5
    },
    {
     "cell_type": "code",
     "collapsed": false,
     "input": [
      "path = '/home/jhdavis/data/2014/subunitSamples/'\n",
      "num = ['AMP_U']\n",
      "den = ['AMP_S']\n",
      "files = glob.glob(path+'*_res_filt*.csv')\n",
      "files = qMS.sort_nicely(files)\n",
      "names = ['spkAlone', '1043_45S:RbgAF6A', '1051_44SRbgAF6A,L6R70P', '1055_44SRbgAF6A,L6R3C', '1057_44SRbgAF6A,L6H66L', '1068_44SRbgAF6A,L6G6C', '1043_70S', '1051_70S', '1055_70S', '1057_70S', '1068_70S']\n",
      "#files\n",
      "savePlot=False"
     ],
     "language": "python",
     "metadata": {},
     "outputs": [
      {
       "ename": "NameError",
       "evalue": "name 'glob' is not defined",
       "output_type": "pyerr",
       "traceback": [
        "\u001b[0;31m---------------------------------------------------------------------------\u001b[0m\n\u001b[0;31mNameError\u001b[0m                                 Traceback (most recent call last)",
        "\u001b[0;32m<ipython-input-1-8cce10e9ea3c>\u001b[0m in \u001b[0;36m<module>\u001b[0;34m()\u001b[0m\n\u001b[1;32m      2\u001b[0m \u001b[0mnum\u001b[0m \u001b[0;34m=\u001b[0m \u001b[0;34m[\u001b[0m\u001b[0;34m'AMP_U'\u001b[0m\u001b[0;34m]\u001b[0m\u001b[0;34m\u001b[0m\u001b[0m\n\u001b[1;32m      3\u001b[0m \u001b[0mden\u001b[0m \u001b[0;34m=\u001b[0m \u001b[0;34m[\u001b[0m\u001b[0;34m'AMP_S'\u001b[0m\u001b[0;34m]\u001b[0m\u001b[0;34m\u001b[0m\u001b[0m\n\u001b[0;32m----> 4\u001b[0;31m \u001b[0mfiles\u001b[0m \u001b[0;34m=\u001b[0m \u001b[0mglob\u001b[0m\u001b[0;34m.\u001b[0m\u001b[0mglob\u001b[0m\u001b[0;34m(\u001b[0m\u001b[0mpath\u001b[0m\u001b[0;34m+\u001b[0m\u001b[0;34m'*_res_filt*.csv'\u001b[0m\u001b[0;34m)\u001b[0m\u001b[0;34m\u001b[0m\u001b[0m\n\u001b[0m\u001b[1;32m      5\u001b[0m \u001b[0mfiles\u001b[0m \u001b[0;34m=\u001b[0m \u001b[0mqMS\u001b[0m\u001b[0;34m.\u001b[0m\u001b[0msort_nicely\u001b[0m\u001b[0;34m(\u001b[0m\u001b[0mfiles\u001b[0m\u001b[0;34m)\u001b[0m\u001b[0;34m\u001b[0m\u001b[0m\n\u001b[1;32m      6\u001b[0m \u001b[0mnames\u001b[0m \u001b[0;34m=\u001b[0m \u001b[0;34m[\u001b[0m\u001b[0;34m'spkAlone'\u001b[0m\u001b[0;34m,\u001b[0m \u001b[0;34m'1043_45S:RbgAF6A'\u001b[0m\u001b[0;34m,\u001b[0m \u001b[0;34m'1051_44SRbgAF6A,L6R70P'\u001b[0m\u001b[0;34m,\u001b[0m \u001b[0;34m'1055_44SRbgAF6A,L6R3C'\u001b[0m\u001b[0;34m,\u001b[0m \u001b[0;34m'1057_44SRbgAF6A,L6H66L'\u001b[0m\u001b[0;34m,\u001b[0m \u001b[0;34m'1068_44SRbgAF6A,L6G6C'\u001b[0m\u001b[0;34m,\u001b[0m \u001b[0;34m'1043_70S'\u001b[0m\u001b[0;34m,\u001b[0m \u001b[0;34m'1051_70S'\u001b[0m\u001b[0;34m,\u001b[0m \u001b[0;34m'1055_70S'\u001b[0m\u001b[0;34m,\u001b[0m \u001b[0;34m'1057_70S'\u001b[0m\u001b[0;34m,\u001b[0m \u001b[0;34m'1068_70S'\u001b[0m\u001b[0;34m]\u001b[0m\u001b[0;34m\u001b[0m\u001b[0m\n",
        "\u001b[0;31mNameError\u001b[0m: name 'glob' is not defined"
       ]
      }
     ],
     "prompt_number": 1
    },
    {
     "cell_type": "code",
     "collapsed": false,
     "input": [
      "vizLib.setRcs(scale=16, legendScale=12, axisLineWidth=1)\n",
      "colors = vizLib.getBCs('q',6)\n",
      "filePath='/home/jhdavis/Dropbox/WilliamsonLab/Notebooks/ByDate/07/2014_05_06-BrittonPLOSSubunits/'"
     ],
     "language": "python",
     "metadata": {},
     "outputs": [],
     "prompt_number": 7
    },
    {
     "cell_type": "code",
     "collapsed": false,
     "input": [
      "f = pylab.figure()\n",
      "subunit = qMSDefs.subtilisLargeSubunit\n",
      "subunit.remove('BSubL09')\n",
      "yMax = 5.0\n",
      "figSize = [22,8]\n",
      "median = False\n",
      "normProtein = None\n",
      "markerSize=8\n",
      "highlightMed=True\n",
      "noFill = False\n",
      "hms=1.5\n",
      "alpha=0.25\n",
      "legend=True\n",
      "title='raw spectra'\n",
      "legendCols=6\n",
      "\n",
      "larray = []\n",
      "for i in range(0,6):\n",
      "    l = pylab.Line2D(range(1),range(1),color=colors[i],marker='o',markersize=markerSize*hms, markerfacecolor=colors[i],alpha=1.0)\n",
      "    larray.append(l)\n",
      "markerSize = 6\n",
      "\n",
      "a = vizLib.makePlotWithFileList(files[:6], num, den, subunits=subunit, yMax=yMax, colors=colors, noFill = noFill,\n",
      "                                names=names[:6], figSize=figSize, median=median, normProtein=normProtein, \n",
      "                                markerSize=markerSize, highlightMed=highlightMed, alpha=alpha, hms=hms, \n",
      "                                legend=legend, title=title, legendCols=legendCols)\n",
      "a.set_xlabel('protein name')\n",
      "a.set_ylabel('14N / 15N', multialignment = 'center')\n",
      "a.legend(larray,[namesList[i][1] for i in range(0,6)],numpoints=1,loc=loc, bbox_to_anchor=bbox_to_anchor,ncol=ncol, fancybox=False, shadow=False)\n",
      "vizLib.cleanAxis(a, ticksOnly=True)"
     ],
     "language": "python",
     "metadata": {},
     "outputs": [
      {
       "metadata": {},
       "output_type": "pyout",
       "prompt_number": 10,
       "text": [
        "[(0.8941176470588236, 0.10196078431372549, 0.10980392156862745),\n",
        " (0.21568627450980393, 0.49411764705882355, 0.7215686274509804),\n",
        " (0.30196078431372547, 0.6862745098039216, 0.2901960784313726),\n",
        " (0.596078431372549, 0.3058823529411765, 0.6392156862745098),\n",
        " (1.0, 0.4980392156862745, 0.0)]"
       ]
      }
     ],
     "prompt_number": 10
    },
    {
     "cell_type": "code",
     "collapsed": false,
     "input": [
      "#dictOfDF = qMS.correctListOfFiles(files[0], files[1:], extension='_corrPLOS0')"
     ],
     "language": "python",
     "metadata": {},
     "outputs": []
    },
    {
     "cell_type": "code",
     "collapsed": false,
     "input": [
      "path = '/home/jhdavis/data/2014/subunitSamples/'\n",
      "num = ['AMP_U']\n",
      "den = ['AMP_S']\n",
      "corFiles = glob.glob(path+'*_res_filt*.csv_*')\n",
      "corFiles = qMS.sort_nicely(corFiles)\n",
      "corNames = names[1:]\n",
      "colors = vizLib.getBCs('q',9)\n",
      "colors.append('grey')"
     ],
     "language": "python",
     "metadata": {},
     "outputs": []
    },
    {
     "cell_type": "code",
     "collapsed": false,
     "input": [
      "f = pylab.figure()\n",
      "subunit = qMSDefs.subtilisLargeSubunit\n",
      "#subunit.remove('BSubL09')\n",
      "yMax = 2.5\n",
      "figSize = [22,8]\n",
      "median = False\n",
      "normProtein = 'BSubL20'\n",
      "markerSize=8\n",
      "highlightMed=True\n",
      "noFill = False\n",
      "hms=1.5\n",
      "alpha=0.25\n",
      "legend=True\n",
      "title='corected spectra'\n",
      "legendCols=6\n",
      "\n",
      "larray = []\n",
      "for i in range(0,6):\n",
      "    l = pylab.Line2D(range(1),range(1),color=colors[i],marker='o',markersize=markerSize*hms, markerfacecolor=colors[i],alpha=1.0)\n",
      "    larray.append(l)\n",
      "markerSize = 6\n",
      "\n",
      "a = vizLib.makePlotWithFileList(corFiles[:5], num, den, subunits=subunit, yMax=yMax, colors=colors, noFill = noFill,\n",
      "                                names=corNames[:5], figSize=figSize, median=median, normProtein=normProtein, \n",
      "                                markerSize=markerSize, highlightMed=highlightMed, alpha=alpha, hms=hms, \n",
      "                                legend=legend, title=title, legendCols=legendCols)\n",
      "a.set_xlabel('protein name')\n",
      "a.set_ylabel('14N / 15N cor [norm L20]', multialignment = 'center')\n",
      "a.legend(larray,[namesList[i][1] for i in range(0,6)],numpoints=1,loc=loc, bbox_to_anchor=bbox_to_anchor,ncol=ncol, fancybox=False, shadow=False)\n",
      "vizLib.cleanAxis(a, ticksOnly=True)\n",
      "if savePlot:\n",
      "    pylab.savefig(filePath + 'subunitsCorrLarge.png', bbox_inches='tight', dpi=300)"
     ],
     "language": "python",
     "metadata": {},
     "outputs": []
    }
   ],
   "metadata": {}
  }
 ]
}