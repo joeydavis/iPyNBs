{
 "metadata": {
  "name": "FindPrimerBindingSites"
 },
 "nbformat": 3,
 "nbformat_minor": 0,
 "worksheets": [
  {
   "cells": [
    {
     "cell_type": "code",
     "collapsed": false,
     "input": [
      "import glob\n",
      "import os\n",
      "import sys\n",
      "import csv"
     ],
     "language": "python",
     "metadata": {},
     "outputs": [],
     "prompt_number": 42
    },
    {
     "cell_type": "code",
     "collapsed": false,
     "input": [
      "smallPs = [r for r in csv.reader(open('/home/jhdavis/data/2013_06_30-primers/16SPrimers.txt', 'r'), delimiter='\\t')]"
     ],
     "language": "python",
     "metadata": {},
     "outputs": [],
     "prompt_number": 43
    },
    {
     "cell_type": "code",
     "collapsed": false,
     "input": [
      "largePs = [r for r in csv.reader(open('/home/jhdavis/data/2013_06_30-primers/23SPrimers.txt', 'r'), delimiter='\\t')]"
     ],
     "language": "python",
     "metadata": {},
     "outputs": [],
     "prompt_number": 44
    },
    {
     "cell_type": "code",
     "collapsed": false,
     "input": [
      "smallrRNAReader = csv.reader(open('/home/jhdavis/data/2013_06_30-primers/16SrRNA.txt', 'r'), delimiter='\\t')\n",
      "smallrRNA = ''\n",
      "for l in smallrRNAReader:\n",
      "    smallrRNA = smallrRNA + l[0]\n",
      "smrRNAUTs = smallrRNA.replace('U', 'T')\n",
      "\n",
      "largerRNAReader = csv.reader(open('/home/jhdavis/data/2013_06_30-primers/23SrRNA.txt', 'r'), delimiter='\\t')\n",
      "largerRNA = ''\n",
      "for l in largerRNAReader:\n",
      "    largerRNA = largerRNA + l[0]\n",
      "lgrRNAUTs = largerRNA.replace('U', 'T')"
     ],
     "language": "python",
     "metadata": {},
     "outputs": [],
     "prompt_number": 45
    },
    {
     "cell_type": "code",
     "collapsed": false,
     "input": [
      "def rc(s):\n",
      "    s=s.upper()\n",
      "    basecomplement = {'A':'T', 'C':'G', 'T':'A', 'G':'C'}\n",
      "    dna=''\n",
      "    for base in s:\n",
      "        dna += basecomplement[base]\n",
      "    return dna[::-1]"
     ],
     "language": "python",
     "metadata": {},
     "outputs": [],
     "prompt_number": 46
    },
    {
     "cell_type": "code",
     "collapsed": false,
     "input": [
      "for i in smallPs:\n",
      "    print i[0] + \":\"+ i[1] + \" :: \" + str(smrRNAUTs.find(rc(i[1]))+1)"
     ],
     "language": "python",
     "metadata": {},
     "outputs": [
      {
       "output_type": "stream",
       "stream": "stdout",
       "text": [
        "559:CTTTACGCCCAGTAATT :: 559\n",
        "947:TCGAATTAAACCACA :: 950\n",
        "1452:GTAAGCGCCCTCCCG :: 1452\n",
        "1492:CCTACGGTTACCTTGTTACGACTT :: 1492\n"
       ]
      }
     ],
     "prompt_number": 47
    },
    {
     "cell_type": "code",
     "collapsed": false,
     "input": [
      "for i in largePs:\n",
      "    print i[0] + \":\"+ i[1] + \" :: \" + str(lgrRNAUTs.find(rc(i[1]))+1)"
     ],
     "language": "python",
     "metadata": {},
     "outputs": [
      {
       "output_type": "stream",
       "stream": "stdout",
       "text": [
        "367:GTCCCGCCCTACTCATC :: 367\n",
        "728:CAACATTACTCGGTTCGGTCC :: 0\n",
        "1109:CTTCCGCGCAGGCCGACTCG :: 1109\n",
        "1514:GCCTCGTCATCACGCCTC :: 1513\n",
        "1832:CCTTCCGGCACCGGGCAGG :: 1831\n",
        "1909:CCTTAGGACCGTTATAGTTACG :: 1910\n",
        "2117:CTATAGTAAAGGTTCACGGGG :: 2064\n",
        "2421:GTACCTTTTATCCGTTGAGC :: 2422\n",
        "2581:ATGTGATGAGCCGACATCG :: 2502\n",
        "2888:AAGGTTAAGCCTCACGG :: 2889\n"
       ]
      }
     ],
     "prompt_number": 48
    },
    {
     "cell_type": "code",
     "collapsed": false,
     "input": [],
     "language": "python",
     "metadata": {},
     "outputs": []
    }
   ],
   "metadata": {}
  }
 ]
}