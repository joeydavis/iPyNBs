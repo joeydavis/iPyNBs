{
 "metadata": {
  "name": ""
 },
 "nbformat": 3,
 "nbformat_minor": 0,
 "worksheets": [
  {
   "cells": [
    {
     "cell_type": "code",
     "collapsed": false,
     "input": [
      "import pandas\n",
      "import numpy\n",
      "import pylab\n",
      "import glob\n",
      "import qMS"
     ],
     "language": "python",
     "metadata": {},
     "outputs": [],
     "prompt_number": 12
    },
    {
     "cell_type": "code",
     "collapsed": false,
     "input": [
      "f = glob.glob('/home/jhdavis/*.csv')[0]\n",
      "f"
     ],
     "language": "python",
     "metadata": {},
     "outputs": [
      {
       "metadata": {},
       "output_type": "pyout",
       "prompt_number": 13,
       "text": [
        "'/home/jhdavis/14N1_70S_New.csv'"
       ]
      }
     ],
     "prompt_number": 13
    },
    {
     "cell_type": "code",
     "collapsed": false,
     "input": [
      "i = pandas.read_csv(f, header=59)\n",
      "i['isotope'] = i.apply(qMS.findIsotope, axis=1)\n",
      "allProteinsLight = list(i[i['isotope']=='Light']['prot_acc'].unique())\n",
      "allProteinsLight"
     ],
     "language": "python",
     "metadata": {},
     "outputs": [
      {
       "metadata": {},
       "output_type": "pyout",
       "prompt_number": 43,
       "text": [
        "['RL9_ECO24',\n",
        " 'RS4_ECO24',\n",
        " 'FLIC_ECOLI',\n",
        " 'RL5_ECO24',\n",
        " 'RL4_ECO24',\n",
        " 'RL6_ECO24',\n",
        " 'RS7_ECO24',\n",
        " 'RL10_ECO24',\n",
        " 'RL1_ECO27',\n",
        " 'RL16_ECO24',\n",
        " 'RL17_ECO24',\n",
        " 'RL3_ECO24',\n",
        " 'RS5_ECO24',\n",
        " 'RS3_ECO24',\n",
        " 'RS10_ECO24',\n",
        " 'RL7_ECO24',\n",
        " 'RL11_ECO24',\n",
        " 'RS13_ECO57',\n",
        " 'RS2_ECO24',\n",
        " 'RL24_ECO24',\n",
        " 'RL2_ECO24',\n",
        " 'RL29_ECO24',\n",
        " 'RL15_ECO24',\n",
        " 'RL20_ECO24',\n",
        " 'RL22_ECO24',\n",
        " 'RS16_ECO24',\n",
        " 'RL25_ECO24',\n",
        " 'RS6_ECO24',\n",
        " 'RS11_ECO24',\n",
        " 'RS9_ECO24',\n",
        " 'RL14_ECO24',\n",
        " 'RL30_ECO24',\n",
        " 'HRPA_ECOLI',\n",
        " 'RL21_ECO24',\n",
        " 'RL28_ECO24',\n",
        " 'RS8_ECO24',\n",
        " 'CARB_ECOLI',\n",
        " 'YGAQ_ECO57',\n",
        " 'RL27_ECO24',\n",
        " 'RL19_ECO24',\n",
        " 'MDFA_ECOLI',\n",
        " 'RL13_ECO24',\n",
        " 'RL18_ECO24',\n",
        " 'YIBL_ECOLI',\n",
        " 'PET_ECOLX',\n",
        " 'T1SE_ECOLX']"
       ]
      }
     ],
     "prompt_number": 43
    },
    {
     "cell_type": "code",
     "collapsed": false,
     "input": [
      "nonRPCount = 0\n",
      "RPCount = 0\n",
      "for i in allProteinsLight:\n",
      "    if (i[0:2] == 'RL') | (i[0:2] == 'RS'):\n",
      "        RPCount +=1\n",
      "    else:\n",
      "        nonRPCount +=1\n",
      "totalCount = RPCount+nonRPCount\n",
      "print 'rp = ' + str(RPCount)\n",
      "print 'nonrp = ' + str(nonRPCount)\n",
      "print 'totalCount = ' + str(totalCount)\n",
      "print 'total makes sense ' + str(totalCount == len(allProteinsLight))"
     ],
     "language": "python",
     "metadata": {},
     "outputs": [
      {
       "output_type": "stream",
       "stream": "stdout",
       "text": [
        "rp = 38\n",
        "nonrp = 8\n",
        "totalCount = 46\n",
        "total makes sense True\n"
       ]
      }
     ],
     "prompt_number": 34
    },
    {
     "cell_type": "code",
     "collapsed": false,
     "input": [
      "allProteinsLight"
     ],
     "language": "python",
     "metadata": {},
     "outputs": [
      {
       "metadata": {},
       "output_type": "pyout",
       "prompt_number": 36,
       "text": [
        "['RL9_ECO24',\n",
        " 'RS4_ECO24',\n",
        " 'FLIC_ECOLI',\n",
        " 'RL5_ECO24',\n",
        " 'RL4_ECO24',\n",
        " 'RL6_ECO24',\n",
        " 'RS7_ECO24',\n",
        " 'RL10_ECO24',\n",
        " 'RL1_ECO27',\n",
        " 'RL16_ECO24',\n",
        " 'RL17_ECO24',\n",
        " 'RL3_ECO24',\n",
        " 'RS5_ECO24',\n",
        " 'RS3_ECO24',\n",
        " 'RS10_ECO24',\n",
        " 'RL7_ECO24',\n",
        " 'RL11_ECO24',\n",
        " 'RS13_ECO57',\n",
        " 'RS2_ECO24',\n",
        " 'RL24_ECO24',\n",
        " 'RL2_ECO24',\n",
        " 'RL29_ECO24',\n",
        " 'RL15_ECO24',\n",
        " 'RL20_ECO24',\n",
        " 'RL22_ECO24',\n",
        " 'RS16_ECO24',\n",
        " 'RL25_ECO24',\n",
        " 'RS6_ECO24',\n",
        " 'RS11_ECO24',\n",
        " 'RS9_ECO24',\n",
        " 'RL14_ECO24',\n",
        " 'RL30_ECO24',\n",
        " 'HRPA_ECOLI',\n",
        " 'RL21_ECO24',\n",
        " 'RL28_ECO24',\n",
        " 'RS8_ECO24',\n",
        " 'CARB_ECOLI',\n",
        " 'YGAQ_ECO57',\n",
        " 'RL27_ECO24',\n",
        " 'RL19_ECO24',\n",
        " 'MDFA_ECOLI',\n",
        " 'RL13_ECO24',\n",
        " 'RL18_ECO24',\n",
        " 'YIBL_ECOLI',\n",
        " 'PET_ECOLX',\n",
        " 'T1SE_ECOLX']"
       ]
      }
     ],
     "prompt_number": 36
    },
    {
     "cell_type": "code",
     "collapsed": false,
     "input": [
      "test = allProteinsLight[0]"
     ],
     "language": "python",
     "metadata": {},
     "outputs": [],
     "prompt_number": 46
    },
    {
     "cell_type": "code",
     "collapsed": false,
     "input": [],
     "language": "python",
     "metadata": {},
     "outputs": [
      {
       "ename": "TypeError",
       "evalue": "string indices must be integers, not tuple",
       "output_type": "pyerr",
       "traceback": [
        "\u001b[0;31m---------------------------------------------------------------------------\u001b[0m\n\u001b[0;31mTypeError\u001b[0m                                 Traceback (most recent call last)",
        "\u001b[0;32m<ipython-input-51-1206a9b7087a>\u001b[0m in \u001b[0;36m<module>\u001b[0;34m()\u001b[0m\n\u001b[0;32m----> 1\u001b[0;31m \u001b[0mtest\u001b[0m\u001b[0;34m[\u001b[0m\u001b[0;36m1\u001b[0m\u001b[0;34m,\u001b[0m\u001b[0;36m2\u001b[0m\u001b[0;34m,\u001b[0m\u001b[0;36m2\u001b[0m\u001b[0;34m]\u001b[0m\u001b[0;34m\u001b[0m\u001b[0m\n\u001b[0m",
        "\u001b[0;31mTypeError\u001b[0m: string indices must be integers, not tuple"
       ]
      }
     ],
     "prompt_number": 51
    },
    {
     "cell_type": "code",
     "collapsed": false,
     "input": [],
     "language": "python",
     "metadata": {},
     "outputs": []
    }
   ],
   "metadata": {}
  }
 ]
}